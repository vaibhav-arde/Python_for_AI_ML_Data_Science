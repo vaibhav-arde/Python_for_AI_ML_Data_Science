{
 "cells": [
  {
   "cell_type": "code",
   "execution_count": 1,
   "id": "27e798c7",
   "metadata": {},
   "outputs": [
    {
     "name": "stdout",
     "output_type": "stream",
     "text": [
      "This is Kolhapur\n"
     ]
    }
   ],
   "source": [
    "print(\"This is Kolhapur\")"
   ]
  },
  {
   "cell_type": "markdown",
   "id": "21d5c128",
   "metadata": {},
   "source": [
    "## Variable"
   ]
  },
  {
   "cell_type": "code",
   "execution_count": 2,
   "id": "0a61c2e6",
   "metadata": {},
   "outputs": [],
   "source": [
    "name =\"VaibhaV\""
   ]
  },
  {
   "cell_type": "code",
   "execution_count": 3,
   "id": "7d77b42c",
   "metadata": {},
   "outputs": [
    {
     "name": "stdout",
     "output_type": "stream",
     "text": [
      "VaibhaV\n"
     ]
    }
   ],
   "source": [
    "print(name)"
   ]
  },
  {
   "cell_type": "code",
   "execution_count": 4,
   "id": "27e4abc9",
   "metadata": {},
   "outputs": [],
   "source": [
    "name = \"Sheetal\""
   ]
  },
  {
   "cell_type": "code",
   "execution_count": 5,
   "id": "f366b66e",
   "metadata": {},
   "outputs": [
    {
     "name": "stdout",
     "output_type": "stream",
     "text": [
      "Sheetal\n"
     ]
    }
   ],
   "source": [
    "print(name)"
   ]
  },
  {
   "cell_type": "markdown",
   "id": "586261ba",
   "metadata": {},
   "source": [
    "## Data type\n",
    "- int\n",
    "- float\n",
    "- Boolean\n",
    "- String"
   ]
  },
  {
   "cell_type": "code",
   "execution_count": 6,
   "id": "1cba794a",
   "metadata": {},
   "outputs": [
    {
     "name": "stdout",
     "output_type": "stream",
     "text": [
      "<class 'int'>\n",
      "<class 'float'>\n",
      "<class 'bool'>\n",
      "<class 'str'>\n"
     ]
    }
   ],
   "source": [
    "num1= 1 \n",
    "print(type(num1))\n",
    "num2= 2.303 \n",
    "print(type(num2))\n",
    "num3= True \n",
    "print(type(num3))\n",
    "num4= \"VaibhaV\" \n",
    "print(type(num4))"
   ]
  },
  {
   "cell_type": "markdown",
   "id": "57da6569",
   "metadata": {},
   "source": [
    "## Operators\n"
   ]
  },
  {
   "cell_type": "markdown",
   "id": "74d98db6",
   "metadata": {},
   "source": [
    "## Arithmatic Operator +, -, *, /"
   ]
  },
  {
   "cell_type": "code",
   "execution_count": 7,
   "id": "0cabda21",
   "metadata": {},
   "outputs": [],
   "source": [
    "\n",
    "num1, num2 =36, 7"
   ]
  },
  {
   "cell_type": "code",
   "execution_count": 8,
   "id": "7a652acc",
   "metadata": {},
   "outputs": [
    {
     "data": {
      "text/plain": [
       "43"
      ]
     },
     "execution_count": 8,
     "metadata": {},
     "output_type": "execute_result"
    }
   ],
   "source": [
    "num1 + num2"
   ]
  },
  {
   "cell_type": "code",
   "execution_count": 9,
   "id": "e7eda2f3",
   "metadata": {},
   "outputs": [
    {
     "data": {
      "text/plain": [
       "29"
      ]
     },
     "execution_count": 9,
     "metadata": {},
     "output_type": "execute_result"
    }
   ],
   "source": [
    "num1 - num2"
   ]
  },
  {
   "cell_type": "code",
   "execution_count": 10,
   "id": "0a0f505b",
   "metadata": {},
   "outputs": [
    {
     "data": {
      "text/plain": [
       "252"
      ]
     },
     "execution_count": 10,
     "metadata": {},
     "output_type": "execute_result"
    }
   ],
   "source": [
    "num1 * num2"
   ]
  },
  {
   "cell_type": "code",
   "execution_count": 11,
   "id": "dea0db40",
   "metadata": {},
   "outputs": [
    {
     "data": {
      "text/plain": [
       "5.142857142857143"
      ]
     },
     "execution_count": 11,
     "metadata": {},
     "output_type": "execute_result"
    }
   ],
   "source": [
    "num1 / num2"
   ]
  },
  {
   "cell_type": "code",
   "execution_count": 12,
   "id": "a4dd3892",
   "metadata": {},
   "outputs": [
    {
     "data": {
      "text/plain": [
       "5"
      ]
     },
     "execution_count": 12,
     "metadata": {},
     "output_type": "execute_result"
    }
   ],
   "source": [
    "num1 // num2"
   ]
  },
  {
   "cell_type": "markdown",
   "id": "a41fac31",
   "metadata": {},
   "source": [
    "## Relational Operator <, >, ==, !=\n"
   ]
  },
  {
   "cell_type": "code",
   "execution_count": 13,
   "id": "b6353b7d",
   "metadata": {},
   "outputs": [
    {
     "data": {
      "text/plain": [
       "True"
      ]
     },
     "execution_count": 13,
     "metadata": {},
     "output_type": "execute_result"
    }
   ],
   "source": [
    "num1 > num2"
   ]
  },
  {
   "cell_type": "code",
   "execution_count": 14,
   "id": "bb2043eb",
   "metadata": {},
   "outputs": [
    {
     "data": {
      "text/plain": [
       "False"
      ]
     },
     "execution_count": 14,
     "metadata": {},
     "output_type": "execute_result"
    }
   ],
   "source": [
    "num1 < num2"
   ]
  },
  {
   "cell_type": "code",
   "execution_count": 15,
   "id": "b06585d2",
   "metadata": {},
   "outputs": [
    {
     "data": {
      "text/plain": [
       "False"
      ]
     },
     "execution_count": 15,
     "metadata": {},
     "output_type": "execute_result"
    }
   ],
   "source": [
    "num1 == num2"
   ]
  },
  {
   "cell_type": "code",
   "execution_count": 16,
   "id": "b6ae8512",
   "metadata": {},
   "outputs": [
    {
     "data": {
      "text/plain": [
       "True"
      ]
     },
     "execution_count": 16,
     "metadata": {},
     "output_type": "execute_result"
    }
   ],
   "source": [
    "num1 != num2"
   ]
  },
  {
   "cell_type": "markdown",
   "id": "049c2060",
   "metadata": {},
   "source": [
    "## Logical Operator & |\n"
   ]
  },
  {
   "cell_type": "code",
   "execution_count": 17,
   "id": "6b51e122",
   "metadata": {},
   "outputs": [],
   "source": [
    "log1 = True\n",
    "log2 = False"
   ]
  },
  {
   "cell_type": "code",
   "execution_count": 18,
   "id": "659d9d13",
   "metadata": {},
   "outputs": [
    {
     "data": {
      "text/plain": [
       "False"
      ]
     },
     "execution_count": 18,
     "metadata": {},
     "output_type": "execute_result"
    }
   ],
   "source": [
    "log1 & log2"
   ]
  },
  {
   "cell_type": "code",
   "execution_count": 19,
   "id": "c5c78898",
   "metadata": {},
   "outputs": [
    {
     "data": {
      "text/plain": [
       "True"
      ]
     },
     "execution_count": 19,
     "metadata": {},
     "output_type": "execute_result"
    }
   ],
   "source": [
    "log1 & log1"
   ]
  },
  {
   "cell_type": "code",
   "execution_count": 20,
   "id": "3e965546",
   "metadata": {},
   "outputs": [
    {
     "data": {
      "text/plain": [
       "True"
      ]
     },
     "execution_count": 20,
     "metadata": {},
     "output_type": "execute_result"
    }
   ],
   "source": [
    "log1 | log1"
   ]
  },
  {
   "cell_type": "markdown",
   "id": "18894d49",
   "metadata": {},
   "source": [
    "## Python Tokens\n",
    "Smallest meaning full componet in program\n",
    "- Keywords : Special reversed words like For If Yield\n",
    "- Identifiers: Names used for variables, functions or objects\n",
    "- Literals : Costants in python\n",
    "    - num = \"Test\" : here \"num\" is Identifier and \"Test\" is literal\n",
    "- Operators"
   ]
  },
  {
   "cell_type": "markdown",
   "id": "ac48dbf8",
   "metadata": {},
   "source": [
    "## String:\n"
   ]
  },
  {
   "cell_type": "code",
   "execution_count": 21,
   "id": "b6c5ff04",
   "metadata": {},
   "outputs": [
    {
     "data": {
      "text/plain": [
       "7"
      ]
     },
     "execution_count": 21,
     "metadata": {},
     "output_type": "execute_result"
    }
   ],
   "source": [
    "str1 = \"I love Pizza\"\n",
    "str1.find(\"Piz\")"
   ]
  },
  {
   "cell_type": "code",
   "execution_count": 22,
   "id": "a3a5350f",
   "metadata": {},
   "outputs": [
    {
     "data": {
      "text/plain": [
       "['Mango', 'Banana', 'Apple']"
      ]
     },
     "execution_count": 22,
     "metadata": {},
     "output_type": "execute_result"
    }
   ],
   "source": [
    "fruits =\"Mango, Banana, Apple\"\n",
    "fruits.split(\", \")"
   ]
  },
  {
   "cell_type": "markdown",
   "id": "03f6e2c8",
   "metadata": {},
   "source": [
    "## List"
   ]
  },
  {
   "cell_type": "code",
   "execution_count": 23,
   "id": "d8b2293b",
   "metadata": {},
   "outputs": [],
   "source": [
    "l1 = [1, \"a\", 2, True]"
   ]
  },
  {
   "cell_type": "code",
   "execution_count": 24,
   "id": "a6101b1d",
   "metadata": {},
   "outputs": [
    {
     "data": {
      "text/plain": [
       "[100, 'a', 2, True]"
      ]
     },
     "execution_count": 24,
     "metadata": {},
     "output_type": "execute_result"
    }
   ],
   "source": [
    "l1[0]=100\n",
    "l1\n"
   ]
  },
  {
   "cell_type": "code",
   "execution_count": 25,
   "id": "9dd6898b",
   "metadata": {},
   "outputs": [
    {
     "data": {
      "text/plain": [
       "[100, 'a', 2, True, 'VaibhaV']"
      ]
     },
     "execution_count": 25,
     "metadata": {},
     "output_type": "execute_result"
    }
   ],
   "source": [
    "l1.append(\"VaibhaV\")\n",
    "l1"
   ]
  },
  {
   "cell_type": "code",
   "execution_count": 26,
   "id": "6ef9811c",
   "metadata": {},
   "outputs": [
    {
     "data": {
      "text/plain": [
       "'VaibhaV'"
      ]
     },
     "execution_count": 26,
     "metadata": {},
     "output_type": "execute_result"
    }
   ],
   "source": [
    "l1.pop()"
   ]
  },
  {
   "cell_type": "code",
   "execution_count": 27,
   "id": "e9227d25",
   "metadata": {},
   "outputs": [
    {
     "data": {
      "text/plain": [
       "[100, 'a', 2, True]"
      ]
     },
     "execution_count": 27,
     "metadata": {},
     "output_type": "execute_result"
    }
   ],
   "source": [
    "l1"
   ]
  },
  {
   "cell_type": "code",
   "execution_count": 28,
   "id": "0e11f74a",
   "metadata": {},
   "outputs": [
    {
     "data": {
      "text/plain": [
       "[True, 2, 'a', 100]"
      ]
     },
     "execution_count": 28,
     "metadata": {},
     "output_type": "execute_result"
    }
   ],
   "source": [
    "l1.reverse()\n",
    "l1"
   ]
  },
  {
   "cell_type": "code",
   "execution_count": 29,
   "id": "3008e52a",
   "metadata": {},
   "outputs": [
    {
     "data": {
      "text/plain": [
       "[True, 'Test', 2, 'a', 100]"
      ]
     },
     "execution_count": 29,
     "metadata": {},
     "output_type": "execute_result"
    }
   ],
   "source": [
    "l1.insert(1, \"Test\")\n",
    "l1"
   ]
  },
  {
   "cell_type": "code",
   "execution_count": 30,
   "id": "3d930c15",
   "metadata": {},
   "outputs": [
    {
     "ename": "TypeError",
     "evalue": "'<' not supported between instances of 'str' and 'bool'",
     "output_type": "error",
     "traceback": [
      "\u001b[0;31m---------------------------------------------------------------------------\u001b[0m",
      "\u001b[0;31mTypeError\u001b[0m                                 Traceback (most recent call last)",
      "Cell \u001b[0;32mIn[30], line 1\u001b[0m\n\u001b[0;32m----> 1\u001b[0m l1\u001b[38;5;241m.\u001b[39msort()\n\u001b[1;32m      2\u001b[0m l1\n",
      "\u001b[0;31mTypeError\u001b[0m: '<' not supported between instances of 'str' and 'bool'"
     ]
    }
   ],
   "source": [
    "l1.sort()\n",
    "l1"
   ]
  },
  {
   "cell_type": "code",
   "execution_count": 31,
   "id": "d83a2f07",
   "metadata": {},
   "outputs": [
    {
     "data": {
      "text/plain": [
       "['Apple', 'Banana', 'Mango']"
      ]
     },
     "execution_count": 31,
     "metadata": {},
     "output_type": "execute_result"
    }
   ],
   "source": [
    "l2 = ['Mango', 'Banana', 'Apple']\n",
    "l2.sort()\n",
    "l2\n"
   ]
  },
  {
   "cell_type": "code",
   "execution_count": 32,
   "id": "a6f2fd64",
   "metadata": {},
   "outputs": [
    {
     "data": {
      "text/plain": [
       "['a', 'b', 'c', 1, 2, 3]"
      ]
     },
     "execution_count": 32,
     "metadata": {},
     "output_type": "execute_result"
    }
   ],
   "source": [
    "l1 = [\"a\", \"b\", \"c\"]\n",
    "l2 = [1, 2, 3]\n",
    "l1+ l2"
   ]
  },
  {
   "cell_type": "code",
   "execution_count": 33,
   "id": "dd8e2785",
   "metadata": {},
   "outputs": [
    {
     "data": {
      "text/plain": [
       "[1, 'b', True, 1, 'b', True, 1, 'b', True]"
      ]
     },
     "execution_count": 33,
     "metadata": {},
     "output_type": "execute_result"
    }
   ],
   "source": [
    "l1 = [1, \"b\", True]\n",
    "l1 * 3"
   ]
  },
  {
   "cell_type": "markdown",
   "id": "bd050008",
   "metadata": {},
   "source": [
    "## Tuple\n",
    "- Tuple are ordered collection of elements enclosed within ()\n",
    "- Tuples are immutable, once created we can not update or change values of tuple"
   ]
  },
  {
   "cell_type": "code",
   "execution_count": 34,
   "id": "8ddc4136",
   "metadata": {},
   "outputs": [
    {
     "data": {
      "text/plain": [
       "(1, 'b', True)"
      ]
     },
     "execution_count": 34,
     "metadata": {},
     "output_type": "execute_result"
    }
   ],
   "source": [
    "tup1 = (1, \"b\", True)\n",
    "tup1"
   ]
  },
  {
   "cell_type": "code",
   "execution_count": 35,
   "id": "47e72e37",
   "metadata": {},
   "outputs": [
    {
     "data": {
      "text/plain": [
       "tuple"
      ]
     },
     "execution_count": 35,
     "metadata": {},
     "output_type": "execute_result"
    }
   ],
   "source": [
    "type(tup1)"
   ]
  },
  {
   "cell_type": "code",
   "execution_count": 36,
   "id": "80e72364",
   "metadata": {},
   "outputs": [
    {
     "data": {
      "text/plain": [
       "(1, 'b', True, 1, 'b', True, 1, 'b', True)"
      ]
     },
     "execution_count": 36,
     "metadata": {},
     "output_type": "execute_result"
    }
   ],
   "source": [
    "tup2 = tup1 *3 \n",
    "tup2"
   ]
  },
  {
   "cell_type": "code",
   "execution_count": 37,
   "id": "de73b65c",
   "metadata": {},
   "outputs": [
    {
     "data": {
      "text/plain": [
       "('b', True, 1, 'b', True)"
      ]
     },
     "execution_count": 37,
     "metadata": {},
     "output_type": "execute_result"
    }
   ],
   "source": [
    "tup2[1:6]"
   ]
  },
  {
   "cell_type": "code",
   "execution_count": 38,
   "id": "01d17d43",
   "metadata": {},
   "outputs": [
    {
     "data": {
      "text/plain": [
       "(1, True, 'b', 1, True)"
      ]
     },
     "execution_count": 38,
     "metadata": {},
     "output_type": "execute_result"
    }
   ],
   "source": [
    "tup2[::2]"
   ]
  },
  {
   "cell_type": "code",
   "execution_count": 39,
   "id": "6c623434",
   "metadata": {},
   "outputs": [
    {
     "ename": "TypeError",
     "evalue": "'tuple' object does not support item assignment",
     "output_type": "error",
     "traceback": [
      "\u001b[0;31m---------------------------------------------------------------------------\u001b[0m",
      "\u001b[0;31mTypeError\u001b[0m                                 Traceback (most recent call last)",
      "Cell \u001b[0;32mIn[39], line 1\u001b[0m\n\u001b[0;32m----> 1\u001b[0m tup2[\u001b[38;5;241m2\u001b[39m]\u001b[38;5;241m=\u001b[39m\u001b[38;5;124m\"\u001b[39m\u001b[38;5;124mTest\u001b[39m\u001b[38;5;124m\"\u001b[39m\n",
      "\u001b[0;31mTypeError\u001b[0m: 'tuple' object does not support item assignment"
     ]
    }
   ],
   "source": [
    "tup2[2]=\"Test\""
   ]
  },
  {
   "cell_type": "code",
   "execution_count": 40,
   "id": "5be8da3e",
   "metadata": {},
   "outputs": [
    {
     "data": {
      "text/plain": [
       "('a', 'b', 'c', 1, 2, 3)"
      ]
     },
     "execution_count": 40,
     "metadata": {},
     "output_type": "execute_result"
    }
   ],
   "source": [
    "tup1 = (\"a\", \"b\", \"c\")\n",
    "tup2 = (1, 2, 3)\n",
    "tup1 + tup2"
   ]
  },
  {
   "cell_type": "markdown",
   "id": "abf54cee",
   "metadata": {},
   "source": [
    "## Dictionary\n",
    "- Dictionary is an unordered collection of key-value pairs enclosed with {}\n",
    "- Dictionary is mutable"
   ]
  },
  {
   "cell_type": "code",
   "execution_count": 41,
   "id": "04b95015",
   "metadata": {},
   "outputs": [],
   "source": [
    "fruit = {\"Mango\": 10, 'Banana': 20, 'Apple':30}"
   ]
  },
  {
   "cell_type": "code",
   "execution_count": 42,
   "id": "d5f10717",
   "metadata": {},
   "outputs": [
    {
     "data": {
      "text/plain": [
       "dict_keys(['Mango', 'Banana', 'Apple'])"
      ]
     },
     "execution_count": 42,
     "metadata": {},
     "output_type": "execute_result"
    }
   ],
   "source": [
    "fruit.keys()"
   ]
  },
  {
   "cell_type": "code",
   "execution_count": 43,
   "id": "7f3d22c0",
   "metadata": {},
   "outputs": [
    {
     "data": {
      "text/plain": [
       "dict_values([10, 20, 30])"
      ]
     },
     "execution_count": 43,
     "metadata": {},
     "output_type": "execute_result"
    }
   ],
   "source": [
    "fruit.values()"
   ]
  },
  {
   "cell_type": "code",
   "execution_count": 44,
   "id": "25088a6d",
   "metadata": {},
   "outputs": [
    {
     "data": {
      "text/plain": [
       "{'Mango': 10, 'Banana': 20, 'Apple': 30, 'Guava': 40}"
      ]
     },
     "execution_count": 44,
     "metadata": {},
     "output_type": "execute_result"
    }
   ],
   "source": [
    "fruit[\"Guava\"]=40\n",
    "fruit"
   ]
  },
  {
   "cell_type": "code",
   "execution_count": 45,
   "id": "d88fe7d5",
   "metadata": {},
   "outputs": [
    {
     "data": {
      "text/plain": [
       "{'Mango': 10, 'Banana': 20, 'Apple': 30, 'Guava': 40}"
      ]
     },
     "execution_count": 45,
     "metadata": {},
     "output_type": "execute_result"
    }
   ],
   "source": [
    "fruit"
   ]
  },
  {
   "cell_type": "code",
   "execution_count": 46,
   "id": "a8ffe9e6",
   "metadata": {},
   "outputs": [],
   "source": [
    "f1 = {'Mango': 10, 'Banana': 20}\n",
    "f2 = {'Apple': 30, 'Guava': 40}"
   ]
  },
  {
   "cell_type": "code",
   "execution_count": 47,
   "id": "6aebda16",
   "metadata": {},
   "outputs": [
    {
     "data": {
      "text/plain": [
       "{'Mango': 10, 'Banana': 20, 'Apple': 30, 'Guava': 40}"
      ]
     },
     "execution_count": 47,
     "metadata": {},
     "output_type": "execute_result"
    }
   ],
   "source": [
    "f1.update(f2)\n",
    "f1"
   ]
  },
  {
   "cell_type": "code",
   "execution_count": 48,
   "id": "ee41e740",
   "metadata": {},
   "outputs": [
    {
     "data": {
      "text/plain": [
       "40"
      ]
     },
     "execution_count": 48,
     "metadata": {},
     "output_type": "execute_result"
    }
   ],
   "source": [
    "f1.pop(\"Guava\")\n"
   ]
  },
  {
   "cell_type": "code",
   "execution_count": 49,
   "id": "d4c305e7",
   "metadata": {},
   "outputs": [
    {
     "data": {
      "text/plain": [
       "{'Mango': 10, 'Banana': 20, 'Apple': 30}"
      ]
     },
     "execution_count": 49,
     "metadata": {},
     "output_type": "execute_result"
    }
   ],
   "source": [
    "f1"
   ]
  },
  {
   "cell_type": "markdown",
   "id": "703b4bcd",
   "metadata": {},
   "source": [
    "## Set\n",
    "- Set ia a unordered and unindexed collection of elements enclosed with {}\n",
    "- Duplicates are not allowed in Set\n"
   ]
  },
  {
   "cell_type": "code",
   "execution_count": 50,
   "id": "e1870580",
   "metadata": {},
   "outputs": [
    {
     "data": {
      "text/plain": [
       "{1, 2, 3, 'a', 'b', 'c'}"
      ]
     },
     "execution_count": 50,
     "metadata": {},
     "output_type": "execute_result"
    }
   ],
   "source": [
    "# Try duplicates with set\n",
    "s1 = {\"c\", \"a\", \"b\", 1, 2, 3, \"a\", \"b\", 1, 2}\n",
    "s1"
   ]
  },
  {
   "cell_type": "code",
   "execution_count": 51,
   "id": "3f56d06a",
   "metadata": {},
   "outputs": [
    {
     "data": {
      "text/plain": [
       "{1, 2, 3, 'Test', 'a', 'b', 'c'}"
      ]
     },
     "execution_count": 51,
     "metadata": {},
     "output_type": "execute_result"
    }
   ],
   "source": [
    "s1.add(\"Test\")\n",
    "s1"
   ]
  },
  {
   "cell_type": "code",
   "execution_count": 52,
   "id": "42d65861",
   "metadata": {},
   "outputs": [
    {
     "data": {
      "text/plain": [
       "{1, 2, 3, 'Test', 'a', 'c'}"
      ]
     },
     "execution_count": 52,
     "metadata": {},
     "output_type": "execute_result"
    }
   ],
   "source": [
    "s1.remove(\"b\")\n",
    "s1"
   ]
  },
  {
   "cell_type": "code",
   "execution_count": 53,
   "id": "63aefe4b",
   "metadata": {},
   "outputs": [
    {
     "data": {
      "text/plain": [
       "{1, 2, 'Apple', 'Banana', 'Mango', 'a', 'b', 'c'}"
      ]
     },
     "execution_count": 53,
     "metadata": {},
     "output_type": "execute_result"
    }
   ],
   "source": [
    "s1 = {'Mango', 'Banana', 'Apple', 1, 2, 'a'}\n",
    "s2 = {'a', 'b', 'c', 1, 2}\n",
    "s1.union(s2)"
   ]
  },
  {
   "cell_type": "code",
   "execution_count": 54,
   "id": "7dd37891",
   "metadata": {},
   "outputs": [
    {
     "data": {
      "text/plain": [
       "{1, 2, 'Apple', 'Banana', 'Mango', 'a'}"
      ]
     },
     "execution_count": 54,
     "metadata": {},
     "output_type": "execute_result"
    }
   ],
   "source": [
    "s1"
   ]
  },
  {
   "cell_type": "code",
   "execution_count": 55,
   "id": "166e9908",
   "metadata": {},
   "outputs": [
    {
     "data": {
      "text/plain": [
       "{1, 2, 'a', 'b', 'c'}"
      ]
     },
     "execution_count": 55,
     "metadata": {},
     "output_type": "execute_result"
    }
   ],
   "source": [
    "s2"
   ]
  },
  {
   "cell_type": "code",
   "execution_count": 56,
   "id": "6ed9dafc",
   "metadata": {},
   "outputs": [
    {
     "data": {
      "text/plain": [
       "{1, 2, 'a'}"
      ]
     },
     "execution_count": 56,
     "metadata": {},
     "output_type": "execute_result"
    }
   ],
   "source": [
    "s1.intersection(s2)"
   ]
  },
  {
   "cell_type": "markdown",
   "id": "eaa7b448",
   "metadata": {},
   "source": [
    "## Decision making\n"
   ]
  },
  {
   "cell_type": "code",
   "execution_count": 57,
   "id": "959d48a5",
   "metadata": {},
   "outputs": [],
   "source": [
    "a, b= 10, 20"
   ]
  },
  {
   "cell_type": "code",
   "execution_count": null,
   "id": "85846126",
   "metadata": {},
   "outputs": [],
   "source": [
    "if a>b:\n",
    "    print(\"A is greater than B\")\n",
    "else:\n",
    "    print(\"B is greater than A\")"
   ]
  },
  {
   "cell_type": "code",
   "execution_count": null,
   "id": "d87223b4",
   "metadata": {},
   "outputs": [],
   "source": [
    "result= \"A is greater than B\" if a>b else \"B is greater than A\"\n",
    "result"
   ]
  },
  {
   "cell_type": "code",
   "execution_count": null,
   "id": "c578601e",
   "metadata": {},
   "outputs": [],
   "source": [
    "tup= (\"a\", \"b\", \"c\")"
   ]
  },
  {
   "cell_type": "code",
   "execution_count": null,
   "id": "8e590ff3",
   "metadata": {},
   "outputs": [],
   "source": [
    "if \"z\" in tup:\n",
    "    print(\"z is in tup\")\n",
    "else:\n",
    "    print(\"z is not in tup\")"
   ]
  },
  {
   "cell_type": "markdown",
   "id": "0bc6f588",
   "metadata": {},
   "source": [
    "## Looping Statement\n",
    "To repeat task multiple times"
   ]
  },
  {
   "cell_type": "code",
   "execution_count": null,
   "id": "298774cb",
   "metadata": {},
   "outputs": [],
   "source": [
    "fruit = ['Mango', 'Banana', 'Apple']\n",
    "for frt in fruit:\n",
    "    print(frt)"
   ]
  },
  {
   "cell_type": "code",
   "execution_count": null,
   "id": "f45dd8ee",
   "metadata": {},
   "outputs": [],
   "source": [
    "i= 1\n",
    "while i<=10:\n",
    "    print(i)\n",
    "    i+=1"
   ]
  },
  {
   "cell_type": "markdown",
   "id": "1509e601",
   "metadata": {},
   "source": [
    "## Object Oriented Programming\n",
    "- Class: user defined data type\n",
    "    - Attributes\n",
    "    - Methods\n",
    "- Objects : Specific instance of a class"
   ]
  },
  {
   "cell_type": "code",
   "execution_count": null,
   "id": "557af5bb",
   "metadata": {},
   "outputs": [],
   "source": [
    "class Phone:\n",
    "    def make_call(self):\n",
    "        print(\"Making phone call\")\n",
    "    def play_game(self):\n",
    "        print(\"Playing game\")\n",
    "    def set_color(self, color):\n",
    "        self.color = color\n",
    "    def set_cost(self, cost):\n",
    "        self.cost = cost\n",
    "    def show_color(self):\n",
    "        return self.color\n",
    "    def show_cost(self):\n",
    "        return self.cost"
   ]
  },
  {
   "cell_type": "code",
   "execution_count": null,
   "id": "3840d42d",
   "metadata": {},
   "outputs": [],
   "source": [
    "p1 = Phone()"
   ]
  },
  {
   "cell_type": "code",
   "execution_count": null,
   "id": "3f95ec6c",
   "metadata": {},
   "outputs": [],
   "source": [
    "p1.make_call()"
   ]
  },
  {
   "cell_type": "code",
   "execution_count": null,
   "id": "f9cff759",
   "metadata": {},
   "outputs": [],
   "source": [
    "p1.play_game()"
   ]
  },
  {
   "cell_type": "code",
   "execution_count": null,
   "id": "1d74cac8",
   "metadata": {},
   "outputs": [],
   "source": [
    "p1.set_color(\"Red\")"
   ]
  },
  {
   "cell_type": "code",
   "execution_count": null,
   "id": "efead9dc",
   "metadata": {},
   "outputs": [],
   "source": [
    "p1.set_cost(1000)"
   ]
  },
  {
   "cell_type": "code",
   "execution_count": null,
   "id": "f3290425",
   "metadata": {},
   "outputs": [],
   "source": [
    "p1.show_color()"
   ]
  },
  {
   "cell_type": "code",
   "execution_count": null,
   "id": "3ac5ad65",
   "metadata": {},
   "outputs": [],
   "source": [
    "p1.show_cost()"
   ]
  },
  {
   "cell_type": "markdown",
   "id": "9d524919",
   "metadata": {},
   "source": [
    "### Constructor"
   ]
  },
  {
   "cell_type": "code",
   "execution_count": null,
   "id": "224096cc",
   "metadata": {},
   "outputs": [],
   "source": [
    "class Phone:\n",
    "    def __init__(self, color, cost):\n",
    "        self.color = color\n",
    "        self.cost = cost\n",
    "    def make_call(self):\n",
    "        print(\"Making phone call\")\n",
    "    def play_game(self):\n",
    "        print(\"Playing game\")"
   ]
  },
  {
   "cell_type": "code",
   "execution_count": null,
   "id": "8112dc4c",
   "metadata": {},
   "outputs": [],
   "source": [
    "p1 = Phone(\"Red\", 2000)"
   ]
  },
  {
   "cell_type": "code",
   "execution_count": null,
   "id": "d006d04f",
   "metadata": {},
   "outputs": [],
   "source": [
    "p1.color"
   ]
  },
  {
   "cell_type": "markdown",
   "id": "721d26c1",
   "metadata": {},
   "source": [
    "## Inheritance\n",
    "With inheritance one class can derive the properties of another class"
   ]
  },
  {
   "cell_type": "code",
   "execution_count": null,
   "id": "16ebdcb3",
   "metadata": {},
   "outputs": [],
   "source": [
    "class Vehicle:\n",
    "    def __init__(self, mileage, cost):\n",
    "        self.mileage = mileage\n",
    "        self.cost = cost\n",
    "        \n",
    "    def vehicle_details(self):\n",
    "        print(f\"Vehicle has {self.mileage} mileage and it cost ${self.cost}\")"
   ]
  },
  {
   "cell_type": "code",
   "execution_count": null,
   "id": "e5ebdf26",
   "metadata": {},
   "outputs": [],
   "source": [
    "v1 = Vehicle(27, 15000)\n",
    "v1.vehicle_details()"
   ]
  },
  {
   "cell_type": "code",
   "execution_count": null,
   "id": "353c3861",
   "metadata": {},
   "outputs": [],
   "source": [
    "class Car(Vehicle):\n",
    "    def show_car(self):\n",
    "        print(\"I am Car\")\n",
    "        "
   ]
  },
  {
   "cell_type": "code",
   "execution_count": null,
   "id": "4c620ac6",
   "metadata": {},
   "outputs": [],
   "source": [
    "c1 = Car(200, 15000)"
   ]
  },
  {
   "cell_type": "code",
   "execution_count": null,
   "id": "e91c738e",
   "metadata": {},
   "outputs": [],
   "source": [
    "c1.show_car()"
   ]
  },
  {
   "cell_type": "code",
   "execution_count": null,
   "id": "ef191220",
   "metadata": {},
   "outputs": [],
   "source": [
    "c1.vehicle_details()"
   ]
  },
  {
   "cell_type": "code",
   "execution_count": null,
   "id": "905ff6a9",
   "metadata": {},
   "outputs": [],
   "source": [
    "class Car(Vehicle):\n",
    "    def __init__(self, mileage, cost, hp ):\n",
    "        super().__init__(mileage, cost)\n",
    "        self.hp = hp\n",
    "    def show_car(self):\n",
    "        print(f\"I am car with mileage: {self.mileage}, cost: {self.cost}, power: {self.hp} \")"
   ]
  },
  {
   "cell_type": "code",
   "execution_count": null,
   "id": "09f28c57",
   "metadata": {},
   "outputs": [],
   "source": [
    "c1= Car(100, 15000, 2000)"
   ]
  },
  {
   "cell_type": "code",
   "execution_count": null,
   "id": "a01be942",
   "metadata": {},
   "outputs": [],
   "source": [
    "c1.show_car()"
   ]
  },
  {
   "cell_type": "code",
   "execution_count": null,
   "id": "9fbe4a41",
   "metadata": {},
   "outputs": [],
   "source": [
    "c1.vehicle_details()"
   ]
  },
  {
   "cell_type": "markdown",
   "id": "67081f04",
   "metadata": {},
   "source": [
    "## Multiple Inheretance\n",
    "Child inherite more than one parent class"
   ]
  },
  {
   "cell_type": "code",
   "execution_count": null,
   "id": "511e1712",
   "metadata": {},
   "outputs": [],
   "source": [
    "2\n",
    "    "
   ]
  },
  {
   "cell_type": "code",
   "execution_count": null,
   "id": "fd65a0ad",
   "metadata": {},
   "outputs": [],
   "source": [
    "c1 = Child()\n",
    "c1.assign_string_1(\"One\")\n",
    "c1.assign_string_2(\"Two\")\n",
    "c1.assign_string_3(\"Three\")"
   ]
  },
  {
   "cell_type": "code",
   "execution_count": null,
   "id": "9cb56293",
   "metadata": {},
   "outputs": [],
   "source": [
    "print(c1.show_string_1())\n",
    "print(c1.show_string_2())\n",
    "print(c1.show_string_3())"
   ]
  },
  {
   "cell_type": "markdown",
   "id": "ea69df1a",
   "metadata": {},
   "source": [
    "## Multi Level Inheritance\n",
    "-We have Parent, Child, grand-child"
   ]
  },
  {
   "cell_type": "code",
   "execution_count": null,
   "id": "66fd53c4",
   "metadata": {},
   "outputs": [],
   "source": [
    "class Parent1:\n",
    "    def assign_name(self, name):\n",
    "        self.name = name\n",
    "    def show_name(self):\n",
    "        return self.name\n",
    "    \n",
    "class Child(Parent1):\n",
    "    def assign_age(self, age):\n",
    "        self.age = age\n",
    "    def show_age(self):\n",
    "        return self.age\n",
    "    \n",
    "class GrandChild(Child):\n",
    "    def assign_gender(self, gender):\n",
    "        self.gender = gender\n",
    "    def show_gender(self):\n",
    "        return self.gender\n",
    "    \n"
   ]
  },
  {
   "cell_type": "code",
   "execution_count": null,
   "id": "bd489216",
   "metadata": {},
   "outputs": [],
   "source": [
    "gc = GrandChild()"
   ]
  },
  {
   "cell_type": "code",
   "execution_count": null,
   "id": "9d03921d",
   "metadata": {},
   "outputs": [],
   "source": [
    "gc.assign_name(\"Test\")"
   ]
  },
  {
   "cell_type": "code",
   "execution_count": null,
   "id": "6af49ff6",
   "metadata": {},
   "outputs": [],
   "source": [
    "gc.assign_age(21)"
   ]
  },
  {
   "cell_type": "code",
   "execution_count": null,
   "id": "4d9c5614",
   "metadata": {},
   "outputs": [],
   "source": [
    "gc.assign_gender(\"Male\")"
   ]
  },
  {
   "cell_type": "code",
   "execution_count": null,
   "id": "b7f9bf0b",
   "metadata": {},
   "outputs": [],
   "source": [
    "print(f\"{gc.show_name()} is a {gc.show_gender()} aged {gc.show_age()}\")"
   ]
  },
  {
   "cell_type": "markdown",
   "id": "6f5a7810",
   "metadata": {},
   "source": [
    "## File Handling\n",
    "- Open mode : Open text file for reading, writing and doing some other stuff\n",
    "- Read mode : To read the text which is already stored in your text file\n",
    "- Write mode : To write your text in .txt file\n"
   ]
  },
  {
   "cell_type": "code",
   "execution_count": null,
   "id": "1f6fc012",
   "metadata": {},
   "outputs": [],
   "source": [
    "file = open('test.txt', 'w')\n",
    "\n",
    "try:\n",
    "    file.write('Chai aur code line 1')\n",
    "finally:\n",
    "    file.close()"
   ]
  },
  {
   "cell_type": "code",
   "execution_count": null,
   "id": "54910291",
   "metadata": {},
   "outputs": [],
   "source": [
    "file = open('test.txt', 'a')\n",
    "\n",
    "try:\n",
    "    file.write('\\nChai aur code line 2')\n",
    "finally:\n",
    "    file.close()"
   ]
  },
  {
   "cell_type": "code",
   "execution_count": null,
   "id": "1d0fd15f",
   "metadata": {},
   "outputs": [],
   "source": [
    "file = open('test.txt', 'r')\n",
    "data_read = file.read()\n",
    "total_count = len(data_read)\n",
    "print(total_count)"
   ]
  },
  {
   "cell_type": "markdown",
   "id": "234bbecd",
   "metadata": {},
   "source": [
    "## Readline functions\n"
   ]
  },
  {
   "cell_type": "code",
   "execution_count": null,
   "id": "2d201356",
   "metadata": {},
   "outputs": [],
   "source": [
    "f = open('test.txt', 'w')\n",
    "f.write(\"I am learning file handling\")\n",
    "f.write(\"\\n Topic is file handling, read and write\")"
   ]
  },
  {
   "cell_type": "code",
   "execution_count": null,
   "id": "bbd62673",
   "metadata": {},
   "outputs": [],
   "source": [
    "f = open('test.txt', 'r')"
   ]
  },
  {
   "cell_type": "code",
   "execution_count": null,
   "id": "9a0b3bb8",
   "metadata": {},
   "outputs": [],
   "source": [
    "print(f.readline())"
   ]
  },
  {
   "cell_type": "code",
   "execution_count": null,
   "id": "b89bc346",
   "metadata": {},
   "outputs": [],
   "source": [
    "print(f.readline())"
   ]
  },
  {
   "cell_type": "code",
   "execution_count": null,
   "id": "8ae54ac1",
   "metadata": {},
   "outputs": [],
   "source": [
    "print(f.readline())"
   ]
  },
  {
   "cell_type": "markdown",
   "id": "c3ac4d8c",
   "metadata": {},
   "source": [
    "## Try Except"
   ]
  },
  {
   "cell_type": "code",
   "execution_count": null,
   "id": "084abf33",
   "metadata": {},
   "outputs": [],
   "source": [
    "a =input(\"Enter the number 1 : \")\n",
    "b =input(\"Enter the number 2 : \")\n",
    "\n",
    "try:\n",
    "    c= int(a) + b\n",
    "    print(c)\n",
    "except Exception as e:\n",
    "    print(e)\n",
    "    "
   ]
  },
  {
   "cell_type": "code",
   "execution_count": null,
   "id": "d6613db7",
   "metadata": {},
   "outputs": [],
   "source": [
    "try:\n",
    "    c= int(a) + b\n",
    "    print(c)\n",
    "except:\n",
    "    print(\"Error in try block\")"
   ]
  },
  {
   "cell_type": "markdown",
   "id": "deaf18a6",
   "metadata": {},
   "source": [
    "## Try with else clause\n",
    "Else clause is used with the try clause when you want to execute the set of instructions in the absence of exceptions in your code"
   ]
  },
  {
   "cell_type": "code",
   "execution_count": null,
   "id": "0ede787f",
   "metadata": {},
   "outputs": [],
   "source": [
    "a =input(\"Enter the number 1 : \")\n",
    "b =input(\"Enter the number 2 : \")\n",
    "\n",
    "try:\n",
    "    c= int(a) + int(b)\n",
    "    print(c)\n",
    "except Exception as e:\n",
    "    print(e)\n",
    "else:\n",
    "    print(\"All inputs are good, Else clause got executed!!\")"
   ]
  },
  {
   "cell_type": "markdown",
   "id": "5e92922b",
   "metadata": {},
   "source": [
    "## Try Finally keyword\n",
    "Finally is a keyword which surely executes after the execution of the try except block of statement"
   ]
  },
  {
   "cell_type": "code",
   "execution_count": null,
   "id": "248fbe5f",
   "metadata": {},
   "outputs": [],
   "source": [
    "a =input(\"Enter the number 1 : \")\n",
    "b =input(\"Enter the number 2 : \")\n",
    "\n",
    "try:\n",
    "    c= int(a) + b\n",
    "    print(c)\n",
    "except:\n",
    "    print(\"Error in try block\")\n",
    "finally:\n",
    "    print(\"Finally runs post try except\")"
   ]
  },
  {
   "cell_type": "code",
   "execution_count": null,
   "id": "2b7994e7",
   "metadata": {},
   "outputs": [],
   "source": [
    "a =input(\"Enter the number 1 : \")\n",
    "b =input(\"Enter the number 2 : \")\n",
    "\n",
    "try:\n",
    "    c= int(a) + int(b)\n",
    "    print(c)\n",
    "except Exception as e:\n",
    "    print(e)\n",
    "else:\n",
    "    print(\"All inputs are good, Else clause got executed!!\")\n",
    "finally:\n",
    "    print(\"Finally runs post try except\")"
   ]
  },
  {
   "cell_type": "code",
   "execution_count": null,
   "id": "5d2529fd",
   "metadata": {},
   "outputs": [],
   "source": []
  }
 ],
 "metadata": {
  "kernelspec": {
   "display_name": "Python 3 (ipykernel)",
   "language": "python",
   "name": "python3"
  },
  "language_info": {
   "codemirror_mode": {
    "name": "ipython",
    "version": 3
   },
   "file_extension": ".py",
   "mimetype": "text/x-python",
   "name": "python",
   "nbconvert_exporter": "python",
   "pygments_lexer": "ipython3",
   "version": "3.11.9"
  }
 },
 "nbformat": 4,
 "nbformat_minor": 5
}
