{
 "cells": [
  {
   "cell_type": "code",
   "execution_count": 1,
   "id": "8318d003",
   "metadata": {},
   "outputs": [
    {
     "name": "stdout",
     "output_type": "stream",
     "text": [
      "This is Kolhapur\n"
     ]
    }
   ],
   "source": [
    "print(\"This is Kolhapur\")"
   ]
  },
  {
   "cell_type": "markdown",
   "id": "9b6af1e9",
   "metadata": {},
   "source": [
    "## Variable"
   ]
  },
  {
   "cell_type": "code",
   "execution_count": 2,
   "id": "78f4878f",
   "metadata": {},
   "outputs": [],
   "source": [
    "name =\"VaibhaV\""
   ]
  },
  {
   "cell_type": "code",
   "execution_count": 3,
   "id": "e48da3e8",
   "metadata": {},
   "outputs": [
    {
     "name": "stdout",
     "output_type": "stream",
     "text": [
      "VaibhaV\n"
     ]
    }
   ],
   "source": [
    "print(name)"
   ]
  },
  {
   "cell_type": "code",
   "execution_count": 4,
   "id": "b31ead93",
   "metadata": {},
   "outputs": [],
   "source": [
    "name = \"Sheetal\""
   ]
  },
  {
   "cell_type": "code",
   "execution_count": 5,
   "id": "81414db5",
   "metadata": {},
   "outputs": [
    {
     "name": "stdout",
     "output_type": "stream",
     "text": [
      "Sheetal\n"
     ]
    }
   ],
   "source": [
    "print(name)"
   ]
  },
  {
   "cell_type": "markdown",
   "id": "b781cadf",
   "metadata": {},
   "source": [
    "## Data type\n",
    "- int\n",
    "- float\n",
    "- Boolean\n",
    "- String"
   ]
  },
  {
   "cell_type": "code",
   "execution_count": 9,
   "id": "3477502d",
   "metadata": {},
   "outputs": [
    {
     "name": "stdout",
     "output_type": "stream",
     "text": [
      "<class 'int'>\n",
      "<class 'float'>\n",
      "<class 'bool'>\n",
      "<class 'str'>\n"
     ]
    }
   ],
   "source": [
    "num1= 1 \n",
    "print(type(num1))\n",
    "num2= 2.303 \n",
    "print(type(num2))\n",
    "num3= True \n",
    "print(type(num3))\n",
    "num4= \"VaibhaV\" \n",
    "print(type(num4))"
   ]
  },
  {
   "cell_type": "markdown",
   "id": "21e960be",
   "metadata": {},
   "source": [
    "## Operators\n"
   ]
  },
  {
   "cell_type": "markdown",
   "id": "dc0b8d3b",
   "metadata": {},
   "source": [
    "## Arithmatic Operator +, -, *, /"
   ]
  },
  {
   "cell_type": "code",
   "execution_count": 16,
   "id": "abc4078f",
   "metadata": {},
   "outputs": [],
   "source": [
    "\n",
    "num1, num2 =36, 7"
   ]
  },
  {
   "cell_type": "code",
   "execution_count": 17,
   "id": "23fdc7fe",
   "metadata": {},
   "outputs": [
    {
     "data": {
      "text/plain": [
       "43"
      ]
     },
     "execution_count": 17,
     "metadata": {},
     "output_type": "execute_result"
    }
   ],
   "source": [
    "num1 + num2"
   ]
  },
  {
   "cell_type": "code",
   "execution_count": 18,
   "id": "1310b8a8",
   "metadata": {},
   "outputs": [
    {
     "data": {
      "text/plain": [
       "29"
      ]
     },
     "execution_count": 18,
     "metadata": {},
     "output_type": "execute_result"
    }
   ],
   "source": [
    "num1 - num2"
   ]
  },
  {
   "cell_type": "code",
   "execution_count": 19,
   "id": "31e6990e",
   "metadata": {},
   "outputs": [
    {
     "data": {
      "text/plain": [
       "252"
      ]
     },
     "execution_count": 19,
     "metadata": {},
     "output_type": "execute_result"
    }
   ],
   "source": [
    "num1 * num2"
   ]
  },
  {
   "cell_type": "code",
   "execution_count": 20,
   "id": "d2ad4e78",
   "metadata": {},
   "outputs": [
    {
     "data": {
      "text/plain": [
       "5.142857142857143"
      ]
     },
     "execution_count": 20,
     "metadata": {},
     "output_type": "execute_result"
    }
   ],
   "source": [
    "num1 / num2"
   ]
  },
  {
   "cell_type": "code",
   "execution_count": 21,
   "id": "ae69aebb",
   "metadata": {},
   "outputs": [
    {
     "data": {
      "text/plain": [
       "5"
      ]
     },
     "execution_count": 21,
     "metadata": {},
     "output_type": "execute_result"
    }
   ],
   "source": [
    "num1 // num2"
   ]
  },
  {
   "cell_type": "markdown",
   "id": "10c2497e",
   "metadata": {},
   "source": [
    "## Relational Operator <, >, ==, !=\n"
   ]
  },
  {
   "cell_type": "code",
   "execution_count": 23,
   "id": "4cefcfc1",
   "metadata": {},
   "outputs": [
    {
     "data": {
      "text/plain": [
       "True"
      ]
     },
     "execution_count": 23,
     "metadata": {},
     "output_type": "execute_result"
    }
   ],
   "source": [
    "num1 > num2"
   ]
  },
  {
   "cell_type": "code",
   "execution_count": 24,
   "id": "3e096836",
   "metadata": {},
   "outputs": [
    {
     "data": {
      "text/plain": [
       "False"
      ]
     },
     "execution_count": 24,
     "metadata": {},
     "output_type": "execute_result"
    }
   ],
   "source": [
    "num1 < num2"
   ]
  },
  {
   "cell_type": "code",
   "execution_count": 25,
   "id": "3e0c39ef",
   "metadata": {},
   "outputs": [
    {
     "data": {
      "text/plain": [
       "False"
      ]
     },
     "execution_count": 25,
     "metadata": {},
     "output_type": "execute_result"
    }
   ],
   "source": [
    "num1 == num2"
   ]
  },
  {
   "cell_type": "code",
   "execution_count": 26,
   "id": "c90cdb40",
   "metadata": {},
   "outputs": [
    {
     "data": {
      "text/plain": [
       "True"
      ]
     },
     "execution_count": 26,
     "metadata": {},
     "output_type": "execute_result"
    }
   ],
   "source": [
    "num1 != num2"
   ]
  },
  {
   "cell_type": "markdown",
   "id": "bd319033",
   "metadata": {},
   "source": [
    "## Logical Operator & |\n"
   ]
  },
  {
   "cell_type": "code",
   "execution_count": 28,
   "id": "16b33bd7",
   "metadata": {},
   "outputs": [],
   "source": [
    "log1 = True\n",
    "log2 = False"
   ]
  },
  {
   "cell_type": "code",
   "execution_count": 29,
   "id": "fa00aa26",
   "metadata": {},
   "outputs": [
    {
     "data": {
      "text/plain": [
       "False"
      ]
     },
     "execution_count": 29,
     "metadata": {},
     "output_type": "execute_result"
    }
   ],
   "source": [
    "log1 & log2"
   ]
  },
  {
   "cell_type": "code",
   "execution_count": 30,
   "id": "2e64efc9",
   "metadata": {},
   "outputs": [
    {
     "data": {
      "text/plain": [
       "True"
      ]
     },
     "execution_count": 30,
     "metadata": {},
     "output_type": "execute_result"
    }
   ],
   "source": [
    "log1 & log1"
   ]
  },
  {
   "cell_type": "code",
   "execution_count": 31,
   "id": "3e49dcab",
   "metadata": {},
   "outputs": [
    {
     "data": {
      "text/plain": [
       "True"
      ]
     },
     "execution_count": 31,
     "metadata": {},
     "output_type": "execute_result"
    }
   ],
   "source": [
    "log1 | log1"
   ]
  },
  {
   "cell_type": "markdown",
   "id": "a8d46fa4",
   "metadata": {},
   "source": [
    "## Python Tokens\n",
    "Smallest meaning full componet in program\n",
    "- Keywords : Special reversed words like For If Yield\n",
    "- Identifiers: Names used for variables, functions or objects\n",
    "- Literals : Costants in python\n",
    "    - num = \"Test\" : here \"num\" is Identifier and \"Test\" is literal\n",
    "- Operators"
   ]
  },
  {
   "cell_type": "markdown",
   "id": "a7960f95",
   "metadata": {},
   "source": [
    "## String:\n"
   ]
  },
  {
   "cell_type": "code",
   "execution_count": 33,
   "id": "05c79811",
   "metadata": {},
   "outputs": [
    {
     "data": {
      "text/plain": [
       "7"
      ]
     },
     "execution_count": 33,
     "metadata": {},
     "output_type": "execute_result"
    }
   ],
   "source": [
    "str1 = \"I love Pizza\"\n",
    "str1.find(\"Piz\")"
   ]
  },
  {
   "cell_type": "code",
   "execution_count": 35,
   "id": "d98864e4",
   "metadata": {},
   "outputs": [
    {
     "data": {
      "text/plain": [
       "['Mango', 'Banana', 'Apple']"
      ]
     },
     "execution_count": 35,
     "metadata": {},
     "output_type": "execute_result"
    }
   ],
   "source": [
    "fruits =\"Mango, Banana, Apple\"\n",
    "fruits.split(\", \")"
   ]
  },
  {
   "cell_type": "markdown",
   "id": "f9c75f15",
   "metadata": {},
   "source": [
    "## List"
   ]
  },
  {
   "cell_type": "code",
   "execution_count": 48,
   "id": "e5d1a61b",
   "metadata": {},
   "outputs": [],
   "source": [
    "l1 = [1, \"a\", 2, True]"
   ]
  },
  {
   "cell_type": "code",
   "execution_count": 49,
   "id": "7e91a138",
   "metadata": {},
   "outputs": [
    {
     "data": {
      "text/plain": [
       "[100, 'a', 2, True]"
      ]
     },
     "execution_count": 49,
     "metadata": {},
     "output_type": "execute_result"
    }
   ],
   "source": [
    "l1[0]=100\n",
    "l1\n"
   ]
  },
  {
   "cell_type": "code",
   "execution_count": 50,
   "id": "689fbee3",
   "metadata": {},
   "outputs": [
    {
     "data": {
      "text/plain": [
       "[100, 'a', 2, True, 'VaibhaV']"
      ]
     },
     "execution_count": 50,
     "metadata": {},
     "output_type": "execute_result"
    }
   ],
   "source": [
    "l1.append(\"VaibhaV\")\n",
    "l1"
   ]
  },
  {
   "cell_type": "code",
   "execution_count": 51,
   "id": "f02b6d97",
   "metadata": {},
   "outputs": [
    {
     "data": {
      "text/plain": [
       "'VaibhaV'"
      ]
     },
     "execution_count": 51,
     "metadata": {},
     "output_type": "execute_result"
    }
   ],
   "source": [
    "l1.pop()"
   ]
  },
  {
   "cell_type": "code",
   "execution_count": 52,
   "id": "f618baec",
   "metadata": {},
   "outputs": [
    {
     "data": {
      "text/plain": [
       "[100, 'a', 2, True]"
      ]
     },
     "execution_count": 52,
     "metadata": {},
     "output_type": "execute_result"
    }
   ],
   "source": [
    "l1"
   ]
  },
  {
   "cell_type": "code",
   "execution_count": 53,
   "id": "5e584908",
   "metadata": {},
   "outputs": [
    {
     "data": {
      "text/plain": [
       "[True, 2, 'a', 100]"
      ]
     },
     "execution_count": 53,
     "metadata": {},
     "output_type": "execute_result"
    }
   ],
   "source": [
    "l1.reverse()\n",
    "l1"
   ]
  },
  {
   "cell_type": "code",
   "execution_count": 54,
   "id": "a1471ea7",
   "metadata": {},
   "outputs": [
    {
     "data": {
      "text/plain": [
       "[True, 'Test', 2, 'a', 100]"
      ]
     },
     "execution_count": 54,
     "metadata": {},
     "output_type": "execute_result"
    }
   ],
   "source": [
    "l1.insert(1, \"Test\")\n",
    "l1"
   ]
  },
  {
   "cell_type": "code",
   "execution_count": 56,
   "id": "1b3ff8fb",
   "metadata": {},
   "outputs": [
    {
     "ename": "TypeError",
     "evalue": "'<' not supported between instances of 'str' and 'bool'",
     "output_type": "error",
     "traceback": [
      "\u001b[0;31m---------------------------------------------------------------------------\u001b[0m",
      "\u001b[0;31mTypeError\u001b[0m                                 Traceback (most recent call last)",
      "Cell \u001b[0;32mIn[56], line 1\u001b[0m\n\u001b[0;32m----> 1\u001b[0m l1\u001b[38;5;241m.\u001b[39msort()\n\u001b[1;32m      2\u001b[0m l1\n",
      "\u001b[0;31mTypeError\u001b[0m: '<' not supported between instances of 'str' and 'bool'"
     ]
    }
   ],
   "source": [
    "l1.sort()\n",
    "l1"
   ]
  },
  {
   "cell_type": "code",
   "execution_count": 57,
   "id": "b6fbfb83",
   "metadata": {},
   "outputs": [
    {
     "data": {
      "text/plain": [
       "['Apple', 'Banana', 'Mango']"
      ]
     },
     "execution_count": 57,
     "metadata": {},
     "output_type": "execute_result"
    }
   ],
   "source": [
    "l2 = ['Mango', 'Banana', 'Apple']\n",
    "l2.sort()\n",
    "l2\n"
   ]
  },
  {
   "cell_type": "code",
   "execution_count": 58,
   "id": "f7df7a9a",
   "metadata": {},
   "outputs": [
    {
     "data": {
      "text/plain": [
       "['a', 'b', 'c', 1, 2, 3]"
      ]
     },
     "execution_count": 58,
     "metadata": {},
     "output_type": "execute_result"
    }
   ],
   "source": [
    "l1 = [\"a\", \"b\", \"c\"]\n",
    "l2 = [1, 2, 3]\n",
    "l1+ l2"
   ]
  },
  {
   "cell_type": "code",
   "execution_count": 59,
   "id": "d62abb6e",
   "metadata": {},
   "outputs": [
    {
     "data": {
      "text/plain": [
       "[1, 'b', True, 1, 'b', True, 1, 'b', True]"
      ]
     },
     "execution_count": 59,
     "metadata": {},
     "output_type": "execute_result"
    }
   ],
   "source": [
    "l1 = [1, \"b\", True]\n",
    "l1 * 3"
   ]
  },
  {
   "cell_type": "markdown",
   "id": "8619691f",
   "metadata": {},
   "source": [
    "## Tuple\n",
    "- Tuple are ordered collection of elements enclosed within ()\n",
    "- Tuples are immutable, once created we can not update or change values of tuple"
   ]
  },
  {
   "cell_type": "code",
   "execution_count": 60,
   "id": "0dc3737b",
   "metadata": {},
   "outputs": [
    {
     "data": {
      "text/plain": [
       "(1, 'b', True)"
      ]
     },
     "execution_count": 60,
     "metadata": {},
     "output_type": "execute_result"
    }
   ],
   "source": [
    "tup1 = (1, \"b\", True)\n",
    "tup1"
   ]
  },
  {
   "cell_type": "code",
   "execution_count": 61,
   "id": "493fcc11",
   "metadata": {},
   "outputs": [
    {
     "data": {
      "text/plain": [
       "tuple"
      ]
     },
     "execution_count": 61,
     "metadata": {},
     "output_type": "execute_result"
    }
   ],
   "source": [
    "type(tup1)"
   ]
  },
  {
   "cell_type": "code",
   "execution_count": 63,
   "id": "24280823",
   "metadata": {},
   "outputs": [
    {
     "data": {
      "text/plain": [
       "(1, 'b', True, 1, 'b', True, 1, 'b', True)"
      ]
     },
     "execution_count": 63,
     "metadata": {},
     "output_type": "execute_result"
    }
   ],
   "source": [
    "tup2 = tup1 *3 \n",
    "tup2"
   ]
  },
  {
   "cell_type": "code",
   "execution_count": 64,
   "id": "2c22e082",
   "metadata": {},
   "outputs": [
    {
     "data": {
      "text/plain": [
       "('b', True, 1, 'b', True)"
      ]
     },
     "execution_count": 64,
     "metadata": {},
     "output_type": "execute_result"
    }
   ],
   "source": [
    "tup2[1:6]"
   ]
  },
  {
   "cell_type": "code",
   "execution_count": 65,
   "id": "9bb7566d",
   "metadata": {},
   "outputs": [
    {
     "data": {
      "text/plain": [
       "(1, True, 'b', 1, True)"
      ]
     },
     "execution_count": 65,
     "metadata": {},
     "output_type": "execute_result"
    }
   ],
   "source": [
    "tup2[::2]"
   ]
  },
  {
   "cell_type": "code",
   "execution_count": 66,
   "id": "743af8ea",
   "metadata": {},
   "outputs": [
    {
     "ename": "TypeError",
     "evalue": "'tuple' object does not support item assignment",
     "output_type": "error",
     "traceback": [
      "\u001b[0;31m---------------------------------------------------------------------------\u001b[0m",
      "\u001b[0;31mTypeError\u001b[0m                                 Traceback (most recent call last)",
      "Cell \u001b[0;32mIn[66], line 1\u001b[0m\n\u001b[0;32m----> 1\u001b[0m tup2[\u001b[38;5;241m2\u001b[39m]\u001b[38;5;241m=\u001b[39m\u001b[38;5;124m\"\u001b[39m\u001b[38;5;124mTest\u001b[39m\u001b[38;5;124m\"\u001b[39m\n",
      "\u001b[0;31mTypeError\u001b[0m: 'tuple' object does not support item assignment"
     ]
    }
   ],
   "source": [
    "tup2[2]=\"Test\""
   ]
  },
  {
   "cell_type": "code",
   "execution_count": 67,
   "id": "64753487",
   "metadata": {},
   "outputs": [
    {
     "data": {
      "text/plain": [
       "('a', 'b', 'c', 1, 2, 3)"
      ]
     },
     "execution_count": 67,
     "metadata": {},
     "output_type": "execute_result"
    }
   ],
   "source": [
    "tup1 = (\"a\", \"b\", \"c\")\n",
    "tup2 = (1, 2, 3)\n",
    "tup1 + tup2"
   ]
  },
  {
   "cell_type": "markdown",
   "id": "295bfff8",
   "metadata": {},
   "source": [
    "## Dictionary\n",
    "- Dictionary is an unordered collection of key-value pairs enclosed with {}\n",
    "- Dictionary is mutable"
   ]
  },
  {
   "cell_type": "code",
   "execution_count": 73,
   "id": "9363d7be",
   "metadata": {},
   "outputs": [],
   "source": [
    "fruit = {\"Mango\": 10, 'Banana': 20, 'Apple':30}"
   ]
  },
  {
   "cell_type": "code",
   "execution_count": 74,
   "id": "0898b9d4",
   "metadata": {},
   "outputs": [
    {
     "data": {
      "text/plain": [
       "dict_keys(['Mango', 'Banana', 'Apple'])"
      ]
     },
     "execution_count": 74,
     "metadata": {},
     "output_type": "execute_result"
    }
   ],
   "source": [
    "fruit.keys()"
   ]
  },
  {
   "cell_type": "code",
   "execution_count": 75,
   "id": "5de6d443",
   "metadata": {},
   "outputs": [
    {
     "data": {
      "text/plain": [
       "dict_values([10, 20, 30])"
      ]
     },
     "execution_count": 75,
     "metadata": {},
     "output_type": "execute_result"
    }
   ],
   "source": [
    "fruit.values()"
   ]
  },
  {
   "cell_type": "code",
   "execution_count": 76,
   "id": "dd55f558",
   "metadata": {},
   "outputs": [
    {
     "data": {
      "text/plain": [
       "{'Mango': 10, 'Banana': 20, 'Apple': 30, 'Guava': 40}"
      ]
     },
     "execution_count": 76,
     "metadata": {},
     "output_type": "execute_result"
    }
   ],
   "source": [
    "fruit[\"Guava\"]=40\n",
    "fruit"
   ]
  },
  {
   "cell_type": "code",
   "execution_count": 72,
   "id": "049c1132",
   "metadata": {},
   "outputs": [
    {
     "data": {
      "text/plain": [
       "{'Mango': 10, 'Banana': 20, 'Apple': 30, 'Guava': 40}"
      ]
     },
     "execution_count": 72,
     "metadata": {},
     "output_type": "execute_result"
    }
   ],
   "source": [
    "fruit"
   ]
  },
  {
   "cell_type": "code",
   "execution_count": 82,
   "id": "b18b24eb",
   "metadata": {},
   "outputs": [],
   "source": [
    "f1 = {'Mango': 10, 'Banana': 20}\n",
    "f2 = {'Apple': 30, 'Guava': 40}"
   ]
  },
  {
   "cell_type": "code",
   "execution_count": 84,
   "id": "d182e8fd",
   "metadata": {},
   "outputs": [
    {
     "data": {
      "text/plain": [
       "{'Mango': 10, 'Banana': 20, 'Apple': 30, 'Guava': 40}"
      ]
     },
     "execution_count": 84,
     "metadata": {},
     "output_type": "execute_result"
    }
   ],
   "source": [
    "f1.update(f2)\n",
    "f1"
   ]
  },
  {
   "cell_type": "code",
   "execution_count": 86,
   "id": "fd7a0b4b",
   "metadata": {},
   "outputs": [
    {
     "data": {
      "text/plain": [
       "40"
      ]
     },
     "execution_count": 86,
     "metadata": {},
     "output_type": "execute_result"
    }
   ],
   "source": [
    "f1.pop(\"Guava\")\n"
   ]
  },
  {
   "cell_type": "code",
   "execution_count": 87,
   "id": "0a8b21ef",
   "metadata": {},
   "outputs": [
    {
     "data": {
      "text/plain": [
       "{'Mango': 10, 'Banana': 20, 'Apple': 30}"
      ]
     },
     "execution_count": 87,
     "metadata": {},
     "output_type": "execute_result"
    }
   ],
   "source": [
    "f1"
   ]
  },
  {
   "cell_type": "markdown",
   "id": "6033e2d8",
   "metadata": {},
   "source": [
    "## Set\n",
    "- Set ia a unordered and unindexed collection of elements enclosed with {}\n",
    "- Duplicates are not allowed in Set\n"
   ]
  },
  {
   "cell_type": "code",
   "execution_count": 93,
   "id": "2a88125f",
   "metadata": {},
   "outputs": [
    {
     "data": {
      "text/plain": [
       "{1, 2, 3, 'a', 'b', 'c'}"
      ]
     },
     "execution_count": 93,
     "metadata": {},
     "output_type": "execute_result"
    }
   ],
   "source": [
    "# Try duplicates with set\n",
    "s1 = {\"c\", \"a\", \"b\", 1, 2, 3, \"a\", \"b\", 1, 2}\n",
    "s1"
   ]
  },
  {
   "cell_type": "code",
   "execution_count": 94,
   "id": "52ac4fa6",
   "metadata": {},
   "outputs": [
    {
     "data": {
      "text/plain": [
       "{1, 2, 3, 'Test', 'a', 'b', 'c'}"
      ]
     },
     "execution_count": 94,
     "metadata": {},
     "output_type": "execute_result"
    }
   ],
   "source": [
    "s1.add(\"Test\")\n",
    "s1"
   ]
  },
  {
   "cell_type": "code",
   "execution_count": 95,
   "id": "395a9bf0",
   "metadata": {},
   "outputs": [
    {
     "data": {
      "text/plain": [
       "{1, 2, 3, 'Test', 'a', 'c'}"
      ]
     },
     "execution_count": 95,
     "metadata": {},
     "output_type": "execute_result"
    }
   ],
   "source": [
    "s1.remove(\"b\")\n",
    "s1"
   ]
  },
  {
   "cell_type": "code",
   "execution_count": 105,
   "id": "ce5588d4",
   "metadata": {},
   "outputs": [
    {
     "data": {
      "text/plain": [
       "{1, 2, 'Apple', 'Banana', 'Mango', 'a', 'b', 'c'}"
      ]
     },
     "execution_count": 105,
     "metadata": {},
     "output_type": "execute_result"
    }
   ],
   "source": [
    "s1 = {'Mango', 'Banana', 'Apple', 1, 2, 'a'}\n",
    "s2 = {'a', 'b', 'c', 1, 2}\n",
    "s1.union(s2)"
   ]
  },
  {
   "cell_type": "code",
   "execution_count": 106,
   "id": "40f43aea",
   "metadata": {},
   "outputs": [
    {
     "data": {
      "text/plain": [
       "{1, 2, 'Apple', 'Banana', 'Mango', 'a'}"
      ]
     },
     "execution_count": 106,
     "metadata": {},
     "output_type": "execute_result"
    }
   ],
   "source": [
    "s1"
   ]
  },
  {
   "cell_type": "code",
   "execution_count": 107,
   "id": "7fa49b00",
   "metadata": {},
   "outputs": [
    {
     "data": {
      "text/plain": [
       "{1, 2, 'a', 'b', 'c'}"
      ]
     },
     "execution_count": 107,
     "metadata": {},
     "output_type": "execute_result"
    }
   ],
   "source": [
    "s2"
   ]
  },
  {
   "cell_type": "code",
   "execution_count": 108,
   "id": "ad790593",
   "metadata": {},
   "outputs": [
    {
     "data": {
      "text/plain": [
       "{1, 2, 'a'}"
      ]
     },
     "execution_count": 108,
     "metadata": {},
     "output_type": "execute_result"
    }
   ],
   "source": [
    "s1.intersection(s2)"
   ]
  },
  {
   "cell_type": "markdown",
   "id": "c3c0dbc6",
   "metadata": {},
   "source": [
    "## Decision making\n"
   ]
  },
  {
   "cell_type": "code",
   "execution_count": 110,
   "id": "97069802",
   "metadata": {},
   "outputs": [],
   "source": [
    "a, b= 10, 20"
   ]
  },
  {
   "cell_type": "code",
   "execution_count": 113,
   "id": "128a6021",
   "metadata": {},
   "outputs": [
    {
     "name": "stdout",
     "output_type": "stream",
     "text": [
      "B is greater than A\n"
     ]
    }
   ],
   "source": [
    "if a>b:\n",
    "    print(\"A is greater than B\")\n",
    "else:\n",
    "    print(\"B is greater than A\")"
   ]
  },
  {
   "cell_type": "code",
   "execution_count": 114,
   "id": "f635d743",
   "metadata": {},
   "outputs": [
    {
     "data": {
      "text/plain": [
       "'B is greater than A'"
      ]
     },
     "execution_count": 114,
     "metadata": {},
     "output_type": "execute_result"
    }
   ],
   "source": [
    "result= \"A is greater than B\" if a>b else \"B is greater than A\"\n",
    "result"
   ]
  },
  {
   "cell_type": "code",
   "execution_count": 115,
   "id": "f1986e21",
   "metadata": {},
   "outputs": [],
   "source": [
    "tup= (\"a\", \"b\", \"c\")"
   ]
  },
  {
   "cell_type": "code",
   "execution_count": 116,
   "id": "cce134af",
   "metadata": {},
   "outputs": [
    {
     "name": "stdout",
     "output_type": "stream",
     "text": [
      "z is not in tup\n"
     ]
    }
   ],
   "source": [
    "if \"z\" in tup:\n",
    "    print(\"z is in tup\")\n",
    "else:\n",
    "    print(\"z is not in tup\")"
   ]
  },
  {
   "cell_type": "markdown",
   "id": "4ed5852b",
   "metadata": {},
   "source": [
    "## Looping Statement\n",
    "To repeat task multiple times"
   ]
  },
  {
   "cell_type": "code",
   "execution_count": 117,
   "id": "ab43ed68",
   "metadata": {},
   "outputs": [
    {
     "name": "stdout",
     "output_type": "stream",
     "text": [
      "Mango\n",
      "Banana\n",
      "Apple\n"
     ]
    }
   ],
   "source": [
    "fruit = ['Mango', 'Banana', 'Apple']\n",
    "for frt in fruit:\n",
    "    print(frt)"
   ]
  },
  {
   "cell_type": "code",
   "execution_count": 119,
   "id": "b3d754a1",
   "metadata": {},
   "outputs": [
    {
     "name": "stdout",
     "output_type": "stream",
     "text": [
      "1\n",
      "2\n",
      "3\n",
      "4\n",
      "5\n",
      "6\n",
      "7\n",
      "8\n",
      "9\n",
      "10\n"
     ]
    }
   ],
   "source": [
    "i= 1\n",
    "while i<=10:\n",
    "    print(i)\n",
    "    i+=1"
   ]
  },
  {
   "cell_type": "markdown",
   "id": "b95cc61b",
   "metadata": {},
   "source": [
    "## Object Oriented Programming\n",
    "- Class: user defined data type\n",
    "    - Attributes\n",
    "    - Methods\n",
    "- Objects : Specific instance of a class"
   ]
  },
  {
   "cell_type": "code",
   "execution_count": 141,
   "id": "fcc1e462",
   "metadata": {},
   "outputs": [],
   "source": [
    "class Phone:\n",
    "    def make_call(self):\n",
    "        print(\"Making phone call\")\n",
    "    def play_game(self):\n",
    "        print(\"Playing game\")\n",
    "    def set_color(self, color):\n",
    "        self.color = color\n",
    "    def set_cost(self, cost):\n",
    "        self.cost = cost\n",
    "    def show_color(self):\n",
    "        return self.color\n",
    "    def show_cost(self):\n",
    "        return self.cost"
   ]
  },
  {
   "cell_type": "code",
   "execution_count": 142,
   "id": "f8cd1178",
   "metadata": {},
   "outputs": [],
   "source": [
    "p1 = Phone()"
   ]
  },
  {
   "cell_type": "code",
   "execution_count": 143,
   "id": "b7710cb6",
   "metadata": {},
   "outputs": [
    {
     "name": "stdout",
     "output_type": "stream",
     "text": [
      "Making phone call\n"
     ]
    }
   ],
   "source": [
    "p1.make_call()"
   ]
  },
  {
   "cell_type": "code",
   "execution_count": 144,
   "id": "07d3d853",
   "metadata": {},
   "outputs": [
    {
     "name": "stdout",
     "output_type": "stream",
     "text": [
      "Playing game\n"
     ]
    }
   ],
   "source": [
    "p1.play_game()"
   ]
  },
  {
   "cell_type": "code",
   "execution_count": 145,
   "id": "f6c08cea",
   "metadata": {},
   "outputs": [],
   "source": [
    "p1.set_color(\"Red\")"
   ]
  },
  {
   "cell_type": "code",
   "execution_count": 146,
   "id": "2d8b5ca5",
   "metadata": {},
   "outputs": [],
   "source": [
    "p1.set_cost(1000)"
   ]
  },
  {
   "cell_type": "code",
   "execution_count": 147,
   "id": "399050a1",
   "metadata": {},
   "outputs": [
    {
     "data": {
      "text/plain": [
       "'Red'"
      ]
     },
     "execution_count": 147,
     "metadata": {},
     "output_type": "execute_result"
    }
   ],
   "source": [
    "p1.show_color()"
   ]
  },
  {
   "cell_type": "code",
   "execution_count": 148,
   "id": "92d5abc8",
   "metadata": {},
   "outputs": [
    {
     "data": {
      "text/plain": [
       "1000"
      ]
     },
     "execution_count": 148,
     "metadata": {},
     "output_type": "execute_result"
    }
   ],
   "source": [
    "p1.show_cost()"
   ]
  },
  {
   "cell_type": "markdown",
   "id": "51491a6d",
   "metadata": {},
   "source": [
    "### Constructor"
   ]
  },
  {
   "cell_type": "code",
   "execution_count": 149,
   "id": "033ab077",
   "metadata": {},
   "outputs": [],
   "source": [
    "class Phone:\n",
    "    def __init__(self, color, cost):\n",
    "        self.color = color\n",
    "        self.cost = cost\n",
    "    def make_call(self):\n",
    "        print(\"Making phone call\")\n",
    "    def play_game(self):\n",
    "        print(\"Playing game\")"
   ]
  },
  {
   "cell_type": "code",
   "execution_count": 150,
   "id": "6c304abc",
   "metadata": {},
   "outputs": [],
   "source": [
    "p1 = Phone(\"Red\", 2000)"
   ]
  },
  {
   "cell_type": "code",
   "execution_count": 151,
   "id": "7b0a88c7",
   "metadata": {},
   "outputs": [
    {
     "data": {
      "text/plain": [
       "'Red'"
      ]
     },
     "execution_count": 151,
     "metadata": {},
     "output_type": "execute_result"
    }
   ],
   "source": [
    "p1.color"
   ]
  },
  {
   "cell_type": "markdown",
   "id": "0f776f99",
   "metadata": {},
   "source": [
    "## Inheritance\n",
    "With inheritance one class can derive the properties of another class"
   ]
  },
  {
   "cell_type": "code",
   "execution_count": 154,
   "id": "6d9f7d95",
   "metadata": {},
   "outputs": [],
   "source": [
    "class Vehicle:\n",
    "    def __init__(self, mileage, cost):\n",
    "        self.mileage = mileage\n",
    "        self.cost = cost\n",
    "        \n",
    "    def vehicle_details(self):\n",
    "        print(f\"Vehicle has {self.mileage} mileage and it cost ${self.cost}\")"
   ]
  },
  {
   "cell_type": "code",
   "execution_count": 156,
   "id": "33dea09c",
   "metadata": {},
   "outputs": [
    {
     "name": "stdout",
     "output_type": "stream",
     "text": [
      "Vehicle has 27 mileage and it cost $15000\n"
     ]
    }
   ],
   "source": [
    "v1 = Vehicle(27, 15000)\n",
    "v1.vehicle_details()"
   ]
  },
  {
   "cell_type": "code",
   "execution_count": 159,
   "id": "68098ecc",
   "metadata": {},
   "outputs": [],
   "source": [
    "class Car(Vehicle):\n",
    "    def show_car(self):\n",
    "        print(\"I am Car\")\n",
    "        "
   ]
  },
  {
   "cell_type": "code",
   "execution_count": 160,
   "id": "f57417c2",
   "metadata": {},
   "outputs": [],
   "source": [
    "c1 = Car(200, 15000)"
   ]
  },
  {
   "cell_type": "code",
   "execution_count": 161,
   "id": "ab542c7f",
   "metadata": {},
   "outputs": [
    {
     "name": "stdout",
     "output_type": "stream",
     "text": [
      "I am Car\n"
     ]
    }
   ],
   "source": [
    "c1.show_car()"
   ]
  },
  {
   "cell_type": "code",
   "execution_count": 162,
   "id": "0226d018",
   "metadata": {},
   "outputs": [
    {
     "name": "stdout",
     "output_type": "stream",
     "text": [
      "Vehicle has 200 mileage and it cost $15000\n"
     ]
    }
   ],
   "source": [
    "c1.vehicle_details()"
   ]
  },
  {
   "cell_type": "code",
   "execution_count": 171,
   "id": "176ea530",
   "metadata": {},
   "outputs": [],
   "source": [
    "class Car(Vehicle):\n",
    "    def __init__(self, mileage, cost, hp ):\n",
    "        super().__init__(mileage, cost)\n",
    "        self.hp = hp\n",
    "    def show_car(self):\n",
    "        print(f\"I am car with mileage: {self.mileage}, cost: {self.cost}, power: {self.hp} \")"
   ]
  },
  {
   "cell_type": "code",
   "execution_count": 172,
   "id": "5bf41b8a",
   "metadata": {},
   "outputs": [],
   "source": [
    "c1= Car(100, 15000, 2000)"
   ]
  },
  {
   "cell_type": "code",
   "execution_count": 173,
   "id": "03bfccbc",
   "metadata": {},
   "outputs": [
    {
     "name": "stdout",
     "output_type": "stream",
     "text": [
      "I am car with mileage: 100, cost: 15000, power: 2000 \n"
     ]
    }
   ],
   "source": [
    "c1.show_car()"
   ]
  },
  {
   "cell_type": "code",
   "execution_count": 174,
   "id": "cfa93565",
   "metadata": {},
   "outputs": [
    {
     "name": "stdout",
     "output_type": "stream",
     "text": [
      "Vehicle has 100 mileage and it cost $15000\n"
     ]
    }
   ],
   "source": [
    "c1.vehicle_details()"
   ]
  },
  {
   "cell_type": "markdown",
   "id": "b3a0bed2",
   "metadata": {},
   "source": [
    "## Multiple Inheretance\n",
    "Child inherite more than one parent class"
   ]
  },
  {
   "cell_type": "code",
   "execution_count": 181,
   "id": "e4504e85",
   "metadata": {},
   "outputs": [],
   "source": [
    "2\n",
    "    "
   ]
  },
  {
   "cell_type": "code",
   "execution_count": 182,
   "id": "ec2985ab",
   "metadata": {},
   "outputs": [],
   "source": [
    "c1 = Child()\n",
    "c1.assign_string_1(\"One\")\n",
    "c1.assign_string_2(\"Two\")\n",
    "c1.assign_string_3(\"Three\")"
   ]
  },
  {
   "cell_type": "code",
   "execution_count": 184,
   "id": "29fca1d5",
   "metadata": {},
   "outputs": [
    {
     "name": "stdout",
     "output_type": "stream",
     "text": [
      "One\n",
      "Two\n",
      "Three\n"
     ]
    }
   ],
   "source": [
    "print(c1.show_string_1())\n",
    "print(c1.show_string_2())\n",
    "print(c1.show_string_3())"
   ]
  },
  {
   "cell_type": "markdown",
   "id": "c1b1acb3",
   "metadata": {},
   "source": [
    "## Multi Level Inheritance\n",
    "-We have Parent, Child, grand-child"
   ]
  },
  {
   "cell_type": "code",
   "execution_count": 185,
   "id": "a86edef7",
   "metadata": {},
   "outputs": [],
   "source": [
    "class Parent1:\n",
    "    def assign_name(self, name):\n",
    "        self.name = name\n",
    "    def show_name(self):\n",
    "        return self.name\n",
    "    \n",
    "class Child(Parent1):\n",
    "    def assign_age(self, age):\n",
    "        self.age = age\n",
    "    def show_age(self):\n",
    "        return self.age\n",
    "    \n",
    "class GrandChild(Child):\n",
    "    def assign_gender(self, gender):\n",
    "        self.gender = gender\n",
    "    def show_gender(self):\n",
    "        return self.gender\n",
    "    \n"
   ]
  },
  {
   "cell_type": "code",
   "execution_count": 186,
   "id": "32108f67",
   "metadata": {},
   "outputs": [],
   "source": [
    "gc = GrandChild()"
   ]
  },
  {
   "cell_type": "code",
   "execution_count": 187,
   "id": "fba51c37",
   "metadata": {},
   "outputs": [],
   "source": [
    "gc.assign_name(\"Test\")"
   ]
  },
  {
   "cell_type": "code",
   "execution_count": 188,
   "id": "3fe744e7",
   "metadata": {},
   "outputs": [],
   "source": [
    "gc.assign_age(21)"
   ]
  },
  {
   "cell_type": "code",
   "execution_count": 189,
   "id": "9433df66",
   "metadata": {},
   "outputs": [],
   "source": [
    "gc.assign_gender(\"Male\")"
   ]
  },
  {
   "cell_type": "code",
   "execution_count": 191,
   "id": "53216723",
   "metadata": {},
   "outputs": [
    {
     "name": "stdout",
     "output_type": "stream",
     "text": [
      "Test is a Male aged 21\n"
     ]
    }
   ],
   "source": [
    "print(f\"{gc.show_name()} is a {gc.show_gender()} aged {gc.show_age()}\")"
   ]
  },
  {
   "cell_type": "markdown",
   "id": "a73c48e6",
   "metadata": {},
   "source": [
    "## File Handling\n",
    "- Open mode : Open text file for reading, writing and doing some other stuff\n",
    "- Read mode : To read the text which is already stored in your text file\n",
    "- Write mode : To write your text in .txt file\n"
   ]
  },
  {
   "cell_type": "code",
   "execution_count": null,
   "id": "cda9d032",
   "metadata": {},
   "outputs": [],
   "source": []
  }
 ],
 "metadata": {
  "kernelspec": {
   "display_name": "Python 3 (ipykernel)",
   "language": "python",
   "name": "python3"
  },
  "language_info": {
   "codemirror_mode": {
    "name": "ipython",
    "version": 3
   },
   "file_extension": ".py",
   "mimetype": "text/x-python",
   "name": "python",
   "nbconvert_exporter": "python",
   "pygments_lexer": "ipython3",
   "version": "3.11.9"
  }
 },
 "nbformat": 4,
 "nbformat_minor": 5
}
