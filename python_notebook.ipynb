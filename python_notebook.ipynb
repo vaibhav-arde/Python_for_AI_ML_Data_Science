{
 "cells": [
  {
   "cell_type": "code",
   "execution_count": 1,
   "id": "18733038",
   "metadata": {},
   "outputs": [
    {
     "name": "stdout",
     "output_type": "stream",
     "text": [
      "This is Kolhapur\n"
     ]
    }
   ],
   "source": [
    "print(\"This is Kolhapur\")"
   ]
  },
  {
   "cell_type": "markdown",
   "id": "49c55918",
   "metadata": {},
   "source": [
    "## Variable"
   ]
  },
  {
   "cell_type": "code",
   "execution_count": 2,
   "id": "51585d8e",
   "metadata": {},
   "outputs": [],
   "source": [
    "name =\"VaibhaV\""
   ]
  },
  {
   "cell_type": "code",
   "execution_count": 3,
   "id": "b8f849e8",
   "metadata": {},
   "outputs": [
    {
     "name": "stdout",
     "output_type": "stream",
     "text": [
      "VaibhaV\n"
     ]
    }
   ],
   "source": [
    "print(name)"
   ]
  },
  {
   "cell_type": "code",
   "execution_count": 4,
   "id": "438b7089",
   "metadata": {},
   "outputs": [],
   "source": [
    "name = \"Sheetal\""
   ]
  },
  {
   "cell_type": "code",
   "execution_count": 5,
   "id": "f01947e7",
   "metadata": {},
   "outputs": [
    {
     "name": "stdout",
     "output_type": "stream",
     "text": [
      "Sheetal\n"
     ]
    }
   ],
   "source": [
    "print(name)"
   ]
  },
  {
   "cell_type": "markdown",
   "id": "8eea2c56",
   "metadata": {},
   "source": [
    "## Data type\n",
    "- int\n",
    "- float\n",
    "- Boolean\n",
    "- String"
   ]
  },
  {
   "cell_type": "code",
   "execution_count": 9,
   "id": "896ea96e",
   "metadata": {},
   "outputs": [
    {
     "name": "stdout",
     "output_type": "stream",
     "text": [
      "<class 'int'>\n",
      "<class 'float'>\n",
      "<class 'bool'>\n",
      "<class 'str'>\n"
     ]
    }
   ],
   "source": [
    "num1= 1 \n",
    "print(type(num1))\n",
    "num2= 2.303 \n",
    "print(type(num2))\n",
    "num3= True \n",
    "print(type(num3))\n",
    "num4= \"VaibhaV\" \n",
    "print(type(num4))"
   ]
  },
  {
   "cell_type": "markdown",
   "id": "d91ee94d",
   "metadata": {},
   "source": [
    "## Operators\n"
   ]
  },
  {
   "cell_type": "markdown",
   "id": "951c92da",
   "metadata": {},
   "source": [
    "## Arithmatic Operator +, -, *, /"
   ]
  },
  {
   "cell_type": "code",
   "execution_count": 16,
   "id": "fd317504",
   "metadata": {},
   "outputs": [],
   "source": [
    "\n",
    "num1, num2 =36, 7"
   ]
  },
  {
   "cell_type": "code",
   "execution_count": 17,
   "id": "ef8fe6bc",
   "metadata": {},
   "outputs": [
    {
     "data": {
      "text/plain": [
       "43"
      ]
     },
     "execution_count": 17,
     "metadata": {},
     "output_type": "execute_result"
    }
   ],
   "source": [
    "num1 + num2"
   ]
  },
  {
   "cell_type": "code",
   "execution_count": 18,
   "id": "3aa67cf0",
   "metadata": {},
   "outputs": [
    {
     "data": {
      "text/plain": [
       "29"
      ]
     },
     "execution_count": 18,
     "metadata": {},
     "output_type": "execute_result"
    }
   ],
   "source": [
    "num1 - num2"
   ]
  },
  {
   "cell_type": "code",
   "execution_count": 19,
   "id": "e2b9033e",
   "metadata": {},
   "outputs": [
    {
     "data": {
      "text/plain": [
       "252"
      ]
     },
     "execution_count": 19,
     "metadata": {},
     "output_type": "execute_result"
    }
   ],
   "source": [
    "num1 * num2"
   ]
  },
  {
   "cell_type": "code",
   "execution_count": 20,
   "id": "b1859281",
   "metadata": {},
   "outputs": [
    {
     "data": {
      "text/plain": [
       "5.142857142857143"
      ]
     },
     "execution_count": 20,
     "metadata": {},
     "output_type": "execute_result"
    }
   ],
   "source": [
    "num1 / num2"
   ]
  },
  {
   "cell_type": "code",
   "execution_count": 21,
   "id": "51ccbd1b",
   "metadata": {},
   "outputs": [
    {
     "data": {
      "text/plain": [
       "5"
      ]
     },
     "execution_count": 21,
     "metadata": {},
     "output_type": "execute_result"
    }
   ],
   "source": [
    "num1 // num2"
   ]
  },
  {
   "cell_type": "markdown",
   "id": "c325893f",
   "metadata": {},
   "source": [
    "## Relational Operator <, >, ==, !=\n"
   ]
  },
  {
   "cell_type": "code",
   "execution_count": 23,
   "id": "479a2916",
   "metadata": {},
   "outputs": [
    {
     "data": {
      "text/plain": [
       "True"
      ]
     },
     "execution_count": 23,
     "metadata": {},
     "output_type": "execute_result"
    }
   ],
   "source": [
    "num1 > num2"
   ]
  },
  {
   "cell_type": "code",
   "execution_count": 24,
   "id": "6d04b489",
   "metadata": {},
   "outputs": [
    {
     "data": {
      "text/plain": [
       "False"
      ]
     },
     "execution_count": 24,
     "metadata": {},
     "output_type": "execute_result"
    }
   ],
   "source": [
    "num1 < num2"
   ]
  },
  {
   "cell_type": "code",
   "execution_count": 25,
   "id": "2075e372",
   "metadata": {},
   "outputs": [
    {
     "data": {
      "text/plain": [
       "False"
      ]
     },
     "execution_count": 25,
     "metadata": {},
     "output_type": "execute_result"
    }
   ],
   "source": [
    "num1 == num2"
   ]
  },
  {
   "cell_type": "code",
   "execution_count": 26,
   "id": "d7ef5a69",
   "metadata": {},
   "outputs": [
    {
     "data": {
      "text/plain": [
       "True"
      ]
     },
     "execution_count": 26,
     "metadata": {},
     "output_type": "execute_result"
    }
   ],
   "source": [
    "num1 != num2"
   ]
  },
  {
   "cell_type": "markdown",
   "id": "0254c1b2",
   "metadata": {},
   "source": [
    "## Logical Operator & |\n"
   ]
  },
  {
   "cell_type": "code",
   "execution_count": 28,
   "id": "5ffb96ab",
   "metadata": {},
   "outputs": [],
   "source": [
    "log1 = True\n",
    "log2 = False"
   ]
  },
  {
   "cell_type": "code",
   "execution_count": 29,
   "id": "aaa3493a",
   "metadata": {},
   "outputs": [
    {
     "data": {
      "text/plain": [
       "False"
      ]
     },
     "execution_count": 29,
     "metadata": {},
     "output_type": "execute_result"
    }
   ],
   "source": [
    "log1 & log2"
   ]
  },
  {
   "cell_type": "code",
   "execution_count": 30,
   "id": "7cc2185a",
   "metadata": {},
   "outputs": [
    {
     "data": {
      "text/plain": [
       "True"
      ]
     },
     "execution_count": 30,
     "metadata": {},
     "output_type": "execute_result"
    }
   ],
   "source": [
    "log1 & log1"
   ]
  },
  {
   "cell_type": "code",
   "execution_count": 31,
   "id": "fb2158f2",
   "metadata": {},
   "outputs": [
    {
     "data": {
      "text/plain": [
       "True"
      ]
     },
     "execution_count": 31,
     "metadata": {},
     "output_type": "execute_result"
    }
   ],
   "source": [
    "log1 | log1"
   ]
  },
  {
   "cell_type": "markdown",
   "id": "17723afc",
   "metadata": {},
   "source": [
    "## Python Tokens\n",
    "Smallest meaning full componet in program\n",
    "- Keywords : Special reversed words like For If Yield\n",
    "- Identifiers: Names used for variables, functions or objects\n",
    "- Literals : Costants in python\n",
    "    - num = \"Test\" : here \"num\" is Identifier and \"Test\" is literal\n",
    "- Operators"
   ]
  },
  {
   "cell_type": "markdown",
   "id": "a45a869c",
   "metadata": {},
   "source": [
    "## String:\n"
   ]
  },
  {
   "cell_type": "code",
   "execution_count": 33,
   "id": "c866df8d",
   "metadata": {},
   "outputs": [
    {
     "data": {
      "text/plain": [
       "7"
      ]
     },
     "execution_count": 33,
     "metadata": {},
     "output_type": "execute_result"
    }
   ],
   "source": [
    "str1 = \"I love Pizza\"\n",
    "str1.find(\"Piz\")"
   ]
  },
  {
   "cell_type": "code",
   "execution_count": 35,
   "id": "92f64b53",
   "metadata": {},
   "outputs": [
    {
     "data": {
      "text/plain": [
       "['Mango', 'Banana', 'Apple']"
      ]
     },
     "execution_count": 35,
     "metadata": {},
     "output_type": "execute_result"
    }
   ],
   "source": [
    "fruits =\"Mango, Banana, Apple\"\n",
    "fruits.split(\", \")"
   ]
  },
  {
   "cell_type": "markdown",
   "id": "99440a20",
   "metadata": {},
   "source": [
    "## List"
   ]
  },
  {
   "cell_type": "code",
   "execution_count": 48,
   "id": "c1d3b9c0",
   "metadata": {},
   "outputs": [],
   "source": [
    "l1 = [1, \"a\", 2, True]"
   ]
  },
  {
   "cell_type": "code",
   "execution_count": 49,
   "id": "c90c71ad",
   "metadata": {},
   "outputs": [
    {
     "data": {
      "text/plain": [
       "[100, 'a', 2, True]"
      ]
     },
     "execution_count": 49,
     "metadata": {},
     "output_type": "execute_result"
    }
   ],
   "source": [
    "l1[0]=100\n",
    "l1\n"
   ]
  },
  {
   "cell_type": "code",
   "execution_count": 50,
   "id": "54a7c1ad",
   "metadata": {},
   "outputs": [
    {
     "data": {
      "text/plain": [
       "[100, 'a', 2, True, 'VaibhaV']"
      ]
     },
     "execution_count": 50,
     "metadata": {},
     "output_type": "execute_result"
    }
   ],
   "source": [
    "l1.append(\"VaibhaV\")\n",
    "l1"
   ]
  },
  {
   "cell_type": "code",
   "execution_count": 51,
   "id": "8d464c04",
   "metadata": {},
   "outputs": [
    {
     "data": {
      "text/plain": [
       "'VaibhaV'"
      ]
     },
     "execution_count": 51,
     "metadata": {},
     "output_type": "execute_result"
    }
   ],
   "source": [
    "l1.pop()"
   ]
  },
  {
   "cell_type": "code",
   "execution_count": 52,
   "id": "6882f72d",
   "metadata": {},
   "outputs": [
    {
     "data": {
      "text/plain": [
       "[100, 'a', 2, True]"
      ]
     },
     "execution_count": 52,
     "metadata": {},
     "output_type": "execute_result"
    }
   ],
   "source": [
    "l1"
   ]
  },
  {
   "cell_type": "code",
   "execution_count": 53,
   "id": "5669c4a3",
   "metadata": {},
   "outputs": [
    {
     "data": {
      "text/plain": [
       "[True, 2, 'a', 100]"
      ]
     },
     "execution_count": 53,
     "metadata": {},
     "output_type": "execute_result"
    }
   ],
   "source": [
    "l1.reverse()\n",
    "l1"
   ]
  },
  {
   "cell_type": "code",
   "execution_count": 54,
   "id": "b7a6ca22",
   "metadata": {},
   "outputs": [
    {
     "data": {
      "text/plain": [
       "[True, 'Test', 2, 'a', 100]"
      ]
     },
     "execution_count": 54,
     "metadata": {},
     "output_type": "execute_result"
    }
   ],
   "source": [
    "l1.insert(1, \"Test\")\n",
    "l1"
   ]
  },
  {
   "cell_type": "code",
   "execution_count": 56,
   "id": "edd86246",
   "metadata": {},
   "outputs": [
    {
     "ename": "TypeError",
     "evalue": "'<' not supported between instances of 'str' and 'bool'",
     "output_type": "error",
     "traceback": [
      "\u001b[0;31m---------------------------------------------------------------------------\u001b[0m",
      "\u001b[0;31mTypeError\u001b[0m                                 Traceback (most recent call last)",
      "Cell \u001b[0;32mIn[56], line 1\u001b[0m\n\u001b[0;32m----> 1\u001b[0m l1\u001b[38;5;241m.\u001b[39msort()\n\u001b[1;32m      2\u001b[0m l1\n",
      "\u001b[0;31mTypeError\u001b[0m: '<' not supported between instances of 'str' and 'bool'"
     ]
    }
   ],
   "source": [
    "l1.sort()\n",
    "l1"
   ]
  },
  {
   "cell_type": "code",
   "execution_count": 57,
   "id": "ca90949e",
   "metadata": {},
   "outputs": [
    {
     "data": {
      "text/plain": [
       "['Apple', 'Banana', 'Mango']"
      ]
     },
     "execution_count": 57,
     "metadata": {},
     "output_type": "execute_result"
    }
   ],
   "source": [
    "l2 = ['Mango', 'Banana', 'Apple']\n",
    "l2.sort()\n",
    "l2\n"
   ]
  },
  {
   "cell_type": "code",
   "execution_count": null,
   "id": "19bde636",
   "metadata": {},
   "outputs": [],
   "source": []
  }
 ],
 "metadata": {
  "kernelspec": {
   "display_name": "Python 3 (ipykernel)",
   "language": "python",
   "name": "python3"
  },
  "language_info": {
   "codemirror_mode": {
    "name": "ipython",
    "version": 3
   },
   "file_extension": ".py",
   "mimetype": "text/x-python",
   "name": "python",
   "nbconvert_exporter": "python",
   "pygments_lexer": "ipython3",
   "version": "3.11.9"
  }
 },
 "nbformat": 4,
 "nbformat_minor": 5
}
