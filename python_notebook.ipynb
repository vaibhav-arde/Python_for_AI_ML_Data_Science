{
 "cells": [
  {
   "cell_type": "code",
   "execution_count": 1,
   "id": "ce839183",
   "metadata": {},
   "outputs": [
    {
     "name": "stdout",
     "output_type": "stream",
     "text": [
      "This is Kolhapur\n"
     ]
    }
   ],
   "source": [
    "print(\"This is Kolhapur\")"
   ]
  },
  {
   "cell_type": "markdown",
   "id": "535afea3",
   "metadata": {},
   "source": [
    "## Variable"
   ]
  },
  {
   "cell_type": "code",
   "execution_count": 2,
   "id": "6ad1f13b",
   "metadata": {},
   "outputs": [],
   "source": [
    "name =\"VaibhaV\""
   ]
  },
  {
   "cell_type": "code",
   "execution_count": 3,
   "id": "af9889ff",
   "metadata": {},
   "outputs": [
    {
     "name": "stdout",
     "output_type": "stream",
     "text": [
      "VaibhaV\n"
     ]
    }
   ],
   "source": [
    "print(name)"
   ]
  },
  {
   "cell_type": "code",
   "execution_count": 4,
   "id": "37af4313",
   "metadata": {},
   "outputs": [],
   "source": [
    "name = \"Sheetal\""
   ]
  },
  {
   "cell_type": "code",
   "execution_count": 5,
   "id": "c8e4327c",
   "metadata": {},
   "outputs": [
    {
     "name": "stdout",
     "output_type": "stream",
     "text": [
      "Sheetal\n"
     ]
    }
   ],
   "source": [
    "print(name)"
   ]
  },
  {
   "cell_type": "markdown",
   "id": "c804041f",
   "metadata": {},
   "source": [
    "## Data type\n",
    "- int\n",
    "- float\n",
    "- Boolean\n",
    "- String"
   ]
  },
  {
   "cell_type": "code",
   "execution_count": 9,
   "id": "7efc1ccb",
   "metadata": {},
   "outputs": [
    {
     "name": "stdout",
     "output_type": "stream",
     "text": [
      "<class 'int'>\n",
      "<class 'float'>\n",
      "<class 'bool'>\n",
      "<class 'str'>\n"
     ]
    }
   ],
   "source": [
    "num1= 1 \n",
    "print(type(num1))\n",
    "num2= 2.303 \n",
    "print(type(num2))\n",
    "num3= True \n",
    "print(type(num3))\n",
    "num4= \"VaibhaV\" \n",
    "print(type(num4))"
   ]
  },
  {
   "cell_type": "markdown",
   "id": "84a8babd",
   "metadata": {},
   "source": [
    "## Operators\n"
   ]
  },
  {
   "cell_type": "markdown",
   "id": "13175a47",
   "metadata": {},
   "source": [
    "## Arithmatic Operator +, -, *, /"
   ]
  },
  {
   "cell_type": "code",
   "execution_count": 16,
   "id": "11766b03",
   "metadata": {},
   "outputs": [],
   "source": [
    "\n",
    "num1, num2 =36, 7"
   ]
  },
  {
   "cell_type": "code",
   "execution_count": 17,
   "id": "c316a610",
   "metadata": {},
   "outputs": [
    {
     "data": {
      "text/plain": [
       "43"
      ]
     },
     "execution_count": 17,
     "metadata": {},
     "output_type": "execute_result"
    }
   ],
   "source": [
    "num1 + num2"
   ]
  },
  {
   "cell_type": "code",
   "execution_count": 18,
   "id": "b08f07a7",
   "metadata": {},
   "outputs": [
    {
     "data": {
      "text/plain": [
       "29"
      ]
     },
     "execution_count": 18,
     "metadata": {},
     "output_type": "execute_result"
    }
   ],
   "source": [
    "num1 - num2"
   ]
  },
  {
   "cell_type": "code",
   "execution_count": 19,
   "id": "af37b629",
   "metadata": {},
   "outputs": [
    {
     "data": {
      "text/plain": [
       "252"
      ]
     },
     "execution_count": 19,
     "metadata": {},
     "output_type": "execute_result"
    }
   ],
   "source": [
    "num1 * num2"
   ]
  },
  {
   "cell_type": "code",
   "execution_count": 20,
   "id": "32d037fd",
   "metadata": {},
   "outputs": [
    {
     "data": {
      "text/plain": [
       "5.142857142857143"
      ]
     },
     "execution_count": 20,
     "metadata": {},
     "output_type": "execute_result"
    }
   ],
   "source": [
    "num1 / num2"
   ]
  },
  {
   "cell_type": "code",
   "execution_count": 21,
   "id": "e505d983",
   "metadata": {},
   "outputs": [
    {
     "data": {
      "text/plain": [
       "5"
      ]
     },
     "execution_count": 21,
     "metadata": {},
     "output_type": "execute_result"
    }
   ],
   "source": [
    "num1 // num2"
   ]
  },
  {
   "cell_type": "markdown",
   "id": "147795c1",
   "metadata": {},
   "source": [
    "## Relational Operator <, >, ==, !=\n"
   ]
  },
  {
   "cell_type": "code",
   "execution_count": 23,
   "id": "dad1c6fd",
   "metadata": {},
   "outputs": [
    {
     "data": {
      "text/plain": [
       "True"
      ]
     },
     "execution_count": 23,
     "metadata": {},
     "output_type": "execute_result"
    }
   ],
   "source": [
    "num1 > num2"
   ]
  },
  {
   "cell_type": "code",
   "execution_count": 24,
   "id": "2cae2e3c",
   "metadata": {},
   "outputs": [
    {
     "data": {
      "text/plain": [
       "False"
      ]
     },
     "execution_count": 24,
     "metadata": {},
     "output_type": "execute_result"
    }
   ],
   "source": [
    "num1 < num2"
   ]
  },
  {
   "cell_type": "code",
   "execution_count": 25,
   "id": "1c2032b9",
   "metadata": {},
   "outputs": [
    {
     "data": {
      "text/plain": [
       "False"
      ]
     },
     "execution_count": 25,
     "metadata": {},
     "output_type": "execute_result"
    }
   ],
   "source": [
    "num1 == num2"
   ]
  },
  {
   "cell_type": "code",
   "execution_count": 26,
   "id": "4e45c342",
   "metadata": {},
   "outputs": [
    {
     "data": {
      "text/plain": [
       "True"
      ]
     },
     "execution_count": 26,
     "metadata": {},
     "output_type": "execute_result"
    }
   ],
   "source": [
    "num1 != num2"
   ]
  },
  {
   "cell_type": "markdown",
   "id": "6aea8fef",
   "metadata": {},
   "source": [
    "## Logical Operator & |\n"
   ]
  },
  {
   "cell_type": "code",
   "execution_count": 28,
   "id": "fc45cf34",
   "metadata": {},
   "outputs": [],
   "source": [
    "log1 = True\n",
    "log2 = False"
   ]
  },
  {
   "cell_type": "code",
   "execution_count": 29,
   "id": "da80a3ae",
   "metadata": {},
   "outputs": [
    {
     "data": {
      "text/plain": [
       "False"
      ]
     },
     "execution_count": 29,
     "metadata": {},
     "output_type": "execute_result"
    }
   ],
   "source": [
    "log1 & log2"
   ]
  },
  {
   "cell_type": "code",
   "execution_count": 30,
   "id": "dcd83fe6",
   "metadata": {},
   "outputs": [
    {
     "data": {
      "text/plain": [
       "True"
      ]
     },
     "execution_count": 30,
     "metadata": {},
     "output_type": "execute_result"
    }
   ],
   "source": [
    "log1 & log1"
   ]
  },
  {
   "cell_type": "code",
   "execution_count": 31,
   "id": "0bfea99d",
   "metadata": {},
   "outputs": [
    {
     "data": {
      "text/plain": [
       "True"
      ]
     },
     "execution_count": 31,
     "metadata": {},
     "output_type": "execute_result"
    }
   ],
   "source": [
    "log1 | log1"
   ]
  },
  {
   "cell_type": "markdown",
   "id": "6526091e",
   "metadata": {},
   "source": [
    "## Python Tokens\n",
    "Smallest meaning full componet in program\n",
    "- Keywords : Special reversed words like For If Yield\n",
    "- Identifiers: Names used for variables, functions or objects\n",
    "- Literals : Costants in python\n",
    "    - num = \"Test\" : here \"num\" is Identifier and \"Test\" is literal\n",
    "- Operators"
   ]
  },
  {
   "cell_type": "markdown",
   "id": "1981ee63",
   "metadata": {},
   "source": [
    "## String:\n"
   ]
  },
  {
   "cell_type": "code",
   "execution_count": 33,
   "id": "c0c06571",
   "metadata": {},
   "outputs": [
    {
     "data": {
      "text/plain": [
       "7"
      ]
     },
     "execution_count": 33,
     "metadata": {},
     "output_type": "execute_result"
    }
   ],
   "source": [
    "str1 = \"I love Pizza\"\n",
    "str1.find(\"Piz\")"
   ]
  },
  {
   "cell_type": "code",
   "execution_count": 35,
   "id": "93575c9a",
   "metadata": {},
   "outputs": [
    {
     "data": {
      "text/plain": [
       "['Mango', 'Banana', 'Apple']"
      ]
     },
     "execution_count": 35,
     "metadata": {},
     "output_type": "execute_result"
    }
   ],
   "source": [
    "fruits =\"Mango, Banana, Apple\"\n",
    "fruits.split(\", \")"
   ]
  },
  {
   "cell_type": "markdown",
   "id": "f16f7965",
   "metadata": {},
   "source": [
    "## List"
   ]
  },
  {
   "cell_type": "code",
   "execution_count": 48,
   "id": "00960486",
   "metadata": {},
   "outputs": [],
   "source": [
    "l1 = [1, \"a\", 2, True]"
   ]
  },
  {
   "cell_type": "code",
   "execution_count": 49,
   "id": "7e1d2eb4",
   "metadata": {},
   "outputs": [
    {
     "data": {
      "text/plain": [
       "[100, 'a', 2, True]"
      ]
     },
     "execution_count": 49,
     "metadata": {},
     "output_type": "execute_result"
    }
   ],
   "source": [
    "l1[0]=100\n",
    "l1\n"
   ]
  },
  {
   "cell_type": "code",
   "execution_count": 50,
   "id": "5d1187c6",
   "metadata": {},
   "outputs": [
    {
     "data": {
      "text/plain": [
       "[100, 'a', 2, True, 'VaibhaV']"
      ]
     },
     "execution_count": 50,
     "metadata": {},
     "output_type": "execute_result"
    }
   ],
   "source": [
    "l1.append(\"VaibhaV\")\n",
    "l1"
   ]
  },
  {
   "cell_type": "code",
   "execution_count": 51,
   "id": "e28a732e",
   "metadata": {},
   "outputs": [
    {
     "data": {
      "text/plain": [
       "'VaibhaV'"
      ]
     },
     "execution_count": 51,
     "metadata": {},
     "output_type": "execute_result"
    }
   ],
   "source": [
    "l1.pop()"
   ]
  },
  {
   "cell_type": "code",
   "execution_count": 52,
   "id": "317f814e",
   "metadata": {},
   "outputs": [
    {
     "data": {
      "text/plain": [
       "[100, 'a', 2, True]"
      ]
     },
     "execution_count": 52,
     "metadata": {},
     "output_type": "execute_result"
    }
   ],
   "source": [
    "l1"
   ]
  },
  {
   "cell_type": "code",
   "execution_count": 53,
   "id": "317b3cc0",
   "metadata": {},
   "outputs": [
    {
     "data": {
      "text/plain": [
       "[True, 2, 'a', 100]"
      ]
     },
     "execution_count": 53,
     "metadata": {},
     "output_type": "execute_result"
    }
   ],
   "source": [
    "l1.reverse()\n",
    "l1"
   ]
  },
  {
   "cell_type": "code",
   "execution_count": 54,
   "id": "85c5a7a1",
   "metadata": {},
   "outputs": [
    {
     "data": {
      "text/plain": [
       "[True, 'Test', 2, 'a', 100]"
      ]
     },
     "execution_count": 54,
     "metadata": {},
     "output_type": "execute_result"
    }
   ],
   "source": [
    "l1.insert(1, \"Test\")\n",
    "l1"
   ]
  },
  {
   "cell_type": "code",
   "execution_count": 56,
   "id": "44d54089",
   "metadata": {},
   "outputs": [
    {
     "ename": "TypeError",
     "evalue": "'<' not supported between instances of 'str' and 'bool'",
     "output_type": "error",
     "traceback": [
      "\u001b[0;31m---------------------------------------------------------------------------\u001b[0m",
      "\u001b[0;31mTypeError\u001b[0m                                 Traceback (most recent call last)",
      "Cell \u001b[0;32mIn[56], line 1\u001b[0m\n\u001b[0;32m----> 1\u001b[0m l1\u001b[38;5;241m.\u001b[39msort()\n\u001b[1;32m      2\u001b[0m l1\n",
      "\u001b[0;31mTypeError\u001b[0m: '<' not supported between instances of 'str' and 'bool'"
     ]
    }
   ],
   "source": [
    "l1.sort()\n",
    "l1"
   ]
  },
  {
   "cell_type": "code",
   "execution_count": 57,
   "id": "52a2ac94",
   "metadata": {},
   "outputs": [
    {
     "data": {
      "text/plain": [
       "['Apple', 'Banana', 'Mango']"
      ]
     },
     "execution_count": 57,
     "metadata": {},
     "output_type": "execute_result"
    }
   ],
   "source": [
    "l2 = ['Mango', 'Banana', 'Apple']\n",
    "l2.sort()\n",
    "l2\n"
   ]
  },
  {
   "cell_type": "code",
   "execution_count": 58,
   "id": "3b676c29",
   "metadata": {},
   "outputs": [
    {
     "data": {
      "text/plain": [
       "['a', 'b', 'c', 1, 2, 3]"
      ]
     },
     "execution_count": 58,
     "metadata": {},
     "output_type": "execute_result"
    }
   ],
   "source": [
    "l1 = [\"a\", \"b\", \"c\"]\n",
    "l2 = [1, 2, 3]\n",
    "l1+ l2"
   ]
  },
  {
   "cell_type": "code",
   "execution_count": 59,
   "id": "8774aaa5",
   "metadata": {},
   "outputs": [
    {
     "data": {
      "text/plain": [
       "[1, 'b', True, 1, 'b', True, 1, 'b', True]"
      ]
     },
     "execution_count": 59,
     "metadata": {},
     "output_type": "execute_result"
    }
   ],
   "source": [
    "l1 = [1, \"b\", True]\n",
    "l1 * 3"
   ]
  },
  {
   "cell_type": "markdown",
   "id": "df3029eb",
   "metadata": {},
   "source": [
    "## Tuple\n",
    "- Tuple are ordered collection of elements enclosed within ()\n",
    "- Tuples are immutable, once created we can not update or change values of tuple"
   ]
  },
  {
   "cell_type": "code",
   "execution_count": 60,
   "id": "e76db36b",
   "metadata": {},
   "outputs": [
    {
     "data": {
      "text/plain": [
       "(1, 'b', True)"
      ]
     },
     "execution_count": 60,
     "metadata": {},
     "output_type": "execute_result"
    }
   ],
   "source": [
    "tup1 = (1, \"b\", True)\n",
    "tup1"
   ]
  },
  {
   "cell_type": "code",
   "execution_count": 61,
   "id": "219df201",
   "metadata": {},
   "outputs": [
    {
     "data": {
      "text/plain": [
       "tuple"
      ]
     },
     "execution_count": 61,
     "metadata": {},
     "output_type": "execute_result"
    }
   ],
   "source": [
    "type(tup1)"
   ]
  },
  {
   "cell_type": "code",
   "execution_count": 63,
   "id": "c4c6cfc9",
   "metadata": {},
   "outputs": [
    {
     "data": {
      "text/plain": [
       "(1, 'b', True, 1, 'b', True, 1, 'b', True)"
      ]
     },
     "execution_count": 63,
     "metadata": {},
     "output_type": "execute_result"
    }
   ],
   "source": [
    "tup2 = tup1 *3 \n",
    "tup2"
   ]
  },
  {
   "cell_type": "code",
   "execution_count": 64,
   "id": "56c759a5",
   "metadata": {},
   "outputs": [
    {
     "data": {
      "text/plain": [
       "('b', True, 1, 'b', True)"
      ]
     },
     "execution_count": 64,
     "metadata": {},
     "output_type": "execute_result"
    }
   ],
   "source": [
    "tup2[1:6]"
   ]
  },
  {
   "cell_type": "code",
   "execution_count": 65,
   "id": "3885f75e",
   "metadata": {},
   "outputs": [
    {
     "data": {
      "text/plain": [
       "(1, True, 'b', 1, True)"
      ]
     },
     "execution_count": 65,
     "metadata": {},
     "output_type": "execute_result"
    }
   ],
   "source": [
    "tup2[::2]"
   ]
  },
  {
   "cell_type": "code",
   "execution_count": 66,
   "id": "0bb53fa3",
   "metadata": {},
   "outputs": [
    {
     "ename": "TypeError",
     "evalue": "'tuple' object does not support item assignment",
     "output_type": "error",
     "traceback": [
      "\u001b[0;31m---------------------------------------------------------------------------\u001b[0m",
      "\u001b[0;31mTypeError\u001b[0m                                 Traceback (most recent call last)",
      "Cell \u001b[0;32mIn[66], line 1\u001b[0m\n\u001b[0;32m----> 1\u001b[0m tup2[\u001b[38;5;241m2\u001b[39m]\u001b[38;5;241m=\u001b[39m\u001b[38;5;124m\"\u001b[39m\u001b[38;5;124mTest\u001b[39m\u001b[38;5;124m\"\u001b[39m\n",
      "\u001b[0;31mTypeError\u001b[0m: 'tuple' object does not support item assignment"
     ]
    }
   ],
   "source": [
    "tup2[2]=\"Test\""
   ]
  },
  {
   "cell_type": "code",
   "execution_count": 67,
   "id": "eb2df7fe",
   "metadata": {},
   "outputs": [
    {
     "data": {
      "text/plain": [
       "('a', 'b', 'c', 1, 2, 3)"
      ]
     },
     "execution_count": 67,
     "metadata": {},
     "output_type": "execute_result"
    }
   ],
   "source": [
    "tup1 = (\"a\", \"b\", \"c\")\n",
    "tup2 = (1, 2, 3)\n",
    "tup1 + tup2"
   ]
  },
  {
   "cell_type": "markdown",
   "id": "e63e237b",
   "metadata": {},
   "source": [
    "## Dictionary\n",
    "- Dictionary is an unordered collection of key-value pairs enclosed with {}\n",
    "- Dictionary is mutable"
   ]
  },
  {
   "cell_type": "code",
   "execution_count": 73,
   "id": "c521e785",
   "metadata": {},
   "outputs": [],
   "source": [
    "fruit = {\"Mango\": 10, 'Banana': 20, 'Apple':30}"
   ]
  },
  {
   "cell_type": "code",
   "execution_count": 74,
   "id": "63df5c67",
   "metadata": {},
   "outputs": [
    {
     "data": {
      "text/plain": [
       "dict_keys(['Mango', 'Banana', 'Apple'])"
      ]
     },
     "execution_count": 74,
     "metadata": {},
     "output_type": "execute_result"
    }
   ],
   "source": [
    "fruit.keys()"
   ]
  },
  {
   "cell_type": "code",
   "execution_count": 75,
   "id": "67528ae6",
   "metadata": {},
   "outputs": [
    {
     "data": {
      "text/plain": [
       "dict_values([10, 20, 30])"
      ]
     },
     "execution_count": 75,
     "metadata": {},
     "output_type": "execute_result"
    }
   ],
   "source": [
    "fruit.values()"
   ]
  },
  {
   "cell_type": "code",
   "execution_count": 76,
   "id": "001d007a",
   "metadata": {},
   "outputs": [
    {
     "data": {
      "text/plain": [
       "{'Mango': 10, 'Banana': 20, 'Apple': 30, 'Guava': 40}"
      ]
     },
     "execution_count": 76,
     "metadata": {},
     "output_type": "execute_result"
    }
   ],
   "source": [
    "fruit[\"Guava\"]=40\n",
    "fruit"
   ]
  },
  {
   "cell_type": "code",
   "execution_count": 72,
   "id": "46bba0d0",
   "metadata": {},
   "outputs": [
    {
     "data": {
      "text/plain": [
       "{'Mango': 10, 'Banana': 20, 'Apple': 30, 'Guava': 40}"
      ]
     },
     "execution_count": 72,
     "metadata": {},
     "output_type": "execute_result"
    }
   ],
   "source": [
    "fruit"
   ]
  },
  {
   "cell_type": "code",
   "execution_count": 82,
   "id": "49f355e4",
   "metadata": {},
   "outputs": [],
   "source": [
    "f1 = {'Mango': 10, 'Banana': 20}\n",
    "f2 = {'Apple': 30, 'Guava': 40}"
   ]
  },
  {
   "cell_type": "code",
   "execution_count": 84,
   "id": "f60cca3b",
   "metadata": {},
   "outputs": [
    {
     "data": {
      "text/plain": [
       "{'Mango': 10, 'Banana': 20, 'Apple': 30, 'Guava': 40}"
      ]
     },
     "execution_count": 84,
     "metadata": {},
     "output_type": "execute_result"
    }
   ],
   "source": [
    "f1.update(f2)\n",
    "f1"
   ]
  },
  {
   "cell_type": "code",
   "execution_count": 86,
   "id": "35ec8ce1",
   "metadata": {},
   "outputs": [
    {
     "data": {
      "text/plain": [
       "40"
      ]
     },
     "execution_count": 86,
     "metadata": {},
     "output_type": "execute_result"
    }
   ],
   "source": [
    "f1.pop(\"Guava\")\n"
   ]
  },
  {
   "cell_type": "code",
   "execution_count": 87,
   "id": "26a9bd91",
   "metadata": {},
   "outputs": [
    {
     "data": {
      "text/plain": [
       "{'Mango': 10, 'Banana': 20, 'Apple': 30}"
      ]
     },
     "execution_count": 87,
     "metadata": {},
     "output_type": "execute_result"
    }
   ],
   "source": [
    "f1"
   ]
  },
  {
   "cell_type": "markdown",
   "id": "f03552ab",
   "metadata": {},
   "source": [
    "## Set\n",
    "- Set ia a unordered and unindexed collection of elements enclosed with {}\n",
    "- Duplicates are not allowed in Set\n"
   ]
  },
  {
   "cell_type": "code",
   "execution_count": 93,
   "id": "26038e1e",
   "metadata": {},
   "outputs": [
    {
     "data": {
      "text/plain": [
       "{1, 2, 3, 'a', 'b', 'c'}"
      ]
     },
     "execution_count": 93,
     "metadata": {},
     "output_type": "execute_result"
    }
   ],
   "source": [
    "# Try duplicates with set\n",
    "s1 = {\"c\", \"a\", \"b\", 1, 2, 3, \"a\", \"b\", 1, 2}\n",
    "s1"
   ]
  },
  {
   "cell_type": "code",
   "execution_count": 94,
   "id": "e22cee0e",
   "metadata": {},
   "outputs": [
    {
     "data": {
      "text/plain": [
       "{1, 2, 3, 'Test', 'a', 'b', 'c'}"
      ]
     },
     "execution_count": 94,
     "metadata": {},
     "output_type": "execute_result"
    }
   ],
   "source": [
    "s1.add(\"Test\")\n",
    "s1"
   ]
  },
  {
   "cell_type": "code",
   "execution_count": 95,
   "id": "06ed02d0",
   "metadata": {},
   "outputs": [
    {
     "data": {
      "text/plain": [
       "{1, 2, 3, 'Test', 'a', 'c'}"
      ]
     },
     "execution_count": 95,
     "metadata": {},
     "output_type": "execute_result"
    }
   ],
   "source": [
    "s1.remove(\"b\")\n",
    "s1"
   ]
  },
  {
   "cell_type": "code",
   "execution_count": 105,
   "id": "687d88c0",
   "metadata": {},
   "outputs": [
    {
     "data": {
      "text/plain": [
       "{1, 2, 'Apple', 'Banana', 'Mango', 'a', 'b', 'c'}"
      ]
     },
     "execution_count": 105,
     "metadata": {},
     "output_type": "execute_result"
    }
   ],
   "source": [
    "s1 = {'Mango', 'Banana', 'Apple', 1, 2, 'a'}\n",
    "s2 = {'a', 'b', 'c', 1, 2}\n",
    "s1.union(s2)"
   ]
  },
  {
   "cell_type": "code",
   "execution_count": 106,
   "id": "62037878",
   "metadata": {},
   "outputs": [
    {
     "data": {
      "text/plain": [
       "{1, 2, 'Apple', 'Banana', 'Mango', 'a'}"
      ]
     },
     "execution_count": 106,
     "metadata": {},
     "output_type": "execute_result"
    }
   ],
   "source": [
    "s1"
   ]
  },
  {
   "cell_type": "code",
   "execution_count": 107,
   "id": "679c236b",
   "metadata": {},
   "outputs": [
    {
     "data": {
      "text/plain": [
       "{1, 2, 'a', 'b', 'c'}"
      ]
     },
     "execution_count": 107,
     "metadata": {},
     "output_type": "execute_result"
    }
   ],
   "source": [
    "s2"
   ]
  },
  {
   "cell_type": "code",
   "execution_count": 108,
   "id": "64fa2815",
   "metadata": {},
   "outputs": [
    {
     "data": {
      "text/plain": [
       "{1, 2, 'a'}"
      ]
     },
     "execution_count": 108,
     "metadata": {},
     "output_type": "execute_result"
    }
   ],
   "source": [
    "s1.intersection(s2)"
   ]
  },
  {
   "cell_type": "markdown",
   "id": "920bce58",
   "metadata": {},
   "source": []
  }
 ],
 "metadata": {
  "kernelspec": {
   "display_name": "Python 3 (ipykernel)",
   "language": "python",
   "name": "python3"
  },
  "language_info": {
   "codemirror_mode": {
    "name": "ipython",
    "version": 3
   },
   "file_extension": ".py",
   "mimetype": "text/x-python",
   "name": "python",
   "nbconvert_exporter": "python",
   "pygments_lexer": "ipython3",
   "version": "3.11.9"
  }
 },
 "nbformat": 4,
 "nbformat_minor": 5
}
