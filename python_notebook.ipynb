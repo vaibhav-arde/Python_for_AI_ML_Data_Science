{
 "cells": [
  {
   "cell_type": "code",
   "execution_count": 125,
   "id": "27e798c7",
   "metadata": {},
   "outputs": [
    {
     "name": "stdout",
     "output_type": "stream",
     "text": [
      "This is Kolhapur\n"
     ]
    }
   ],
   "source": [
    "print(\"This is Kolhapur\")"
   ]
  },
  {
   "cell_type": "markdown",
   "id": "21d5c128",
   "metadata": {},
   "source": [
    "## Variable"
   ]
  },
  {
   "cell_type": "code",
   "execution_count": 2,
   "id": "0a61c2e6",
   "metadata": {},
   "outputs": [],
   "source": [
    "name =\"VaibhaV\""
   ]
  },
  {
   "cell_type": "code",
   "execution_count": 3,
   "id": "7d77b42c",
   "metadata": {},
   "outputs": [
    {
     "name": "stdout",
     "output_type": "stream",
     "text": [
      "VaibhaV\n"
     ]
    }
   ],
   "source": [
    "print(name)"
   ]
  },
  {
   "cell_type": "code",
   "execution_count": 4,
   "id": "27e4abc9",
   "metadata": {},
   "outputs": [],
   "source": [
    "name = \"Sheetal\""
   ]
  },
  {
   "cell_type": "code",
   "execution_count": 5,
   "id": "f366b66e",
   "metadata": {},
   "outputs": [
    {
     "name": "stdout",
     "output_type": "stream",
     "text": [
      "Sheetal\n"
     ]
    }
   ],
   "source": [
    "print(name)"
   ]
  },
  {
   "cell_type": "markdown",
   "id": "586261ba",
   "metadata": {},
   "source": [
    "## Data type\n",
    "- int\n",
    "- float\n",
    "- Boolean\n",
    "- String"
   ]
  },
  {
   "cell_type": "code",
   "execution_count": 6,
   "id": "1cba794a",
   "metadata": {},
   "outputs": [
    {
     "name": "stdout",
     "output_type": "stream",
     "text": [
      "<class 'int'>\n",
      "<class 'float'>\n",
      "<class 'bool'>\n",
      "<class 'str'>\n"
     ]
    }
   ],
   "source": [
    "num1= 1 \n",
    "print(type(num1))\n",
    "num2= 2.303 \n",
    "print(type(num2))\n",
    "num3= True \n",
    "print(type(num3))\n",
    "num4= \"VaibhaV\" \n",
    "print(type(num4))"
   ]
  },
  {
   "cell_type": "markdown",
   "id": "57da6569",
   "metadata": {},
   "source": [
    "## Operators\n"
   ]
  },
  {
   "cell_type": "markdown",
   "id": "74d98db6",
   "metadata": {},
   "source": [
    "## Arithmatic Operator +, -, *, /"
   ]
  },
  {
   "cell_type": "code",
   "execution_count": 7,
   "id": "0cabda21",
   "metadata": {},
   "outputs": [],
   "source": [
    "\n",
    "num1, num2 =36, 7"
   ]
  },
  {
   "cell_type": "code",
   "execution_count": 8,
   "id": "7a652acc",
   "metadata": {},
   "outputs": [
    {
     "data": {
      "text/plain": [
       "43"
      ]
     },
     "execution_count": 8,
     "metadata": {},
     "output_type": "execute_result"
    }
   ],
   "source": [
    "num1 + num2"
   ]
  },
  {
   "cell_type": "code",
   "execution_count": 9,
   "id": "e7eda2f3",
   "metadata": {},
   "outputs": [
    {
     "data": {
      "text/plain": [
       "29"
      ]
     },
     "execution_count": 9,
     "metadata": {},
     "output_type": "execute_result"
    }
   ],
   "source": [
    "num1 - num2"
   ]
  },
  {
   "cell_type": "code",
   "execution_count": 10,
   "id": "0a0f505b",
   "metadata": {},
   "outputs": [
    {
     "data": {
      "text/plain": [
       "252"
      ]
     },
     "execution_count": 10,
     "metadata": {},
     "output_type": "execute_result"
    }
   ],
   "source": [
    "num1 * num2"
   ]
  },
  {
   "cell_type": "code",
   "execution_count": 11,
   "id": "dea0db40",
   "metadata": {},
   "outputs": [
    {
     "data": {
      "text/plain": [
       "5.142857142857143"
      ]
     },
     "execution_count": 11,
     "metadata": {},
     "output_type": "execute_result"
    }
   ],
   "source": [
    "num1 / num2"
   ]
  },
  {
   "cell_type": "code",
   "execution_count": 12,
   "id": "a4dd3892",
   "metadata": {},
   "outputs": [
    {
     "data": {
      "text/plain": [
       "5"
      ]
     },
     "execution_count": 12,
     "metadata": {},
     "output_type": "execute_result"
    }
   ],
   "source": [
    "num1 // num2"
   ]
  },
  {
   "cell_type": "markdown",
   "id": "a41fac31",
   "metadata": {},
   "source": [
    "## Relational Operator <, >, ==, !=\n"
   ]
  },
  {
   "cell_type": "code",
   "execution_count": 13,
   "id": "b6353b7d",
   "metadata": {},
   "outputs": [
    {
     "data": {
      "text/plain": [
       "True"
      ]
     },
     "execution_count": 13,
     "metadata": {},
     "output_type": "execute_result"
    }
   ],
   "source": [
    "num1 > num2"
   ]
  },
  {
   "cell_type": "code",
   "execution_count": 14,
   "id": "bb2043eb",
   "metadata": {},
   "outputs": [
    {
     "data": {
      "text/plain": [
       "False"
      ]
     },
     "execution_count": 14,
     "metadata": {},
     "output_type": "execute_result"
    }
   ],
   "source": [
    "num1 < num2"
   ]
  },
  {
   "cell_type": "code",
   "execution_count": 15,
   "id": "b06585d2",
   "metadata": {},
   "outputs": [
    {
     "data": {
      "text/plain": [
       "False"
      ]
     },
     "execution_count": 15,
     "metadata": {},
     "output_type": "execute_result"
    }
   ],
   "source": [
    "num1 == num2"
   ]
  },
  {
   "cell_type": "code",
   "execution_count": 16,
   "id": "b6ae8512",
   "metadata": {},
   "outputs": [
    {
     "data": {
      "text/plain": [
       "True"
      ]
     },
     "execution_count": 16,
     "metadata": {},
     "output_type": "execute_result"
    }
   ],
   "source": [
    "num1 != num2"
   ]
  },
  {
   "cell_type": "markdown",
   "id": "049c2060",
   "metadata": {},
   "source": [
    "## Logical Operator & |\n"
   ]
  },
  {
   "cell_type": "code",
   "execution_count": 17,
   "id": "6b51e122",
   "metadata": {},
   "outputs": [],
   "source": [
    "log1 = True\n",
    "log2 = False"
   ]
  },
  {
   "cell_type": "code",
   "execution_count": 18,
   "id": "659d9d13",
   "metadata": {},
   "outputs": [
    {
     "data": {
      "text/plain": [
       "False"
      ]
     },
     "execution_count": 18,
     "metadata": {},
     "output_type": "execute_result"
    }
   ],
   "source": [
    "log1 & log2"
   ]
  },
  {
   "cell_type": "code",
   "execution_count": 19,
   "id": "c5c78898",
   "metadata": {},
   "outputs": [
    {
     "data": {
      "text/plain": [
       "True"
      ]
     },
     "execution_count": 19,
     "metadata": {},
     "output_type": "execute_result"
    }
   ],
   "source": [
    "log1 & log1"
   ]
  },
  {
   "cell_type": "code",
   "execution_count": 20,
   "id": "3e965546",
   "metadata": {},
   "outputs": [
    {
     "data": {
      "text/plain": [
       "True"
      ]
     },
     "execution_count": 20,
     "metadata": {},
     "output_type": "execute_result"
    }
   ],
   "source": [
    "log1 | log1"
   ]
  },
  {
   "cell_type": "markdown",
   "id": "18894d49",
   "metadata": {},
   "source": [
    "## Python Tokens\n",
    "Smallest meaning full componet in program\n",
    "- Keywords : Special reversed words like For If Yield\n",
    "- Identifiers: Names used for variables, functions or objects\n",
    "- Literals : Costants in python\n",
    "    - num = \"Test\" : here \"num\" is Identifier and \"Test\" is literal\n",
    "- Operators"
   ]
  },
  {
   "cell_type": "markdown",
   "id": "ac48dbf8",
   "metadata": {},
   "source": [
    "## String:\n"
   ]
  },
  {
   "cell_type": "code",
   "execution_count": 21,
   "id": "b6c5ff04",
   "metadata": {},
   "outputs": [
    {
     "data": {
      "text/plain": [
       "7"
      ]
     },
     "execution_count": 21,
     "metadata": {},
     "output_type": "execute_result"
    }
   ],
   "source": [
    "str1 = \"I love Pizza\"\n",
    "str1.find(\"Piz\")"
   ]
  },
  {
   "cell_type": "code",
   "execution_count": 22,
   "id": "a3a5350f",
   "metadata": {},
   "outputs": [
    {
     "data": {
      "text/plain": [
       "['Mango', 'Banana', 'Apple']"
      ]
     },
     "execution_count": 22,
     "metadata": {},
     "output_type": "execute_result"
    }
   ],
   "source": [
    "fruits =\"Mango, Banana, Apple\"\n",
    "fruits.split(\", \")"
   ]
  },
  {
   "cell_type": "markdown",
   "id": "03f6e2c8",
   "metadata": {},
   "source": [
    "## List"
   ]
  },
  {
   "cell_type": "code",
   "execution_count": 23,
   "id": "d8b2293b",
   "metadata": {},
   "outputs": [],
   "source": [
    "l1 = [1, \"a\", 2, True]"
   ]
  },
  {
   "cell_type": "code",
   "execution_count": 24,
   "id": "a6101b1d",
   "metadata": {},
   "outputs": [
    {
     "data": {
      "text/plain": [
       "[100, 'a', 2, True]"
      ]
     },
     "execution_count": 24,
     "metadata": {},
     "output_type": "execute_result"
    }
   ],
   "source": [
    "l1[0]=100\n",
    "l1\n"
   ]
  },
  {
   "cell_type": "code",
   "execution_count": 25,
   "id": "9dd6898b",
   "metadata": {},
   "outputs": [
    {
     "data": {
      "text/plain": [
       "[100, 'a', 2, True, 'VaibhaV']"
      ]
     },
     "execution_count": 25,
     "metadata": {},
     "output_type": "execute_result"
    }
   ],
   "source": [
    "l1.append(\"VaibhaV\")\n",
    "l1"
   ]
  },
  {
   "cell_type": "code",
   "execution_count": 26,
   "id": "6ef9811c",
   "metadata": {},
   "outputs": [
    {
     "data": {
      "text/plain": [
       "'VaibhaV'"
      ]
     },
     "execution_count": 26,
     "metadata": {},
     "output_type": "execute_result"
    }
   ],
   "source": [
    "l1.pop()"
   ]
  },
  {
   "cell_type": "code",
   "execution_count": 27,
   "id": "e9227d25",
   "metadata": {},
   "outputs": [
    {
     "data": {
      "text/plain": [
       "[100, 'a', 2, True]"
      ]
     },
     "execution_count": 27,
     "metadata": {},
     "output_type": "execute_result"
    }
   ],
   "source": [
    "l1"
   ]
  },
  {
   "cell_type": "code",
   "execution_count": 28,
   "id": "0e11f74a",
   "metadata": {},
   "outputs": [
    {
     "data": {
      "text/plain": [
       "[True, 2, 'a', 100]"
      ]
     },
     "execution_count": 28,
     "metadata": {},
     "output_type": "execute_result"
    }
   ],
   "source": [
    "l1.reverse()\n",
    "l1"
   ]
  },
  {
   "cell_type": "code",
   "execution_count": 29,
   "id": "3008e52a",
   "metadata": {},
   "outputs": [
    {
     "data": {
      "text/plain": [
       "[True, 'Test', 2, 'a', 100]"
      ]
     },
     "execution_count": 29,
     "metadata": {},
     "output_type": "execute_result"
    }
   ],
   "source": [
    "l1.insert(1, \"Test\")\n",
    "l1"
   ]
  },
  {
   "cell_type": "code",
   "execution_count": 30,
   "id": "3d930c15",
   "metadata": {},
   "outputs": [
    {
     "ename": "TypeError",
     "evalue": "'<' not supported between instances of 'str' and 'bool'",
     "output_type": "error",
     "traceback": [
      "\u001b[0;31m---------------------------------------------------------------------------\u001b[0m",
      "\u001b[0;31mTypeError\u001b[0m                                 Traceback (most recent call last)",
      "Cell \u001b[0;32mIn[30], line 1\u001b[0m\n\u001b[0;32m----> 1\u001b[0m l1\u001b[38;5;241m.\u001b[39msort()\n\u001b[1;32m      2\u001b[0m l1\n",
      "\u001b[0;31mTypeError\u001b[0m: '<' not supported between instances of 'str' and 'bool'"
     ]
    }
   ],
   "source": [
    "l1.sort()\n",
    "l1"
   ]
  },
  {
   "cell_type": "code",
   "execution_count": 31,
   "id": "d83a2f07",
   "metadata": {},
   "outputs": [
    {
     "data": {
      "text/plain": [
       "['Apple', 'Banana', 'Mango']"
      ]
     },
     "execution_count": 31,
     "metadata": {},
     "output_type": "execute_result"
    }
   ],
   "source": [
    "l2 = ['Mango', 'Banana', 'Apple']\n",
    "l2.sort()\n",
    "l2\n"
   ]
  },
  {
   "cell_type": "code",
   "execution_count": 32,
   "id": "a6f2fd64",
   "metadata": {},
   "outputs": [
    {
     "data": {
      "text/plain": [
       "['a', 'b', 'c', 1, 2, 3]"
      ]
     },
     "execution_count": 32,
     "metadata": {},
     "output_type": "execute_result"
    }
   ],
   "source": [
    "l1 = [\"a\", \"b\", \"c\"]\n",
    "l2 = [1, 2, 3]\n",
    "l1+ l2"
   ]
  },
  {
   "cell_type": "code",
   "execution_count": 33,
   "id": "dd8e2785",
   "metadata": {},
   "outputs": [
    {
     "data": {
      "text/plain": [
       "[1, 'b', True, 1, 'b', True, 1, 'b', True]"
      ]
     },
     "execution_count": 33,
     "metadata": {},
     "output_type": "execute_result"
    }
   ],
   "source": [
    "l1 = [1, \"b\", True]\n",
    "l1 * 3"
   ]
  },
  {
   "cell_type": "markdown",
   "id": "bd050008",
   "metadata": {},
   "source": [
    "## Tuple\n",
    "- Tuple are ordered collection of elements enclosed within ()\n",
    "- Tuples are immutable, once created we can not update or change values of tuple"
   ]
  },
  {
   "cell_type": "code",
   "execution_count": 34,
   "id": "8ddc4136",
   "metadata": {},
   "outputs": [
    {
     "data": {
      "text/plain": [
       "(1, 'b', True)"
      ]
     },
     "execution_count": 34,
     "metadata": {},
     "output_type": "execute_result"
    }
   ],
   "source": [
    "tup1 = (1, \"b\", True)\n",
    "tup1"
   ]
  },
  {
   "cell_type": "code",
   "execution_count": 35,
   "id": "47e72e37",
   "metadata": {},
   "outputs": [
    {
     "data": {
      "text/plain": [
       "tuple"
      ]
     },
     "execution_count": 35,
     "metadata": {},
     "output_type": "execute_result"
    }
   ],
   "source": [
    "type(tup1)"
   ]
  },
  {
   "cell_type": "code",
   "execution_count": 36,
   "id": "80e72364",
   "metadata": {},
   "outputs": [
    {
     "data": {
      "text/plain": [
       "(1, 'b', True, 1, 'b', True, 1, 'b', True)"
      ]
     },
     "execution_count": 36,
     "metadata": {},
     "output_type": "execute_result"
    }
   ],
   "source": [
    "tup2 = tup1 *3 \n",
    "tup2"
   ]
  },
  {
   "cell_type": "code",
   "execution_count": 37,
   "id": "de73b65c",
   "metadata": {},
   "outputs": [
    {
     "data": {
      "text/plain": [
       "('b', True, 1, 'b', True)"
      ]
     },
     "execution_count": 37,
     "metadata": {},
     "output_type": "execute_result"
    }
   ],
   "source": [
    "tup2[1:6]"
   ]
  },
  {
   "cell_type": "code",
   "execution_count": 38,
   "id": "01d17d43",
   "metadata": {},
   "outputs": [
    {
     "data": {
      "text/plain": [
       "(1, True, 'b', 1, True)"
      ]
     },
     "execution_count": 38,
     "metadata": {},
     "output_type": "execute_result"
    }
   ],
   "source": [
    "tup2[::2]"
   ]
  },
  {
   "cell_type": "code",
   "execution_count": 39,
   "id": "6c623434",
   "metadata": {},
   "outputs": [
    {
     "ename": "TypeError",
     "evalue": "'tuple' object does not support item assignment",
     "output_type": "error",
     "traceback": [
      "\u001b[0;31m---------------------------------------------------------------------------\u001b[0m",
      "\u001b[0;31mTypeError\u001b[0m                                 Traceback (most recent call last)",
      "Cell \u001b[0;32mIn[39], line 1\u001b[0m\n\u001b[0;32m----> 1\u001b[0m tup2[\u001b[38;5;241m2\u001b[39m]\u001b[38;5;241m=\u001b[39m\u001b[38;5;124m\"\u001b[39m\u001b[38;5;124mTest\u001b[39m\u001b[38;5;124m\"\u001b[39m\n",
      "\u001b[0;31mTypeError\u001b[0m: 'tuple' object does not support item assignment"
     ]
    }
   ],
   "source": [
    "tup2[2]=\"Test\""
   ]
  },
  {
   "cell_type": "code",
   "execution_count": 40,
   "id": "5be8da3e",
   "metadata": {},
   "outputs": [
    {
     "data": {
      "text/plain": [
       "('a', 'b', 'c', 1, 2, 3)"
      ]
     },
     "execution_count": 40,
     "metadata": {},
     "output_type": "execute_result"
    }
   ],
   "source": [
    "tup1 = (\"a\", \"b\", \"c\")\n",
    "tup2 = (1, 2, 3)\n",
    "tup1 + tup2"
   ]
  },
  {
   "cell_type": "markdown",
   "id": "abf54cee",
   "metadata": {},
   "source": [
    "## Dictionary\n",
    "- Dictionary is an unordered collection of key-value pairs enclosed with {}\n",
    "- Dictionary is mutable"
   ]
  },
  {
   "cell_type": "code",
   "execution_count": 41,
   "id": "04b95015",
   "metadata": {},
   "outputs": [],
   "source": [
    "fruit = {\"Mango\": 10, 'Banana': 20, 'Apple':30}"
   ]
  },
  {
   "cell_type": "code",
   "execution_count": 42,
   "id": "d5f10717",
   "metadata": {},
   "outputs": [
    {
     "data": {
      "text/plain": [
       "dict_keys(['Mango', 'Banana', 'Apple'])"
      ]
     },
     "execution_count": 42,
     "metadata": {},
     "output_type": "execute_result"
    }
   ],
   "source": [
    "fruit.keys()"
   ]
  },
  {
   "cell_type": "code",
   "execution_count": 43,
   "id": "7f3d22c0",
   "metadata": {},
   "outputs": [
    {
     "data": {
      "text/plain": [
       "dict_values([10, 20, 30])"
      ]
     },
     "execution_count": 43,
     "metadata": {},
     "output_type": "execute_result"
    }
   ],
   "source": [
    "fruit.values()"
   ]
  },
  {
   "cell_type": "code",
   "execution_count": 44,
   "id": "25088a6d",
   "metadata": {},
   "outputs": [
    {
     "data": {
      "text/plain": [
       "{'Mango': 10, 'Banana': 20, 'Apple': 30, 'Guava': 40}"
      ]
     },
     "execution_count": 44,
     "metadata": {},
     "output_type": "execute_result"
    }
   ],
   "source": [
    "fruit[\"Guava\"]=40\n",
    "fruit"
   ]
  },
  {
   "cell_type": "code",
   "execution_count": 45,
   "id": "d88fe7d5",
   "metadata": {},
   "outputs": [
    {
     "data": {
      "text/plain": [
       "{'Mango': 10, 'Banana': 20, 'Apple': 30, 'Guava': 40}"
      ]
     },
     "execution_count": 45,
     "metadata": {},
     "output_type": "execute_result"
    }
   ],
   "source": [
    "fruit"
   ]
  },
  {
   "cell_type": "code",
   "execution_count": 46,
   "id": "a8ffe9e6",
   "metadata": {},
   "outputs": [],
   "source": [
    "f1 = {'Mango': 10, 'Banana': 20}\n",
    "f2 = {'Apple': 30, 'Guava': 40}"
   ]
  },
  {
   "cell_type": "code",
   "execution_count": 47,
   "id": "6aebda16",
   "metadata": {},
   "outputs": [
    {
     "data": {
      "text/plain": [
       "{'Mango': 10, 'Banana': 20, 'Apple': 30, 'Guava': 40}"
      ]
     },
     "execution_count": 47,
     "metadata": {},
     "output_type": "execute_result"
    }
   ],
   "source": [
    "f1.update(f2)\n",
    "f1"
   ]
  },
  {
   "cell_type": "code",
   "execution_count": 48,
   "id": "ee41e740",
   "metadata": {},
   "outputs": [
    {
     "data": {
      "text/plain": [
       "40"
      ]
     },
     "execution_count": 48,
     "metadata": {},
     "output_type": "execute_result"
    }
   ],
   "source": [
    "f1.pop(\"Guava\")\n"
   ]
  },
  {
   "cell_type": "code",
   "execution_count": 49,
   "id": "d4c305e7",
   "metadata": {},
   "outputs": [
    {
     "data": {
      "text/plain": [
       "{'Mango': 10, 'Banana': 20, 'Apple': 30}"
      ]
     },
     "execution_count": 49,
     "metadata": {},
     "output_type": "execute_result"
    }
   ],
   "source": [
    "f1"
   ]
  },
  {
   "cell_type": "markdown",
   "id": "703b4bcd",
   "metadata": {},
   "source": [
    "## Set\n",
    "- Set ia a unordered and unindexed collection of elements enclosed with {}\n",
    "- Duplicates are not allowed in Set\n"
   ]
  },
  {
   "cell_type": "code",
   "execution_count": 50,
   "id": "e1870580",
   "metadata": {},
   "outputs": [
    {
     "data": {
      "text/plain": [
       "{1, 2, 3, 'a', 'b', 'c'}"
      ]
     },
     "execution_count": 50,
     "metadata": {},
     "output_type": "execute_result"
    }
   ],
   "source": [
    "# Try duplicates with set\n",
    "s1 = {\"c\", \"a\", \"b\", 1, 2, 3, \"a\", \"b\", 1, 2}\n",
    "s1"
   ]
  },
  {
   "cell_type": "code",
   "execution_count": 51,
   "id": "3f56d06a",
   "metadata": {},
   "outputs": [
    {
     "data": {
      "text/plain": [
       "{1, 2, 3, 'Test', 'a', 'b', 'c'}"
      ]
     },
     "execution_count": 51,
     "metadata": {},
     "output_type": "execute_result"
    }
   ],
   "source": [
    "s1.add(\"Test\")\n",
    "s1"
   ]
  },
  {
   "cell_type": "code",
   "execution_count": 52,
   "id": "42d65861",
   "metadata": {},
   "outputs": [
    {
     "data": {
      "text/plain": [
       "{1, 2, 3, 'Test', 'a', 'c'}"
      ]
     },
     "execution_count": 52,
     "metadata": {},
     "output_type": "execute_result"
    }
   ],
   "source": [
    "s1.remove(\"b\")\n",
    "s1"
   ]
  },
  {
   "cell_type": "code",
   "execution_count": 53,
   "id": "63aefe4b",
   "metadata": {},
   "outputs": [
    {
     "data": {
      "text/plain": [
       "{1, 2, 'Apple', 'Banana', 'Mango', 'a', 'b', 'c'}"
      ]
     },
     "execution_count": 53,
     "metadata": {},
     "output_type": "execute_result"
    }
   ],
   "source": [
    "s1 = {'Mango', 'Banana', 'Apple', 1, 2, 'a'}\n",
    "s2 = {'a', 'b', 'c', 1, 2}\n",
    "s1.union(s2)"
   ]
  },
  {
   "cell_type": "code",
   "execution_count": 54,
   "id": "7dd37891",
   "metadata": {},
   "outputs": [
    {
     "data": {
      "text/plain": [
       "{1, 2, 'Apple', 'Banana', 'Mango', 'a'}"
      ]
     },
     "execution_count": 54,
     "metadata": {},
     "output_type": "execute_result"
    }
   ],
   "source": [
    "s1"
   ]
  },
  {
   "cell_type": "code",
   "execution_count": 55,
   "id": "166e9908",
   "metadata": {},
   "outputs": [
    {
     "data": {
      "text/plain": [
       "{1, 2, 'a', 'b', 'c'}"
      ]
     },
     "execution_count": 55,
     "metadata": {},
     "output_type": "execute_result"
    }
   ],
   "source": [
    "s2"
   ]
  },
  {
   "cell_type": "code",
   "execution_count": 56,
   "id": "6ed9dafc",
   "metadata": {},
   "outputs": [
    {
     "data": {
      "text/plain": [
       "{1, 2, 'a'}"
      ]
     },
     "execution_count": 56,
     "metadata": {},
     "output_type": "execute_result"
    }
   ],
   "source": [
    "s1.intersection(s2)"
   ]
  },
  {
   "cell_type": "markdown",
   "id": "eaa7b448",
   "metadata": {},
   "source": [
    "## Decision making\n"
   ]
  },
  {
   "cell_type": "code",
   "execution_count": 57,
   "id": "959d48a5",
   "metadata": {},
   "outputs": [],
   "source": [
    "a, b= 10, 20"
   ]
  },
  {
   "cell_type": "code",
   "execution_count": 58,
   "id": "85846126",
   "metadata": {},
   "outputs": [
    {
     "name": "stdout",
     "output_type": "stream",
     "text": [
      "B is greater than A\n"
     ]
    }
   ],
   "source": [
    "if a>b:\n",
    "    print(\"A is greater than B\")\n",
    "else:\n",
    "    print(\"B is greater than A\")"
   ]
  },
  {
   "cell_type": "code",
   "execution_count": 59,
   "id": "d87223b4",
   "metadata": {},
   "outputs": [
    {
     "data": {
      "text/plain": [
       "'B is greater than A'"
      ]
     },
     "execution_count": 59,
     "metadata": {},
     "output_type": "execute_result"
    }
   ],
   "source": [
    "result= \"A is greater than B\" if a>b else \"B is greater than A\"\n",
    "result"
   ]
  },
  {
   "cell_type": "code",
   "execution_count": 60,
   "id": "c578601e",
   "metadata": {},
   "outputs": [],
   "source": [
    "tup= (\"a\", \"b\", \"c\")"
   ]
  },
  {
   "cell_type": "code",
   "execution_count": 61,
   "id": "8e590ff3",
   "metadata": {},
   "outputs": [
    {
     "name": "stdout",
     "output_type": "stream",
     "text": [
      "z is not in tup\n"
     ]
    }
   ],
   "source": [
    "if \"z\" in tup:\n",
    "    print(\"z is in tup\")\n",
    "else:\n",
    "    print(\"z is not in tup\")"
   ]
  },
  {
   "cell_type": "markdown",
   "id": "0bc6f588",
   "metadata": {},
   "source": [
    "## Looping Statement\n",
    "To repeat task multiple times"
   ]
  },
  {
   "cell_type": "code",
   "execution_count": 62,
   "id": "298774cb",
   "metadata": {},
   "outputs": [
    {
     "name": "stdout",
     "output_type": "stream",
     "text": [
      "Mango\n",
      "Banana\n",
      "Apple\n"
     ]
    }
   ],
   "source": [
    "fruit = ['Mango', 'Banana', 'Apple']\n",
    "for frt in fruit:\n",
    "    print(frt)"
   ]
  },
  {
   "cell_type": "code",
   "execution_count": 63,
   "id": "f45dd8ee",
   "metadata": {},
   "outputs": [
    {
     "name": "stdout",
     "output_type": "stream",
     "text": [
      "1\n",
      "2\n",
      "3\n",
      "4\n",
      "5\n",
      "6\n",
      "7\n",
      "8\n",
      "9\n",
      "10\n"
     ]
    }
   ],
   "source": [
    "i= 1\n",
    "while i<=10:\n",
    "    print(i)\n",
    "    i+=1"
   ]
  },
  {
   "cell_type": "markdown",
   "id": "1509e601",
   "metadata": {},
   "source": [
    "## Object Oriented Programming\n",
    "- Class: user defined data type\n",
    "    - Attributes\n",
    "    - Methods\n",
    "- Objects : Specific instance of a class"
   ]
  },
  {
   "cell_type": "code",
   "execution_count": 64,
   "id": "557af5bb",
   "metadata": {},
   "outputs": [],
   "source": [
    "class Phone:\n",
    "    def make_call(self):\n",
    "        print(\"Making phone call\")\n",
    "    def play_game(self):\n",
    "        print(\"Playing game\")\n",
    "    def set_color(self, color):\n",
    "        self.color = color\n",
    "    def set_cost(self, cost):\n",
    "        self.cost = cost\n",
    "    def show_color(self):\n",
    "        return self.color\n",
    "    def show_cost(self):\n",
    "        return self.cost"
   ]
  },
  {
   "cell_type": "code",
   "execution_count": 65,
   "id": "3840d42d",
   "metadata": {},
   "outputs": [],
   "source": [
    "p1 = Phone()"
   ]
  },
  {
   "cell_type": "code",
   "execution_count": 66,
   "id": "3f95ec6c",
   "metadata": {},
   "outputs": [
    {
     "name": "stdout",
     "output_type": "stream",
     "text": [
      "Making phone call\n"
     ]
    }
   ],
   "source": [
    "p1.make_call()"
   ]
  },
  {
   "cell_type": "code",
   "execution_count": 67,
   "id": "f9cff759",
   "metadata": {},
   "outputs": [
    {
     "name": "stdout",
     "output_type": "stream",
     "text": [
      "Playing game\n"
     ]
    }
   ],
   "source": [
    "p1.play_game()"
   ]
  },
  {
   "cell_type": "code",
   "execution_count": 68,
   "id": "1d74cac8",
   "metadata": {},
   "outputs": [],
   "source": [
    "p1.set_color(\"Red\")"
   ]
  },
  {
   "cell_type": "code",
   "execution_count": 69,
   "id": "efead9dc",
   "metadata": {},
   "outputs": [],
   "source": [
    "p1.set_cost(1000)"
   ]
  },
  {
   "cell_type": "code",
   "execution_count": 70,
   "id": "f3290425",
   "metadata": {},
   "outputs": [
    {
     "data": {
      "text/plain": [
       "'Red'"
      ]
     },
     "execution_count": 70,
     "metadata": {},
     "output_type": "execute_result"
    }
   ],
   "source": [
    "p1.show_color()"
   ]
  },
  {
   "cell_type": "code",
   "execution_count": 71,
   "id": "3ac5ad65",
   "metadata": {},
   "outputs": [
    {
     "data": {
      "text/plain": [
       "1000"
      ]
     },
     "execution_count": 71,
     "metadata": {},
     "output_type": "execute_result"
    }
   ],
   "source": [
    "p1.show_cost()"
   ]
  },
  {
   "cell_type": "markdown",
   "id": "9d524919",
   "metadata": {},
   "source": [
    "### Constructor"
   ]
  },
  {
   "cell_type": "code",
   "execution_count": 72,
   "id": "224096cc",
   "metadata": {},
   "outputs": [],
   "source": [
    "class Phone:\n",
    "    def __init__(self, color, cost):\n",
    "        self.color = color\n",
    "        self.cost = cost\n",
    "    def make_call(self):\n",
    "        print(\"Making phone call\")\n",
    "    def play_game(self):\n",
    "        print(\"Playing game\")"
   ]
  },
  {
   "cell_type": "code",
   "execution_count": 73,
   "id": "8112dc4c",
   "metadata": {},
   "outputs": [],
   "source": [
    "p1 = Phone(\"Red\", 2000)"
   ]
  },
  {
   "cell_type": "code",
   "execution_count": 74,
   "id": "d006d04f",
   "metadata": {},
   "outputs": [
    {
     "data": {
      "text/plain": [
       "'Red'"
      ]
     },
     "execution_count": 74,
     "metadata": {},
     "output_type": "execute_result"
    }
   ],
   "source": [
    "p1.color"
   ]
  },
  {
   "cell_type": "markdown",
   "id": "721d26c1",
   "metadata": {},
   "source": [
    "## Inheritance\n",
    "With inheritance one class can derive the properties of another class"
   ]
  },
  {
   "cell_type": "code",
   "execution_count": 75,
   "id": "16ebdcb3",
   "metadata": {},
   "outputs": [],
   "source": [
    "class Vehicle:\n",
    "    def __init__(self, mileage, cost):\n",
    "        self.mileage = mileage\n",
    "        self.cost = cost\n",
    "        \n",
    "    def vehicle_details(self):\n",
    "        print(f\"Vehicle has {self.mileage} mileage and it cost ${self.cost}\")"
   ]
  },
  {
   "cell_type": "code",
   "execution_count": 76,
   "id": "e5ebdf26",
   "metadata": {},
   "outputs": [
    {
     "name": "stdout",
     "output_type": "stream",
     "text": [
      "Vehicle has 27 mileage and it cost $15000\n"
     ]
    }
   ],
   "source": [
    "v1 = Vehicle(27, 15000)\n",
    "v1.vehicle_details()"
   ]
  },
  {
   "cell_type": "code",
   "execution_count": 77,
   "id": "353c3861",
   "metadata": {},
   "outputs": [],
   "source": [
    "class Car(Vehicle):\n",
    "    def show_car(self):\n",
    "        print(\"I am Car\")\n",
    "        "
   ]
  },
  {
   "cell_type": "code",
   "execution_count": 78,
   "id": "4c620ac6",
   "metadata": {},
   "outputs": [],
   "source": [
    "c1 = Car(200, 15000)"
   ]
  },
  {
   "cell_type": "code",
   "execution_count": 79,
   "id": "e91c738e",
   "metadata": {},
   "outputs": [
    {
     "name": "stdout",
     "output_type": "stream",
     "text": [
      "I am Car\n"
     ]
    }
   ],
   "source": [
    "c1.show_car()"
   ]
  },
  {
   "cell_type": "code",
   "execution_count": 80,
   "id": "ef191220",
   "metadata": {},
   "outputs": [
    {
     "name": "stdout",
     "output_type": "stream",
     "text": [
      "Vehicle has 200 mileage and it cost $15000\n"
     ]
    }
   ],
   "source": [
    "c1.vehicle_details()"
   ]
  },
  {
   "cell_type": "code",
   "execution_count": 81,
   "id": "905ff6a9",
   "metadata": {},
   "outputs": [],
   "source": [
    "class Car(Vehicle):\n",
    "    def __init__(self, mileage, cost, hp ):\n",
    "        super().__init__(mileage, cost)\n",
    "        self.hp = hp\n",
    "    def show_car(self):\n",
    "        print(f\"I am car with mileage: {self.mileage}, cost: {self.cost}, power: {self.hp} \")"
   ]
  },
  {
   "cell_type": "code",
   "execution_count": 82,
   "id": "09f28c57",
   "metadata": {},
   "outputs": [],
   "source": [
    "c1= Car(100, 15000, 2000)"
   ]
  },
  {
   "cell_type": "code",
   "execution_count": 83,
   "id": "a01be942",
   "metadata": {},
   "outputs": [
    {
     "name": "stdout",
     "output_type": "stream",
     "text": [
      "I am car with mileage: 100, cost: 15000, power: 2000 \n"
     ]
    }
   ],
   "source": [
    "c1.show_car()"
   ]
  },
  {
   "cell_type": "code",
   "execution_count": 84,
   "id": "9fbe4a41",
   "metadata": {},
   "outputs": [
    {
     "name": "stdout",
     "output_type": "stream",
     "text": [
      "Vehicle has 100 mileage and it cost $15000\n"
     ]
    }
   ],
   "source": [
    "c1.vehicle_details()"
   ]
  },
  {
   "cell_type": "markdown",
   "id": "67081f04",
   "metadata": {},
   "source": [
    "## Multiple Inheretance\n",
    "Child inherite more than one parent class"
   ]
  },
  {
   "cell_type": "code",
   "execution_count": 85,
   "id": "511e1712",
   "metadata": {},
   "outputs": [
    {
     "data": {
      "text/plain": [
       "2"
      ]
     },
     "execution_count": 85,
     "metadata": {},
     "output_type": "execute_result"
    }
   ],
   "source": [
    "2\n",
    "    "
   ]
  },
  {
   "cell_type": "code",
   "execution_count": 86,
   "id": "fd65a0ad",
   "metadata": {},
   "outputs": [
    {
     "ename": "NameError",
     "evalue": "name 'Child' is not defined",
     "output_type": "error",
     "traceback": [
      "\u001b[0;31m---------------------------------------------------------------------------\u001b[0m",
      "\u001b[0;31mNameError\u001b[0m                                 Traceback (most recent call last)",
      "Cell \u001b[0;32mIn[86], line 1\u001b[0m\n\u001b[0;32m----> 1\u001b[0m c1 \u001b[38;5;241m=\u001b[39m Child()\n\u001b[1;32m      2\u001b[0m c1\u001b[38;5;241m.\u001b[39massign_string_1(\u001b[38;5;124m\"\u001b[39m\u001b[38;5;124mOne\u001b[39m\u001b[38;5;124m\"\u001b[39m)\n\u001b[1;32m      3\u001b[0m c1\u001b[38;5;241m.\u001b[39massign_string_2(\u001b[38;5;124m\"\u001b[39m\u001b[38;5;124mTwo\u001b[39m\u001b[38;5;124m\"\u001b[39m)\n",
      "\u001b[0;31mNameError\u001b[0m: name 'Child' is not defined"
     ]
    }
   ],
   "source": [
    "c1 = Child()\n",
    "c1.assign_string_1(\"One\")\n",
    "c1.assign_string_2(\"Two\")\n",
    "c1.assign_string_3(\"Three\")"
   ]
  },
  {
   "cell_type": "code",
   "execution_count": 87,
   "id": "9cb56293",
   "metadata": {},
   "outputs": [
    {
     "ename": "AttributeError",
     "evalue": "'Car' object has no attribute 'show_string_1'",
     "output_type": "error",
     "traceback": [
      "\u001b[0;31m---------------------------------------------------------------------------\u001b[0m",
      "\u001b[0;31mAttributeError\u001b[0m                            Traceback (most recent call last)",
      "Cell \u001b[0;32mIn[87], line 1\u001b[0m\n\u001b[0;32m----> 1\u001b[0m \u001b[38;5;28mprint\u001b[39m(c1\u001b[38;5;241m.\u001b[39mshow_string_1())\n\u001b[1;32m      2\u001b[0m \u001b[38;5;28mprint\u001b[39m(c1\u001b[38;5;241m.\u001b[39mshow_string_2())\n\u001b[1;32m      3\u001b[0m \u001b[38;5;28mprint\u001b[39m(c1\u001b[38;5;241m.\u001b[39mshow_string_3())\n",
      "\u001b[0;31mAttributeError\u001b[0m: 'Car' object has no attribute 'show_string_1'"
     ]
    }
   ],
   "source": [
    "print(c1.show_string_1())\n",
    "print(c1.show_string_2())\n",
    "print(c1.show_string_3())"
   ]
  },
  {
   "cell_type": "markdown",
   "id": "ea69df1a",
   "metadata": {},
   "source": [
    "## Multi Level Inheritance\n",
    "-We have Parent, Child, grand-child"
   ]
  },
  {
   "cell_type": "code",
   "execution_count": 88,
   "id": "66fd53c4",
   "metadata": {},
   "outputs": [],
   "source": [
    "class Parent1:\n",
    "    def assign_name(self, name):\n",
    "        self.name = name\n",
    "    def show_name(self):\n",
    "        return self.name\n",
    "    \n",
    "class Child(Parent1):\n",
    "    def assign_age(self, age):\n",
    "        self.age = age\n",
    "    def show_age(self):\n",
    "        return self.age\n",
    "    \n",
    "class GrandChild(Child):\n",
    "    def assign_gender(self, gender):\n",
    "        self.gender = gender\n",
    "    def show_gender(self):\n",
    "        return self.gender\n",
    "    \n"
   ]
  },
  {
   "cell_type": "code",
   "execution_count": 89,
   "id": "bd489216",
   "metadata": {},
   "outputs": [],
   "source": [
    "gc = GrandChild()"
   ]
  },
  {
   "cell_type": "code",
   "execution_count": 90,
   "id": "9d03921d",
   "metadata": {},
   "outputs": [],
   "source": [
    "gc.assign_name(\"Test\")"
   ]
  },
  {
   "cell_type": "code",
   "execution_count": 91,
   "id": "6af49ff6",
   "metadata": {},
   "outputs": [],
   "source": [
    "gc.assign_age(21)"
   ]
  },
  {
   "cell_type": "code",
   "execution_count": 92,
   "id": "4d9c5614",
   "metadata": {},
   "outputs": [],
   "source": [
    "gc.assign_gender(\"Male\")"
   ]
  },
  {
   "cell_type": "code",
   "execution_count": 93,
   "id": "b7f9bf0b",
   "metadata": {},
   "outputs": [
    {
     "name": "stdout",
     "output_type": "stream",
     "text": [
      "Test is a Male aged 21\n"
     ]
    }
   ],
   "source": [
    "print(f\"{gc.show_name()} is a {gc.show_gender()} aged {gc.show_age()}\")"
   ]
  },
  {
   "cell_type": "markdown",
   "id": "6f5a7810",
   "metadata": {},
   "source": [
    "## File Handling\n",
    "- Open mode : Open text file for reading, writing and doing some other stuff\n",
    "- Read mode : To read the text which is already stored in your text file\n",
    "- Write mode : To write your text in .txt file\n"
   ]
  },
  {
   "cell_type": "code",
   "execution_count": 94,
   "id": "1f6fc012",
   "metadata": {},
   "outputs": [],
   "source": [
    "file = open('test.txt', 'w')\n",
    "\n",
    "try:\n",
    "    file.write('Chai aur code line 1')\n",
    "finally:\n",
    "    file.close()"
   ]
  },
  {
   "cell_type": "code",
   "execution_count": 95,
   "id": "54910291",
   "metadata": {},
   "outputs": [],
   "source": [
    "file = open('test.txt', 'a')\n",
    "\n",
    "try:\n",
    "    file.write('\\nChai aur code line 2')\n",
    "finally:\n",
    "    file.close()"
   ]
  },
  {
   "cell_type": "code",
   "execution_count": 96,
   "id": "1d0fd15f",
   "metadata": {},
   "outputs": [
    {
     "name": "stdout",
     "output_type": "stream",
     "text": [
      "41\n"
     ]
    }
   ],
   "source": [
    "file = open('test.txt', 'r')\n",
    "data_read = file.read()\n",
    "total_count = len(data_read)\n",
    "print(total_count)"
   ]
  },
  {
   "cell_type": "markdown",
   "id": "234bbecd",
   "metadata": {},
   "source": [
    "## Readline functions\n"
   ]
  },
  {
   "cell_type": "code",
   "execution_count": 97,
   "id": "2d201356",
   "metadata": {},
   "outputs": [
    {
     "data": {
      "text/plain": [
       "40"
      ]
     },
     "execution_count": 97,
     "metadata": {},
     "output_type": "execute_result"
    }
   ],
   "source": [
    "f = open('test.txt', 'w')\n",
    "f.write(\"I am learning file handling\")\n",
    "f.write(\"\\n Topic is file handling, read and write\")"
   ]
  },
  {
   "cell_type": "code",
   "execution_count": 98,
   "id": "49fb292a",
   "metadata": {},
   "outputs": [],
   "source": [
    "f = open('test.txt', 'r')"
   ]
  },
  {
   "cell_type": "code",
   "execution_count": 99,
   "id": "9a0b3bb8",
   "metadata": {},
   "outputs": [
    {
     "name": "stdout",
     "output_type": "stream",
     "text": [
      "I am learning file handling\n",
      "\n"
     ]
    }
   ],
   "source": [
    "print(f.readline())"
   ]
  },
  {
   "cell_type": "code",
   "execution_count": 100,
   "id": "d54b6576",
   "metadata": {},
   "outputs": [
    {
     "name": "stdout",
     "output_type": "stream",
     "text": [
      " Topic is file handling, read and write\n"
     ]
    }
   ],
   "source": [
    "print(f.readline())"
   ]
  },
  {
   "cell_type": "code",
   "execution_count": 101,
   "id": "361c808e",
   "metadata": {},
   "outputs": [
    {
     "name": "stdout",
     "output_type": "stream",
     "text": [
      "\n"
     ]
    }
   ],
   "source": [
    "print(f.readline())"
   ]
  },
  {
   "cell_type": "markdown",
   "id": "7a112fdc",
   "metadata": {},
   "source": [
    "## Try Except"
   ]
  },
  {
   "cell_type": "code",
   "execution_count": 102,
   "id": "7f9e2641",
   "metadata": {},
   "outputs": [
    {
     "name": "stdout",
     "output_type": "stream",
     "text": [
      "Enter the number 1 : 1\n",
      "Enter the number 2 : 2\n",
      "unsupported operand type(s) for +: 'int' and 'str'\n"
     ]
    }
   ],
   "source": [
    "a =input(\"Enter the number 1 : \")\n",
    "b =input(\"Enter the number 2 : \")\n",
    "\n",
    "try:\n",
    "    c= int(a) + b\n",
    "    print(c)\n",
    "except Exception as e:\n",
    "    print(e)\n",
    "    "
   ]
  },
  {
   "cell_type": "code",
   "execution_count": 103,
   "id": "8d2fa8e1",
   "metadata": {},
   "outputs": [
    {
     "name": "stdout",
     "output_type": "stream",
     "text": [
      "Error in try block\n"
     ]
    }
   ],
   "source": [
    "try:\n",
    "    c= int(a) + b\n",
    "    print(c)\n",
    "except:\n",
    "    print(\"Error in try block\")"
   ]
  },
  {
   "cell_type": "markdown",
   "id": "fba65a63",
   "metadata": {},
   "source": [
    "## Try with else clause\n",
    "Else clause is used with the try clause when you want to execute the set of instructions in the absence of exceptions in your code"
   ]
  },
  {
   "cell_type": "code",
   "execution_count": 104,
   "id": "633e72ba",
   "metadata": {},
   "outputs": [
    {
     "name": "stdout",
     "output_type": "stream",
     "text": [
      "Enter the number 1 : 1\n",
      "Enter the number 2 : 2\n",
      "3\n",
      "All inputs are good, Else clause got executed!!\n"
     ]
    }
   ],
   "source": [
    "a =input(\"Enter the number 1 : \")\n",
    "b =input(\"Enter the number 2 : \")\n",
    "\n",
    "try:\n",
    "    c= int(a) + int(b)\n",
    "    print(c)\n",
    "except Exception as e:\n",
    "    print(e)\n",
    "else:\n",
    "    print(\"All inputs are good, Else clause got executed!!\")"
   ]
  },
  {
   "cell_type": "markdown",
   "id": "a9b62ffc",
   "metadata": {},
   "source": [
    "## Try Finally keyword\n",
    "Finally is a keyword which surely executes after the execution of the try except block of statement"
   ]
  },
  {
   "cell_type": "code",
   "execution_count": 105,
   "id": "5bca2991",
   "metadata": {},
   "outputs": [
    {
     "name": "stdout",
     "output_type": "stream",
     "text": [
      "Enter the number 1 : 1\n",
      "Enter the number 2 : 2\n",
      "Error in try block\n",
      "Finally runs post try except\n"
     ]
    }
   ],
   "source": [
    "a =input(\"Enter the number 1 : \")\n",
    "b =input(\"Enter the number 2 : \")\n",
    "\n",
    "try:\n",
    "    c= int(a) + b\n",
    "    print(c)\n",
    "except:\n",
    "    print(\"Error in try block\")\n",
    "finally:\n",
    "    print(\"Finally runs post try except\")"
   ]
  },
  {
   "cell_type": "code",
   "execution_count": 106,
   "id": "20069805",
   "metadata": {},
   "outputs": [
    {
     "name": "stdout",
     "output_type": "stream",
     "text": [
      "Enter the number 1 : 1\n",
      "Enter the number 2 : 2\n",
      "3\n",
      "All inputs are good, Else clause got executed!!\n",
      "Finally runs post try except\n"
     ]
    }
   ],
   "source": [
    "a =input(\"Enter the number 1 : \")\n",
    "b =input(\"Enter the number 2 : \")\n",
    "\n",
    "try:\n",
    "    c= int(a) + int(b)\n",
    "    print(c)\n",
    "except Exception as e:\n",
    "    print(e)\n",
    "else:\n",
    "    print(\"All inputs are good, Else clause got executed!!\")\n",
    "finally:\n",
    "    print(\"Finally runs post try except\")"
   ]
  },
  {
   "cell_type": "markdown",
   "id": "f42591c8",
   "metadata": {},
   "source": [
    "# Data Structures And Algorithms\n",
    "- Arrays\n",
    "- Stack\n",
    "- Queue\n",
    "- Linked List\n",
    "- Linear Search\n",
    "- Binary Search\n",
    "- Insersion Sort\n",
    "- Quick Sort\n",
    "- Merge Sort"
   ]
  },
  {
   "cell_type": "markdown",
   "id": "d609f6cc",
   "metadata": {},
   "source": [
    "## Arrays:\n",
    "- Linear Data structure \n",
    "- Continous Memory Locations\n",
    "- Access elements randomly\n",
    "- Homogeneous elements i.e. similar elements\n",
    "### Applications\n",
    "- Storing Information - linear fashion\n",
    "- Suitable for applications that require frequent searching\n",
    "### 1-Dimentional Array\n",
    "- 1D can be related to a row\n",
    "- Elements are stored one after another\n",
    "- Only one subscript or index is used\n",
    "### Declaration and Initialization \n",
    "- Array declaration:\n",
    "    - Datatype varname [size]\n",
    "- Can also do declaration and initialization at once:\n",
    "    - Datatype varname [] = {ele1, ele2, ele3, ele4};\n",
    "### 2-Dimentional Array\n",
    "- 2D can be related to a table or matrix\n",
    "- Elements are stored one after another i.e. one 1D array inside another.\n",
    "- Two subscripts or indices are used, one row and one column.\n",
    "- Dimensions depends upon the number of subscripts used."
   ]
  },
  {
   "cell_type": "code",
   "execution_count": 108,
   "id": "0a235ce6",
   "metadata": {},
   "outputs": [
    {
     "name": "stdout",
     "output_type": "stream",
     "text": [
      "How many elements to store inside the array3\n",
      "\n",
      "Enter 3 Element:2\n",
      "3\n",
      "4\n",
      "\n",
      "The array elements are\n",
      "234"
     ]
    }
   ],
   "source": [
    "# 1D array\n",
    "print(\"How many elements to store inside the array\", end=\"\")\n",
    "num = input()\n",
    "arr = []\n",
    "print(\"\\nEnter\", num, \"Element:\", end=\"\")\n",
    "num = int(num)\n",
    "for i in range(num):\n",
    "    element = input()\n",
    "    arr.append(element)\n",
    "print(\"\\nThe array elements are\")\n",
    "for i in range(num):\n",
    "    print(arr[i], end=\"\")"
   ]
  },
  {
   "cell_type": "code",
   "execution_count": 112,
   "id": "5bac7a00",
   "metadata": {},
   "outputs": [
    {
     "name": "stdout",
     "output_type": "stream",
     "text": [
      "Input number of rows: 2\n",
      "Input number of columns: 3\n",
      "The matrix is: \n",
      "0 0\n",
      "0 0\n",
      "0 0\n",
      "0 0\n",
      "0 1\n",
      "0 2\n",
      "[[0, 0, 0], [0, 1, 2]]\n"
     ]
    }
   ],
   "source": [
    "# 2D Array\n",
    "r_num = int(input(\"Input number of rows: \"))\n",
    "c_num = int(input(\"Input number of columns: \"))\n",
    "twoD_arr = [[0 for col in range(c_num)] for row in range(r_num)]\n",
    "# print(\"Enter the elements of the matrix: \")\n",
    "# for i in range(r_num):\n",
    "#     for j in range(c_num):\n",
    "#         twoD_arr[i][j] = int(input())\n",
    "print(\"The matrix is: \")\n",
    "for i in range(r_num):\n",
    "    for j in range(c_num):\n",
    "        print(twoD_arr[i][j], i*j)\n",
    "        twoD_arr[i][j]= i*j\n",
    "print(twoD_arr)"
   ]
  },
  {
   "cell_type": "code",
   "execution_count": 114,
   "id": "253d4fd4",
   "metadata": {},
   "outputs": [
    {
     "name": "stdout",
     "output_type": "stream",
     "text": [
      "Enter the size of Array: 7\n",
      "Enter 7 Elements: 1\n",
      "2\n",
      "3\n",
      "4\n",
      "5\n",
      "6\n",
      "7\n",
      "\n",
      "Enter the value to Delete: 4\n",
      "\n",
      "The new array is: \n",
      "1 2 3 5 6 7 "
     ]
    }
   ],
   "source": [
    "# Array with user defined value\n",
    "print(end=\"Enter the size of Array: \")\n",
    "tot = int(input())\n",
    "arr = []\n",
    "print(end=\"Enter \" +str(tot)+ \" Elements: \")\n",
    "for i in range(tot):\n",
    "    arr.append(input())\n",
    "print(end=\"\\nEnter the value to Delete: \")\n",
    "val = input()\n",
    "if val in arr:\n",
    "    arr.remove(val)\n",
    "    print(\"\\nThe new array is: \")\n",
    "    for i in range(tot-1):\n",
    "        print(end=arr[i]+\" \")\n",
    "else:\n",
    "    print(\"\\nElement doent exist in the List!\")"
   ]
  },
  {
   "cell_type": "code",
   "execution_count": 115,
   "id": "f0c4a80d",
   "metadata": {},
   "outputs": [
    {
     "name": "stdout",
     "output_type": "stream",
     "text": [
      "Elements of original array: \n",
      "10 22 38 27 11 \n",
      "\n",
      "Elements of array sorted in ascending order: \n",
      "10 11 22 27 38 "
     ]
    }
   ],
   "source": [
    "# Sort elements in an array\n",
    "arr = [10, 22, 38, 27, 11]\n",
    "temp = 0;\n",
    "\n",
    "#Displaying elements of original array\n",
    "print(\"Elements of original array: \");\n",
    "for i in range(0, len(arr)):\n",
    "    print(arr[i], end=\" \");\n",
    "\n",
    "#Sort the array in ascending order\n",
    "for i in range(0, len(arr)):\n",
    "    for j in range(i + 1, len(arr)):\n",
    "        if(arr[i] > arr[j]):\n",
    "            temp = arr[i];\n",
    "            arr[i] = arr[j];\n",
    "            arr[j] = temp;\n",
    "print();\n",
    "#Displaying elements of the array after sorting\n",
    "print(\"\\nElements of array sorted in ascending order: \")\n",
    "for i in range(0, len(arr)):\n",
    "    print(arr[i], end=\" \");"
   ]
  },
  {
   "cell_type": "code",
   "execution_count": 116,
   "id": "204b8ec9",
   "metadata": {},
   "outputs": [
    {
     "name": "stdout",
     "output_type": "stream",
     "text": [
      "Elements of original array: \n",
      "1 2 3 1 2 5 \r\n",
      "The index of first occurance of 2 is: 1\n",
      "The index of first occurance of 1 is: 0\n"
     ]
    }
   ],
   "source": [
    "# Search element in an array\n",
    "import array\n",
    "arr = array.array('i', [1, 2, 3, 1, 2, 5])\n",
    "print(\"Elements of original array: \")\n",
    "for i in range(0, 6):\n",
    "    print(arr[i], end=\" \");\n",
    "print(\"\\r\");\n",
    "print(\"The index of first occurance of 2 is: \", end=\"\")\n",
    "print(arr.index(2))\n",
    "print(\"The index of first occurance of 1 is: \", end=\"\")\n",
    "print(arr.index(1))"
   ]
  },
  {
   "cell_type": "markdown",
   "id": "5aa0b2ab",
   "metadata": {},
   "source": [
    "### Advantages of an array\n",
    "- Random access elements\n",
    "- Easy sorting and iteration\n",
    "- Replacement of multiple variables\n",
    "### Disadvantage of an array\n",
    "- Size is fixed\n",
    "- Difficult to insert and delete\n",
    "- If capacity is more and occupancy less most of the array gets wasted\n",
    "- Needs continous memory"
   ]
  },
  {
   "cell_type": "markdown",
   "id": "3ec4136c",
   "metadata": {},
   "source": [
    "## Stack\n",
    "- Linear data structure\n",
    "- It follows Last In First Out(LIFO) order\n",
    "- Insertion and removal of the element has done at one end\n",
    "- Push is used for inserting an element in a stack\n",
    "- Pop is used to removal an element in a stack\n",
    "### Functions\n",
    "- push(x) - it is used to insert the element 'x' at the end of a stack.\n",
    "- pop() - it is used to remove the topmost/last element of a stack.\n",
    "- size() - gives the size/length of a stack.\n",
    "- top() - give reference of last element present in stack\n",
    "- empty() - return true for an empty stack\n",
    "### Implementation of Stack\n",
    "Several ways to implement stack in python\n",
    "- list\n",
    "- collections.deque\n",
    "- queue.LifoQueue\n",
    "### Implementation of stack using list\n",
    "List in python can be used as stack\n",
    "- append() - it is used to insert the element\n",
    "- pop() - it is used to remove the last element\n",
    "\n",
    "Logic- \n",
    "\n",
    "stack = []\n",
    "\n",
    "stack.append(\"abc\")\n",
    "\n",
    "print(stack.pop())\n"
   ]
  },
  {
   "cell_type": "code",
   "execution_count": 117,
   "id": "05609fec",
   "metadata": {},
   "outputs": [
    {
     "name": "stdout",
     "output_type": "stream",
     "text": [
      "['Welcome', 'to', 'great learning']\n",
      "great learning\n",
      "['Welcome', 'to']\n"
     ]
    }
   ],
   "source": [
    "# Implementation of stack using list\n",
    "stack= []\n",
    "stack.append(\"Welcome\")\n",
    "stack.append(\"to\")\n",
    "stack.append(\"great learning\")\n",
    "print(stack)\n",
    "print(stack.pop())\n",
    "print(stack)"
   ]
  },
  {
   "cell_type": "markdown",
   "id": "47cceafb",
   "metadata": {},
   "source": [
    "### Implementation of stack using deque\n",
    "- STACK in python are created by the collection module which provides deque class.\n",
    "- Append and pop operations are faster in deque as compared to list\n",
    "\n",
    "Logic:\n",
    "\n",
    "from collectios import deque\n",
    "\n",
    "stack = deque()\n",
    "\n",
    "stack.append(\"abc\")\n",
    "\n",
    "print(stack.pop())"
   ]
  },
  {
   "cell_type": "code",
   "execution_count": 119,
   "id": "cdf33765",
   "metadata": {},
   "outputs": [
    {
     "name": "stdout",
     "output_type": "stream",
     "text": [
      "deque(['Welcome', 'to', 'great learning'])\n",
      "great learning\n",
      "deque(['Welcome', 'to'])\n"
     ]
    }
   ],
   "source": [
    "### Implementation of stack using deque\n",
    "from collections import deque\n",
    "stack = deque()\n",
    "stack.append(\"Welcome\")\n",
    "stack.append(\"to\")\n",
    "stack.append(\"great learning\")\n",
    "print(stack)\n",
    "print(stack.pop())\n",
    "print(stack)"
   ]
  },
  {
   "cell_type": "markdown",
   "id": "7d0f489a",
   "metadata": {},
   "source": [
    "### Implementation of stack using queue\n",
    "- Queue module contains the LIFO queue\n",
    "- It is having some additional functions and works same as stack\n",
    "- Put function is used to insert the data in queue\n",
    "- Get function is used to remove the element\n",
    "### Functions available in queue model\n",
    "- get() - it is used to remove the element from queue\n",
    "- maxsize() - Used to put the maximum number of items allowed in queue\n",
    "- empty() - It return true when queue is empty else false\n",
    "- full() - When queue is full returns True\n",
    "- put(x) - It is used to insert x in queue\n",
    "- qsize() - Gives size of a queue\n",
    "\n",
    "Logic: \n",
    "\n",
    "from queue import LifoQueue\n",
    "\n",
    "stack = Lifoqueue()\n"
   ]
  },
  {
   "cell_type": "code",
   "execution_count": 122,
   "id": "d5ebed28",
   "metadata": {},
   "outputs": [
    {
     "name": "stdout",
     "output_type": "stream",
     "text": [
      "<queue.LifoQueue object at 0x10ae1ac90>\n",
      "3\n",
      "True\n",
      "great learning\n",
      "2\n",
      "<queue.LifoQueue object at 0x10ae1ac90>\n"
     ]
    }
   ],
   "source": [
    "# Implementation of stack using queue\n",
    "from queue import LifoQueue\n",
    "stack = LifoQueue(maxsize=3)\n",
    "stack.put(\"Welcome\")\n",
    "stack.put(\"to\")\n",
    "stack.put(\"great learning\")\n",
    "print(stack)\n",
    "print(stack.qsize())\n",
    "print(stack.full())\n",
    "print(stack.get())\n",
    "print(stack.qsize())\n",
    "print(stack)"
   ]
  },
  {
   "cell_type": "markdown",
   "id": "5567d86f",
   "metadata": {},
   "source": [
    "## What is Queue\n",
    "- Linear data structure\n",
    "- Follows FIFO: First in first out\n",
    "- Insertion can take place from the rear end\n",
    "- Deletion can take place from front end\n",
    "- Queue at ticket counter, bus station\n",
    "- 4 major operations\n",
    "    - enqueue(ele) - used to insert element at top\n",
    "    - dequeue() - removes the top element from queue\n",
    "    - peekfirst() - to get first element of queue\n",
    "    - peeklast() - to get last element of queue\n",
    "- All operation works in constant time i.e. 0(1)\n",
    "\n",
    "### Applications of Queue\n",
    "- Scheduling\n",
    "- Maintaining playlist\n",
    "- Interrupt handling\n",
    "## Queue Implementation\n",
    "- Enqueue\n",
    "- Dequeue\n",
    "- Display"
   ]
  },
  {
   "cell_type": "code",
   "execution_count": 123,
   "id": "106e74d9",
   "metadata": {},
   "outputs": [],
   "source": [
    "# Implementation of stack using queue\n",
    "class Queue:\n",
    "    def __init__(self):\n",
    "        self.queue = []\n",
    "    def enqueue(self, data):\n",
    "        self.queue.append(data)\n",
    "    def dequeue(self):\n",
    "        if len(self.queue)<1:\n",
    "            return None\n",
    "        return self.queue.pop(0)\n",
    "    def display(self):\n",
    "        print(self.queue)\n",
    "    def size(self):\n",
    "        return len(self.queue)"
   ]
  },
  {
   "cell_type": "code",
   "execution_count": 124,
   "id": "d9889fa8",
   "metadata": {},
   "outputs": [
    {
     "name": "stdout",
     "output_type": "stream",
     "text": [
      "[1, 2, 3, 4]\n",
      "[2, 3, 4]\n"
     ]
    }
   ],
   "source": [
    "q = Queue()\n",
    "q.enqueue(1)\n",
    "q.enqueue(2)\n",
    "q.enqueue(3)\n",
    "q.enqueue(4)\n",
    "q.display()\n",
    "q.dequeue()\n",
    "q.display()"
   ]
  },
  {
   "cell_type": "markdown",
   "id": "12f146a0",
   "metadata": {},
   "source": [
    "### Queue Implementation\n",
    "A program implementation for circular queue:\n",
    "- Enqueue\n",
    "- Dequeue"
   ]
  },
  {
   "cell_type": "code",
   "execution_count": 126,
   "id": "a87d1714",
   "metadata": {},
   "outputs": [],
   "source": [
    "# circular queue \n",
    "class MyCircularQueue():\n",
    "    def __init__(self, k):\n",
    "        self.k = k\n",
    "        self.queue = [None] * k\n",
    "        self.head = self.tail = -1\n",
    "\n",
    "    def enqueue (self, data):\n",
    "        if((self.tail + 1) % self.k == self.head):\n",
    "            print(\"Queue is full\")\n",
    "        elif (self.head == -1):\n",
    "            self.head = 0\n",
    "            self.tail = 0\n",
    "            self.queue[self.tail] = data\n",
    "        else:\n",
    "            self.tail = (self.tail + 1) % self.k\n",
    "            self.queue[self.tail] = data\n",
    "            \n",
    "    def dequeue(self):\n",
    "        if(self.head == -1):\n",
    "            print(\"Queue is empty\")\n",
    "        elif(self.head == self.tail):\n",
    "            temp = self.queue[self.head]\n",
    "            self.head = -1\n",
    "            self.tail = -1\n",
    "            return temp\n",
    "        else:\n",
    "            temp = self.queue[self.head]\n",
    "            self.head = (self.head + 1) % self.k\n",
    "            return temp\n",
    "        \n",
    "    def printCQueue(self):\n",
    "        if(self.head == -1):\n",
    "            print(\"No element in circular queue is found\")\n",
    "        elif(self.tail >= self.head):\n",
    "            for i in range(self.head, self.tail + 1):\n",
    "                print(self.queue[i], end = \" \")\n",
    "            print()\n",
    "        else:\n",
    "            for i in range(self.head, self.k):\n",
    "                print(self.queue[i], end = \" \")\n",
    "            for i in range(0, self.tail + 1):\n",
    "                print(self.queue[i], end = \" \")\n",
    "            print()"
   ]
  },
  {
   "cell_type": "code",
   "execution_count": 127,
   "id": "e7ee5a05",
   "metadata": {},
   "outputs": [
    {
     "name": "stdout",
     "output_type": "stream",
     "text": [
      "Initial queue values\n",
      "12 22 31 44 57 \n",
      "After removing an element from the queue\n",
      "22 31 44 57 \n"
     ]
    }
   ],
   "source": [
    "obj = MyCircularQueue(5)\n",
    "obj.enqueue(12)\n",
    "obj.enqueue(22)\n",
    "obj.enqueue(31)\n",
    "obj.enqueue(44)\n",
    "obj.enqueue(57)\n",
    "print(\"Initial queue values\")\n",
    "obj.printCQueue()\n",
    "\n",
    "obj.dequeue()\n",
    "print(\"After removing an element from the queue\")\n",
    "obj.printCQueue()"
   ]
  },
  {
   "cell_type": "markdown",
   "id": "f5283212",
   "metadata": {},
   "source": [
    "### Advantages of queue\n",
    "- Maintains data in FIFO manner\n",
    "- Insersion from beginning and deletion from end takes O(1) time\n",
    "### Disadvantages of queue\n",
    "- Manipulation is restricted front and rear\n",
    "- Not much flexible"
   ]
  },
  {
   "cell_type": "markdown",
   "id": "e0af0664",
   "metadata": {},
   "source": [
    "## Linked List\n",
    "It is collection or group of nodes\n",
    "\n",
    "Each node contains data and reference (pointer) which contains the address of next node.\n",
    "\n",
    "It is linear data structure\n",
    "\n",
    "Elements are stored randomly in memory\n",
    "\n",
    "### Why Linked List\n",
    "- Linked list is having more efficiency for performing the operations as compared to list\n",
    "- Elements are stored randomly whereas in list at continuous memory\n",
    "- Accessing the elements in linked list will be slower as compared to list\n",
    "- Utilization of memory is higher than the list"
   ]
  },
  {
   "cell_type": "markdown",
   "id": "d1887728",
   "metadata": {},
   "source": [
    "### Singly Linked List\n",
    "- It is trversed only in one direction\n",
    "\n",
    "### Operations of Singly Linked List\n",
    "- Insertion\n",
    "- Deletion\n",
    "- Traversal\n",
    "\n",
    "\n",
    "### Pseudo Code\n",
    "Creating a node in Singly Linked List\n",
    "\n",
    "Class Node:\n",
    "\n",
    "    def __init__(self, data):\n",
    "\n",
    "        self.data=data;\n",
    "\n",
    "        self.reference=None;\n",
    "    \n",
    "node1= Node(7)\n",
    "\n",
    "print(node1.data)\n",
    "\n",
    "print(node1.reference)\n",
    "\n",
    "\n",
    "\n",
    "Creating a clas of singly Linked list\n",
    "\n",
    "class LinkedList\n",
    "\n",
    "    def __init__(self):\n",
    "\n",
    "        self.head=None;"
   ]
  },
  {
   "cell_type": "code",
   "execution_count": null,
   "id": "450eeffb",
   "metadata": {},
   "outputs": [],
   "source": [
    "# Creating a node class\n",
    "class Node:\n",
    "    def __init__(self, data):\n",
    "        self.data = data\n",
    "        self.next = None\n",
    "        \n",
    "n1 = Node(7)\n",
    "print(n1.data)\n",
    "print(n1.next)\n"
   ]
  },
  {
   "cell_type": "code",
   "execution_count": 129,
   "id": "b61a5346",
   "metadata": {},
   "outputs": [
    {
     "name": "stdout",
     "output_type": "stream",
     "text": [
      "None\n"
     ]
    }
   ],
   "source": [
    "# creation of Singly Linked List\n",
    "class SinglyLinkedList:\n",
    "    def __init__(self):\n",
    "        self.head = None\n",
    "\n",
    "sll = SinglyLinkedList()\n",
    "print(sll.head) "
   ]
  },
  {
   "cell_type": "markdown",
   "id": "4a5573b8",
   "metadata": {},
   "source": [
    "## Searching Algorithms\n",
    "### Linear Search Algorithm\n",
    "\n",
    "What is Linear Search\n",
    "- It helps you to search for an element in a linear data structure.\n",
    "- It checks each and every element for the element to be searched.\n",
    "- Since this is done in linear fashion, it is termed as linear search."
   ]
  },
  {
   "cell_type": "code",
   "execution_count": 130,
   "id": "6fcffdfc",
   "metadata": {},
   "outputs": [
    {
     "name": "stdout",
     "output_type": "stream",
     "text": [
      "Element found at index:  3\n"
     ]
    }
   ],
   "source": [
    "# linearSearch(arr, item)\n",
    "#     for each element in array\n",
    "#         if element == item\n",
    "#             return index\n",
    "#     return -1\n",
    "\n",
    "def linearSearch(arr, n, x):\n",
    "    for i in range(0, n):\n",
    "        if (array[i] == x):\n",
    "            return i\n",
    "    return -1\n",
    "\n",
    "array =[2, 4, 0, 1, 9]\n",
    "n = len(array)\n",
    "x = 1\n",
    "result = linearSearch(array, n, x)\n",
    "if(result == -1):\n",
    "    print(\"Element not found\")\n",
    "else:\n",
    "    print(\"Element found at index: \", result)"
   ]
  },
  {
   "cell_type": "markdown",
   "id": "42da2b31",
   "metadata": {},
   "source": [
    "## Linear search - Time complexity\n",
    "- Best Time complexity: O(1)\n",
    "- Average Time complexity: O(n)\n",
    "- Worst Time complexity: O(n)\n",
    "- Here all the elements need to be compared in worst case to search for a given element.\n",
    "- Best case could be the case where the first element matched to the element to be searched\n",
    "## Linear search - Space complexity\n",
    "- No auxiliary space is required in linear search implementation.\n",
    "- Hence space complexity is : O(1)"
   ]
  },
  {
   "cell_type": "markdown",
   "id": "8b629570",
   "metadata": {},
   "source": [
    "## What is Binary Search\n",
    "- Binary search is one of the searching technique\n",
    "- It is used to search an element in a sorted array\n",
    "- This searching technique is based on divide and conquer strategy and search space always reduces to half in every iteration\n",
    "- This is very efficient technique for searching but it needs some order on which partition of the array will occur\n"
   ]
  },
  {
   "cell_type": "code",
   "execution_count": null,
   "id": "40e4ea05",
   "metadata": {},
   "outputs": [],
   "source": [
    "## Binary Search - Iterative Algorithm\n",
    "# binarySearch(arr, size)\n",
    "#     loop until beg is not equal to end \n",
    "#         midindex = (beg + end) / 2\n",
    "#         if arr[midindex] == item\n",
    "#             return midindex\n",
    "#         else if item > arr[midindex]\n",
    "#             beg = midindex + 1\n",
    "#         else\n",
    "#             end = midindex - 1"
   ]
  },
  {
   "cell_type": "code",
   "execution_count": null,
   "id": "57c5e014",
   "metadata": {},
   "outputs": [],
   "source": [
    "## Binary Search - Recursive Algorithm\n",
    "# binarysearch(arr, beg, end, item)\n",
    "#     if beg <= end\n",
    "#         mid = (beg + end) / 2\n",
    "#         if arr[mid] == item\n",
    "#             return mid\n",
    "#         else if item > arr[mid]\n",
    "#             return binarysearch(arr, mid + 1, end, item)\n",
    "#         else\n",
    "#             return binarysearch(arr, beg, mid - 1, item)\n",
    "#     else\n",
    "#         return -1"
   ]
  },
  {
   "cell_type": "code",
   "execution_count": 138,
   "id": "fb36e77d",
   "metadata": {},
   "outputs": [],
   "source": [
    "# Binary search in Python\n",
    "def binarySearch(arr, l, r, x):\n",
    "    while l <= r:\n",
    "        mid = l + (r - l) // 2\n",
    "        if arr[mid] == x:\n",
    "            return mid\n",
    "        elif arr[mid] < x:\n",
    "            l = mid + 1\n",
    "        else:\n",
    "            r = mid - 1\n",
    "    return -1   \n",
    "   "
   ]
  },
  {
   "cell_type": "code",
   "execution_count": 139,
   "id": "bc6640c2",
   "metadata": {},
   "outputs": [
    {
     "name": "stdout",
     "output_type": "stream",
     "text": [
      "Element found at index:  1\n"
     ]
    }
   ],
   "source": [
    "array = [3,4,5,6,7,8,9]\n",
    "x = 4\n",
    "result = binarySearch(array, 0, len(array)-1, x)\n",
    "if(result == -1):\n",
    "    print(\"Element not found\")\n",
    "else:\n",
    "    print(\"Element found at index: \", result)"
   ]
  },
  {
   "cell_type": "markdown",
   "id": "ef886328",
   "metadata": {},
   "source": [
    "## Binary Search - Time Complexity O(log n)\n",
    "- Best time complexity: O(1)\n",
    "- Average time complexity: O(log n)\n",
    "- Worst time complexity: O(log n)\n",
    "- In each iteration, the search space is getting divided by 2. That means that in the current iteration you have to deal with half of the previous iteration array. And above steps continue till beg<end.\n",
    "- Best case could be the case where the first mid-value get matched to the element to be searched.\n",
    "- Worst case could be the case where the last mid-value get matched to the element to be searched.\n",
    "\n",
    "## Binary Search - Space Complexity O(1)\n",
    "- No auxiliary space is required in binary search implementation.\n",
    "- Hence space complexity is O(1).\n"
   ]
  },
  {
   "cell_type": "markdown",
   "id": "eec1158b",
   "metadata": {},
   "source": [
    "## What is insertion sort\n",
    "- It is one of the easiest and brute force sorting algorithms\n",
    "- Insertion sort is used to sort elements in either ascending or descending order\n",
    "- In insersion sort, we maintain a sorted part and unsorted part\n",
    "- It works just like playing cards i.e. picking one card and sorting it with the cards that we have in our hand already which in turn are sorted\n",
    "- With every iteration, one item from unsorted is moved to the sorted part\n",
    "- First element is picked and considered  as sorted\n",
    "- Then we start picking from 2nd elements onwards and start comparing it with elements in sorted part.\n",
    "- We shift the elements from sorted by one element until an appropriate location is not found for the picked element\n",
    "- This continues till all the elements get exhausted.\n"
   ]
  },
  {
   "cell_type": "code",
   "execution_count": 140,
   "id": "77b15b0c",
   "metadata": {},
   "outputs": [],
   "source": [
    "# Insertion sort using Python\n",
    "def insersion_sort(array):\n",
    "    for step in range(1, len(array)):\n",
    "        key = array[step]\n",
    "        j = step - 1\n",
    "        while j >= 0 and key < array[j]:\n",
    "            array[j + 1] = array[j]\n",
    "            j = j - 1\n",
    "        array[j + 1] = key\n",
    "    return array"
   ]
  },
  {
   "cell_type": "code",
   "execution_count": 142,
   "id": "396fa845",
   "metadata": {},
   "outputs": [
    {
     "name": "stdout",
     "output_type": "stream",
     "text": [
      "Sorted data: [1, 2, 5, 7, 8]\n"
     ]
    }
   ],
   "source": [
    "data = [5,2,1,7,8]\n",
    "insersion_sort(data)\n",
    "print(f\"Sorted data: {data}\")"
   ]
  },
  {
   "cell_type": "markdown",
   "id": "488bd65d",
   "metadata": {},
   "source": [
    "### Insertion sort - Time Complexity\n",
    "- In the worst case, it will take n to pick all elements and then at max n shifts to set it to the right position\n",
    "- In best case that is sorted array we will just poick the elements but no shifting will take place leading it to n time complexity that is every element is traversed at least once\n",
    "- Best Time complexity: O(n)\n",
    "- Average Time complexity: O(n^2)\n",
    "- Worst Time complexity: O(n^2)\n",
    "\n",
    "### Insertion sort - Space Complexity\n",
    "- No auxilary space is required in insertion sort implementation that is we are not using any arrays, linked list, stack, queue etc to store our elements\n",
    "- Space Complexity: O(1)\n",
    "\n",
    "### Insertion sort - Analysis\n",
    "- Number of comparisons: O(n^2)\n",
    "- Number of Swaps\n",
    "- Stable or Unstable\n",
    "- Inplace or Outplace"
   ]
  },
  {
   "cell_type": "markdown",
   "id": "2d3f9d6a",
   "metadata": {},
   "source": [
    "## Quick sort\n",
    "- It is one of the most widely used sorting algorithm\n",
    "- It follows divide and conquer algorithm\n",
    "- Recursion is used in quicksort implementation\n",
    "- In each recursive call, a pivot is chosen then the array is partitioned in such a way that all the elements less than pivot lie to the left and all the elements greater than pivot lie to the right\n",
    "- After every call the chosen pivot occupies its correct position in the array which is supposed to be in sorted order\n",
    "- So with each step, our problem gets reduced by 2 which leads to quick sorting\n",
    "- Pivot can be last element of current array, first element of current array or any random element\n"
   ]
  },
  {
   "cell_type": "code",
   "execution_count": null,
   "id": "8d826769",
   "metadata": {},
   "outputs": [],
   "source": [
    "## Quick sort using python\n",
    "def partition(array, low, high):\n",
    "    pivot = array[high]\n",
    "    i = low - 1\n",
    "    for j in range(low, high):\n",
    "        if array[j] <= pivot:\n",
    "            i = i + 1\n",
    "            (array[i], array[j]) = (array[j], array[i])\n",
    "    (array[i + 1], array[high]) = (array[high], array[i + 1])\n",
    "    return i + 1\n",
    "\n",
    "## Quick sort function\n",
    "def quick_sort(array, low, high):\n",
    "    if low < high:\n",
    "        pi = partition(array, low, high)\n",
    "        quick_sort(array, low, pi - 1)\n",
    "        quick_sort(array, pi + 1, high)\n",
    "    return array"
   ]
  },
  {
   "cell_type": "code",
   "execution_count": null,
   "id": "af50480b",
   "metadata": {},
   "outputs": [],
   "source": [
    "d = [9,8,7,2,10,20,1]\n",
    "print(\"Unsorted data: \", d)\n",
    "size = len(d)\n",
    "d = quick_sort(d, 0, size - 1)\n",
    "print(\"Sorted data: \", d)"
   ]
  },
  {
   "cell_type": "markdown",
   "id": "d2df4cd2",
   "metadata": {},
   "source": [
    "### Quick Sort - Time Complexity\n",
    "- Best Case: O(nlogn)\n",
    "- Average Case: O(nlogn)\n",
    "- Worst Case: O(n^2)    \n",
    "- Partition of elements take n time and in quicksort problem is divide by the factor 2\n",
    "\n",
    "### Quick Sort - Space Complexity\n",
    "- O(n): basic approach\n",
    "- O(logn): modified approach\n",
    "\n",
    "### Quick Sort - Stability\n",
    "- It is unstable algorithm\n",
    "### Quick Sort - In Place\n",
    "- Yes   "
   ]
  },
  {
   "cell_type": "markdown",
   "id": "4e556119",
   "metadata": {},
   "source": [
    "## What is Merge Sort\n",
    "- In merge sort problem is divided into two sub problmes in every iteration.\n",
    "- Hence efficiency is increased drastically\n",
    "- I follows divide and conquer approach\n",
    "- Divide break the problem in two sub problems which continues until problem set is left with one element only\n",
    "- Conquer basically merges the 2 sorted array into the original array\n"
   ]
  },
  {
   "cell_type": "code",
   "execution_count": null,
   "id": "124c9b9d",
   "metadata": {},
   "outputs": [],
   "source": [
    "### Merge sort -Algorithm\n",
    "# mergseSort(arr, left, right)\n",
    "#     if left>= right\n",
    "#         return\n",
    "#     mid = (left + right) / 2\n",
    "#     mergeSort(arr, left, mid)\n",
    "#     mergeSort(arr, mid + 1, right)\n",
    "#     merge(arr, left, mid, right)\n",
    "# end"
   ]
  },
  {
   "cell_type": "markdown",
   "id": "94c861cf",
   "metadata": {},
   "source": [
    "### Merge - Algorithm\n",
    "-  Create 2 subarrays left and right\n",
    "- Create 3 iterators i, j, k    \n",
    "- Insert elements in lft and right (i& j)\n",
    "- k - Replace the values in the original array\n",
    "- Pick the larger elements from left and right and place them in the correct position\n",
    "- If there are no elements in either left or right, pick up the remaining elements either from left or right and insert in original array\n"
   ]
  },
  {
   "cell_type": "code",
   "execution_count": 146,
   "id": "b7d08f9c",
   "metadata": {},
   "outputs": [],
   "source": [
    "def merge_sort(arr):\n",
    "    if len(arr) > 1:\n",
    "        mid = len(arr) // 2\n",
    "        left_arr = arr[:mid]\n",
    "        right_arr = arr[mid:]\n",
    "\n",
    "        # Recursive call on each half\n",
    "        merge_sort(left_arr)\n",
    "        merge_sort(right_arr)\n",
    "\n",
    "        # Two iterators for traversing the two halves\n",
    "        i = j = k = 0\n",
    "\n",
    "        # Compare elements of left and right halves\n",
    "        while i < len(left_arr) and j < len(right_arr):\n",
    "            if left_arr[i] < right_arr[j]:\n",
    "                arr[k] = left_arr[i]\n",
    "                i += 1\n",
    "            else:\n",
    "                arr[k] = right_arr[j]\n",
    "                j += 1\n",
    "            k += 1\n",
    "\n",
    "        # Checking if any element was left\n",
    "        while i < len(left_arr):\n",
    "            arr[k] = left_arr[i]\n",
    "            i += 1\n",
    "            k += 1\n",
    "\n",
    "        while j < len(right_arr):\n",
    "            arr[k] = right_arr[j]\n",
    "            j += 1\n",
    "            k += 1  \n",
    "            \n",
    "def printList(arr):\n",
    "    for i in range(len(arr)):\n",
    "        print(arr[i], end=\" \")\n",
    "    print()\n"
   ]
  },
  {
   "cell_type": "code",
   "execution_count": 147,
   "id": "63429f5d",
   "metadata": {},
   "outputs": [
    {
     "name": "stdout",
     "output_type": "stream",
     "text": [
      "Sorted array is:  [2, 9, 11, 18, 22, 33, 34, 88]\n"
     ]
    }
   ],
   "source": [
    "if __name__ == '__main__':\n",
    "    arr = [11,34,2,18,33,22,88,9]\n",
    "    merge_sort(arr)\n",
    "    print(\"Sorted array is: \", arr)"
   ]
  },
  {
   "cell_type": "markdown",
   "id": "78f0f948",
   "metadata": {},
   "source": [
    "# Python For Machine Learning\n",
    "- Numpy\n",
    "- Pandas\n",
    "- Matplot Lib\n",
    "- Seaborn"
   ]
  },
  {
   "cell_type": "markdown",
   "id": "07f267c0",
   "metadata": {},
   "source": [
    "### Numpy\n",
    "- Numpy stands for Numerical python and is the core library for numeric and scientific computing\n",
    "- It consists of multi-dimensional array objects and a collection of routines for processing those arrays"
   ]
  },
  {
   "cell_type": "code",
   "execution_count": 149,
   "id": "6ae66634",
   "metadata": {},
   "outputs": [
    {
     "data": {
      "text/plain": [
       "array([10, 22, 38, 27, 11])"
      ]
     },
     "execution_count": 149,
     "metadata": {},
     "output_type": "execute_result"
    }
   ],
   "source": [
    "import numpy as np\n",
    "\n",
    "arr = np.array([10, 22, 38, 27, 11])\n",
    "arr"
   ]
  },
  {
   "cell_type": "code",
   "execution_count": 152,
   "id": "5cac0e7b",
   "metadata": {},
   "outputs": [
    {
     "data": {
      "text/plain": [
       "numpy.ndarray"
      ]
     },
     "execution_count": 152,
     "metadata": {},
     "output_type": "execute_result"
    }
   ],
   "source": [
    "type(arr)"
   ]
  },
  {
   "cell_type": "code",
   "execution_count": 159,
   "id": "de37cab4",
   "metadata": {},
   "outputs": [
    {
     "data": {
      "text/plain": [
       "array([[1, 2, 3],\n",
       "       [4, 5, 6]])"
      ]
     },
     "execution_count": 159,
     "metadata": {},
     "output_type": "execute_result"
    }
   ],
   "source": [
    "# Multi-dimensional\n",
    "n1 = np.array([[1, 2, 3], [4, 5, 6]])\n",
    "n1"
   ]
  },
  {
   "cell_type": "code",
   "execution_count": 160,
   "id": "edace03d",
   "metadata": {},
   "outputs": [
    {
     "data": {
      "text/plain": [
       "array([[0., 0., 0., 0., 0.],\n",
       "       [0., 0., 0., 0., 0.],\n",
       "       [0., 0., 0., 0., 0.],\n",
       "       [0., 0., 0., 0., 0.],\n",
       "       [0., 0., 0., 0., 0.]])"
      ]
     },
     "execution_count": 160,
     "metadata": {},
     "output_type": "execute_result"
    }
   ],
   "source": [
    "# Numpy array with zeros\n",
    "n2 = np.zeros((5,5))\n",
    "n2"
   ]
  },
  {
   "cell_type": "code",
   "execution_count": 161,
   "id": "3878174e",
   "metadata": {},
   "outputs": [
    {
     "data": {
      "text/plain": [
       "array([[0., 0.]])"
      ]
     },
     "execution_count": 161,
     "metadata": {},
     "output_type": "execute_result"
    }
   ],
   "source": [
    "n3 = np.zeros((1,2))\n",
    "n3"
   ]
  },
  {
   "cell_type": "code",
   "execution_count": 197,
   "id": "fbb9ec6d",
   "metadata": {},
   "outputs": [
    {
     "data": {
      "text/plain": [
       "array([[1., 1.],\n",
       "       [1., 1.],\n",
       "       [1., 1.]])"
      ]
     },
     "execution_count": 197,
     "metadata": {},
     "output_type": "execute_result"
    }
   ],
   "source": [
    "# Numpy with onces\n",
    "n3= np.ones((3,2))\n",
    "n3"
   ]
  },
  {
   "cell_type": "code",
   "execution_count": 162,
   "id": "65a67a41",
   "metadata": {},
   "outputs": [
    {
     "data": {
      "text/plain": [
       "array([[10, 10],\n",
       "       [10, 10]])"
      ]
     },
     "execution_count": 162,
     "metadata": {},
     "output_type": "execute_result"
    }
   ],
   "source": [
    "# Numpy array with same number\n",
    "n4 = np.full((2,2),10)\n",
    "n4"
   ]
  },
  {
   "cell_type": "code",
   "execution_count": 163,
   "id": "6d4a064e",
   "metadata": {},
   "outputs": [
    {
     "data": {
      "text/plain": [
       "array([11, 12, 13, 14, 15, 16, 17, 18, 19, 20])"
      ]
     },
     "execution_count": 163,
     "metadata": {},
     "output_type": "execute_result"
    }
   ],
   "source": [
    "# Numpy array within a range\n",
    "n5 = np.arange(11, 21)\n",
    "n5"
   ]
  },
  {
   "cell_type": "code",
   "execution_count": 165,
   "id": "836c5a5b",
   "metadata": {},
   "outputs": [
    {
     "data": {
      "text/plain": [
       "array([10, 15, 20, 25, 30, 35, 40, 45])"
      ]
     },
     "execution_count": 165,
     "metadata": {},
     "output_type": "execute_result"
    }
   ],
   "source": [
    "n6 = np.arange(10,50,5)\n",
    "n6"
   ]
  },
  {
   "cell_type": "code",
   "execution_count": 167,
   "id": "fae46080",
   "metadata": {},
   "outputs": [
    {
     "data": {
      "text/plain": [
       "array([50, 45, 40, 35, 30, 25, 20, 15])"
      ]
     },
     "execution_count": 167,
     "metadata": {},
     "output_type": "execute_result"
    }
   ],
   "source": [
    "n7 = np.arange(50,10,-5)\n",
    "n7"
   ]
  },
  {
   "cell_type": "code",
   "execution_count": 183,
   "id": "9f9519f1",
   "metadata": {},
   "outputs": [
    {
     "data": {
      "text/plain": [
       "array([15,  5, 69, 63, 61])"
      ]
     },
     "execution_count": 183,
     "metadata": {},
     "output_type": "execute_result"
    }
   ],
   "source": [
    "# Numpy with random numbers\n",
    "n8 = np.random.randint(1, 100, 5)\n",
    "n8"
   ]
  },
  {
   "cell_type": "code",
   "execution_count": 185,
   "id": "7774c1f4",
   "metadata": {},
   "outputs": [
    {
     "data": {
      "text/plain": [
       "array([-81, -45, -32, -90, -56])"
      ]
     },
     "execution_count": 185,
     "metadata": {},
     "output_type": "execute_result"
    }
   ],
   "source": [
    "# Numpy with random numbers\n",
    "n9 = np.random.randint(-100, -1, 5)\n",
    "n9"
   ]
  },
  {
   "cell_type": "code",
   "execution_count": 187,
   "id": "f2827088",
   "metadata": {},
   "outputs": [
    {
     "data": {
      "text/plain": [
       "(2, 3)"
      ]
     },
     "execution_count": 187,
     "metadata": {},
     "output_type": "execute_result"
    }
   ],
   "source": [
    "# Numpy shape\n",
    "n10 = np.array([[1, 2, 3], [4, 5, 6]])\n",
    "n10.shape"
   ]
  },
  {
   "cell_type": "code",
   "execution_count": 190,
   "id": "593fb3a9",
   "metadata": {},
   "outputs": [
    {
     "data": {
      "text/plain": [
       "array([[1, 2],\n",
       "       [3, 4],\n",
       "       [5, 6]])"
      ]
     },
     "execution_count": 190,
     "metadata": {},
     "output_type": "execute_result"
    }
   ],
   "source": [
    "# Numpy shape change\n",
    "n10.shape = (3,2)\n",
    "n10"
   ]
  },
  {
   "cell_type": "code",
   "execution_count": 191,
   "id": "05ba2360",
   "metadata": {},
   "outputs": [
    {
     "data": {
      "text/plain": [
       "array([[1, 2, 3],\n",
       "       [4, 5, 6]])"
      ]
     },
     "execution_count": 191,
     "metadata": {},
     "output_type": "execute_result"
    }
   ],
   "source": [
    "# vstack()\n",
    "n1 = np.array([1, 2, 3])\n",
    "n2 = np.array([4, 5, 6])\n",
    "np.vstack((n1, n2))"
   ]
  },
  {
   "cell_type": "code",
   "execution_count": 198,
   "id": "9df8ceb4",
   "metadata": {},
   "outputs": [
    {
     "data": {
      "text/plain": [
       "array([[1, 2, 3],\n",
       "       [4, 5, 6],\n",
       "       [1, 2, 3]])"
      ]
     },
     "execution_count": 198,
     "metadata": {},
     "output_type": "execute_result"
    }
   ],
   "source": [
    "# vstack()\n",
    "n1 = np.array([1, 2, 3])\n",
    "n2 = np.array([4, 5, 6])\n",
    "n3 = np.array([1, 2, 3])\n",
    "np.vstack((n1, n2, n3))"
   ]
  },
  {
   "cell_type": "code",
   "execution_count": 193,
   "id": "8f371947",
   "metadata": {},
   "outputs": [
    {
     "data": {
      "text/plain": [
       "array([1, 2, 3, 4, 5, 6])"
      ]
     },
     "execution_count": 193,
     "metadata": {},
     "output_type": "execute_result"
    }
   ],
   "source": [
    "# hstack()\n",
    "n1 = np.array([1, 2, 3])\n",
    "n2 = np.array([4, 5, 6])\n",
    "np.hstack((n1, n2))"
   ]
  },
  {
   "cell_type": "code",
   "execution_count": 199,
   "id": "01e4b0cf",
   "metadata": {},
   "outputs": [
    {
     "data": {
      "text/plain": [
       "array([1, 2, 3, 4, 5, 6, 4])"
      ]
     },
     "execution_count": 199,
     "metadata": {},
     "output_type": "execute_result"
    }
   ],
   "source": [
    "# hstack()\n",
    "n1 = np.array([1, 2, 3])\n",
    "n2 = np.array([4, 5, 6])\n",
    "n3 = np.array([4])\n",
    "np.hstack((n1, n2, n3))"
   ]
  },
  {
   "cell_type": "code",
   "execution_count": 195,
   "id": "89c2ce54",
   "metadata": {},
   "outputs": [
    {
     "data": {
      "text/plain": [
       "array([[1, 4],\n",
       "       [2, 5],\n",
       "       [3, 6]])"
      ]
     },
     "execution_count": 195,
     "metadata": {},
     "output_type": "execute_result"
    }
   ],
   "source": [
    "# column_stack()\n",
    "n1 = np.array([1, 2, 3])\n",
    "n2 = np.array([4, 5, 6])\n",
    "np.column_stack((n1, n2))"
   ]
  },
  {
   "cell_type": "code",
   "execution_count": 204,
   "id": "61b341be",
   "metadata": {},
   "outputs": [
    {
     "data": {
      "text/plain": [
       "array([50, 60])"
      ]
     },
     "execution_count": 204,
     "metadata": {},
     "output_type": "execute_result"
    }
   ],
   "source": [
    "# Numpy intersection\n",
    "n1 = np.arange(10, 61, 10)\n",
    "n2 = np.arange(50, 91, 10)\n",
    "np.intersect1d(n1, n2)"
   ]
  },
  {
   "cell_type": "code",
   "execution_count": 205,
   "id": "e22df5cd",
   "metadata": {},
   "outputs": [
    {
     "data": {
      "text/plain": [
       "array([10, 20, 30, 40])"
      ]
     },
     "execution_count": 205,
     "metadata": {},
     "output_type": "execute_result"
    }
   ],
   "source": [
    "# Numpy unique in one array with respect to other array\n",
    "n1 = np.arange(10, 61, 10)\n",
    "n2 = np.arange(50, 91, 10)\n",
    "np.setdiff1d(n1, n2)"
   ]
  },
  {
   "cell_type": "code",
   "execution_count": 206,
   "id": "bd713802",
   "metadata": {},
   "outputs": [
    {
     "data": {
      "text/plain": [
       "array([70, 80, 90])"
      ]
     },
     "execution_count": 206,
     "metadata": {},
     "output_type": "execute_result"
    }
   ],
   "source": [
    "# Numpy unique in one array with respect to other array\n",
    "n1 = np.arange(10, 61, 10)\n",
    "n2 = np.arange(50, 91, 10)\n",
    "np.setdiff1d(n2, n1)"
   ]
  },
  {
   "cell_type": "code",
   "execution_count": 221,
   "id": "e18ebf11",
   "metadata": {},
   "outputs": [
    {
     "data": {
      "text/plain": [
       "np.int64(21)"
      ]
     },
     "execution_count": 221,
     "metadata": {},
     "output_type": "execute_result"
    }
   ],
   "source": [
    "# Numpy Array Mathematics: total addition of all numbers\n",
    "n1 = np.array([1, 2, 3])\n",
    "n2 = np.array([4, 5, 6])\n",
    "n3 = np.sum([n1, n2])\n",
    "n3"
   ]
  },
  {
   "cell_type": "code",
   "execution_count": 208,
   "id": "1af4fa95",
   "metadata": {},
   "outputs": [
    {
     "data": {
      "text/plain": [
       "array([5, 7, 9])"
      ]
     },
     "execution_count": 208,
     "metadata": {},
     "output_type": "execute_result"
    }
   ],
   "source": [
    "# Numpy Array Mathematics: addition of all columns\n",
    "n1 = np.array([1, 2, 3])\n",
    "n2 = np.array([4, 5, 6])\n",
    "np.sum([n1, n2], axis =0)"
   ]
  },
  {
   "cell_type": "code",
   "execution_count": 209,
   "id": "37826b37",
   "metadata": {},
   "outputs": [
    {
     "data": {
      "text/plain": [
       "array([ 6, 15])"
      ]
     },
     "execution_count": 209,
     "metadata": {},
     "output_type": "execute_result"
    }
   ],
   "source": [
    "# Numpy Array Mathematics: addition of all rows\n",
    "n1 = np.array([1, 2, 3])\n",
    "n2 = np.array([4, 5, 6])\n",
    "np.sum([n1, n2], axis =1)"
   ]
  },
  {
   "cell_type": "code",
   "execution_count": 210,
   "id": "88a5ca42",
   "metadata": {},
   "outputs": [
    {
     "data": {
      "text/plain": [
       "array([2, 3, 4])"
      ]
     },
     "execution_count": 210,
     "metadata": {},
     "output_type": "execute_result"
    }
   ],
   "source": [
    "# Numpy scaler Operations\n",
    "# Addition\n",
    "n1 = np.array([1, 2, 3])\n",
    "n1+1"
   ]
  },
  {
   "cell_type": "code",
   "execution_count": 211,
   "id": "d97f9581",
   "metadata": {},
   "outputs": [
    {
     "data": {
      "text/plain": [
       "array([0, 1, 2])"
      ]
     },
     "execution_count": 211,
     "metadata": {},
     "output_type": "execute_result"
    }
   ],
   "source": [
    "# Subtraction\n",
    "n1 = np.array([1, 2, 3])\n",
    "n1-1"
   ]
  },
  {
   "cell_type": "code",
   "execution_count": 213,
   "id": "9070bc2e",
   "metadata": {},
   "outputs": [
    {
     "name": "stdout",
     "output_type": "stream",
     "text": [
      "[2 4 6]\n",
      "[1 2 3]\n"
     ]
    }
   ],
   "source": [
    "# Multiplication\n",
    "n1 = np.array([1, 2, 3])\n",
    "print(n1 * 2)\n",
    "print(n1)"
   ]
  },
  {
   "cell_type": "code",
   "execution_count": 214,
   "id": "2ac5c5a4",
   "metadata": {},
   "outputs": [
    {
     "data": {
      "text/plain": [
       "array([0.5, 1. , 1.5])"
      ]
     },
     "execution_count": 214,
     "metadata": {},
     "output_type": "execute_result"
    }
   ],
   "source": [
    "# Division\n",
    "n1 = np.array([1, 2, 3])\n",
    "n1/2"
   ]
  },
  {
   "cell_type": "code",
   "execution_count": 220,
   "id": "f2f34e1d",
   "metadata": {
    "scrolled": false
   },
   "outputs": [
    {
     "name": "stdout",
     "output_type": "stream",
     "text": [
      "Mean is : 48.875\n",
      "median is : 50.0\n",
      "Standard deviation is : 24.17352632530058\n"
     ]
    }
   ],
   "source": [
    "# Mathematical functions\n",
    "n1 = np.array([10,22,37,41,59,63,74,85])\n",
    "print(f\"Mean is : {np.mean(n1)}\")\n",
    "print(f\"median is : {np.median(n1)}\")\n",
    "print(f\"Standard deviation is : {np.std(n1)}\")"
   ]
  },
  {
   "cell_type": "code",
   "execution_count": 223,
   "id": "042d712f",
   "metadata": {},
   "outputs": [
    {
     "data": {
      "text/plain": [
       "array([[1, 2, 3],\n",
       "       [4, 5, 6],\n",
       "       [7, 8, 9]])"
      ]
     },
     "execution_count": 223,
     "metadata": {},
     "output_type": "execute_result"
    }
   ],
   "source": [
    "# Numpy Matrix\n",
    "n1 = np.array([[1, 2, 3], [4, 5, 6], [7, 8, 9]])\n",
    "n1"
   ]
  },
  {
   "cell_type": "code",
   "execution_count": 224,
   "id": "1a874aad",
   "metadata": {},
   "outputs": [
    {
     "name": "stdout",
     "output_type": "stream",
     "text": [
      "[1 2 3]\n",
      "[4 5 6]\n",
      "[7 8 9]\n"
     ]
    }
   ],
   "source": [
    "# rows\n",
    "print(n1[0])\n",
    "print(n1[1])\n",
    "print(n1[2])"
   ]
  },
  {
   "cell_type": "code",
   "execution_count": 225,
   "id": "0d892e27",
   "metadata": {},
   "outputs": [
    {
     "name": "stdout",
     "output_type": "stream",
     "text": [
      "[1 4 7]\n",
      "[2 5 8]\n",
      "[3 6 9]\n"
     ]
    }
   ],
   "source": [
    "# columns\n",
    "print(n1[:, 0])\n",
    "print(n1[:, 1])\n",
    "print(n1[:, 2])"
   ]
  },
  {
   "cell_type": "code",
   "execution_count": 229,
   "id": "2401eb6d",
   "metadata": {},
   "outputs": [
    {
     "name": "stdout",
     "output_type": "stream",
     "text": [
      "Original matrix is [[1 2 3]\n",
      " [4 5 6]\n",
      " [7 8 9]]\n",
      "Transposed matrix is [[1 4 7]\n",
      " [2 5 8]\n",
      " [3 6 9]]\n"
     ]
    }
   ],
   "source": [
    "# Matrix Transpose: Interchanging rows and columns\n",
    "print(f\"Original matrix is {n1}\")\n",
    "print(f\"Transposed matrix is {n1.transpose()}\")"
   ]
  },
  {
   "cell_type": "code",
   "execution_count": 231,
   "id": "030b67f2",
   "metadata": {},
   "outputs": [
    {
     "name": "stdout",
     "output_type": "stream",
     "text": [
      "np.dot(n1, n2) : [[ 30  23  19]\n",
      " [ 84  65  58]\n",
      " [138 107  97]]\n",
      "np.dot(n2, n1) : [[ 30  23  19]\n",
      " [ 84  65  58]\n",
      " [138 107  97]]\n",
      "n1.dot(n2) : [[ 30  23  19]\n",
      " [ 84  65  58]\n",
      " [138 107  97]]\n",
      "n2.dot(n1) : [[ 93 117 141]\n",
      " [ 54  69  84]\n",
      " [ 18  24  30]]\n"
     ]
    }
   ],
   "source": [
    "# Matrix Multiplication:\n",
    "n1 = np.array([[1, 2, 3], [4, 5, 6], [7, 8, 9]])\n",
    "n2 = np.array([[9,7,8], [6,5,4], [3,2,1]])\n",
    "n3 = np.dot(n1, n2)\n",
    "n4 = np.dot(n2, n1)\n",
    "print(f\"np.dot(n1, n2) : {n3}\")\n",
    "print(f\"np.dot(n2, n1) : {n3}\")\n",
    "n5 = n1.dot(n2)\n",
    "n6 = n2.dot(n1)\n",
    "print(f\"n1.dot(n2) : {n5}\")\n",
    "print(f\"n2.dot(n1) : {n6}\")"
   ]
  },
  {
   "cell_type": "code",
   "execution_count": 232,
   "id": "3800d06b",
   "metadata": {},
   "outputs": [
    {
     "data": {
      "text/plain": [
       "array([[1, 2, 3],\n",
       "       [4, 5, 6],\n",
       "       [7, 8, 9]])"
      ]
     },
     "execution_count": 232,
     "metadata": {},
     "output_type": "execute_result"
    }
   ],
   "source": [
    "# Saving and loading numpy array\n",
    "n1 = np.array([[1, 2, 3], [4, 5, 6], [7, 8, 9]])\n",
    "np.save('test.npy', n1)\n",
    "n2 = np.load('test.npy')\n",
    "n2"
   ]
  },
  {
   "cell_type": "markdown",
   "id": "506b6758",
   "metadata": {},
   "source": [
    "# Pandas\n",
    "- Pandas stand for panel data and is the core library for data manipulation and data analysis\n",
    "- It consist of single and multi dimentional data structures for data manipulation\n",
    "- Series Object: One-dimensional labeled array\n",
    "- Data-frame: Multi-dimensional labeled array"
   ]
  },
  {
   "cell_type": "code",
   "execution_count": 4,
   "id": "765bb0cb",
   "metadata": {},
   "outputs": [],
   "source": [
    "import pandas as pd"
   ]
  },
  {
   "cell_type": "code",
   "execution_count": 4,
   "id": "df663cd3",
   "metadata": {},
   "outputs": [
    {
     "data": {
      "text/plain": [
       "0    1\n",
       "1    2\n",
       "2    3\n",
       "3    4\n",
       "4    5\n",
       "dtype: int64"
      ]
     },
     "execution_count": 4,
     "metadata": {},
     "output_type": "execute_result"
    }
   ],
   "source": [
    "# Series Object: One-dimensional labeled array\n",
    "s1 = pd.Series([1, 2, 3, 4, 5])\n",
    "s1"
   ]
  },
  {
   "cell_type": "code",
   "execution_count": 5,
   "id": "f7dfcccf",
   "metadata": {},
   "outputs": [
    {
     "data": {
      "text/plain": [
       "pandas.core.series.Series"
      ]
     },
     "execution_count": 5,
     "metadata": {},
     "output_type": "execute_result"
    }
   ],
   "source": [
    "type(s1)"
   ]
  },
  {
   "cell_type": "code",
   "execution_count": 7,
   "id": "bf29fd60",
   "metadata": {},
   "outputs": [
    {
     "data": {
      "text/plain": [
       "a    1\n",
       "b    2\n",
       "c    3\n",
       "d    4\n",
       "e    5\n",
       "dtype: int64"
      ]
     },
     "execution_count": 7,
     "metadata": {},
     "output_type": "execute_result"
    }
   ],
   "source": [
    "# Changing index\n",
    "s1= pd.Series([1, 2, 3, 4, 5], index = [\"a\", \"b\", \"c\", \"d\", \"e\"])\n",
    "s1"
   ]
  },
  {
   "cell_type": "code",
   "execution_count": 8,
   "id": "dd1cef2b",
   "metadata": {},
   "outputs": [
    {
     "data": {
      "text/plain": [
       "a    1\n",
       "b    2\n",
       "c    3\n",
       "d    4\n",
       "e    5\n",
       "dtype: int64"
      ]
     },
     "execution_count": 8,
     "metadata": {},
     "output_type": "execute_result"
    }
   ],
   "source": [
    "# Series object from dictionary\n",
    "d1= {\"a\": 1, \"b\": 2, \"c\": 3, \"d\": 4, \"e\": 5}\n",
    "s2 = pd.Series(d1)\n",
    "s2"
   ]
  },
  {
   "cell_type": "code",
   "execution_count": 11,
   "id": "5cfa47d7",
   "metadata": {},
   "outputs": [
    {
     "data": {
      "text/plain": [
       "b    2\n",
       "e    5\n",
       "c    3\n",
       "a    1\n",
       "d    4\n",
       "dtype: int64"
      ]
     },
     "execution_count": 11,
     "metadata": {},
     "output_type": "execute_result"
    }
   ],
   "source": [
    "# Change index positions\n",
    "d1= {\"a\": 1, \"b\": 2, \"c\": 3, \"d\": 4, \"e\": 5}\n",
    "s2 = pd.Series(d1, index=[\"b\", \"e\",  \"c\", \"a\", \"d\"])\n",
    "s2"
   ]
  },
  {
   "cell_type": "code",
   "execution_count": 14,
   "id": "21c4a46e",
   "metadata": {},
   "outputs": [
    {
     "data": {
      "text/plain": [
       "np.int64(4)"
      ]
     },
     "execution_count": 14,
     "metadata": {},
     "output_type": "execute_result"
    }
   ],
   "source": [
    "# Pandas extracting induvidual elements\n",
    "s1 = pd.Series([1, 2, 3, 4, 5, 6, 7])\n",
    "# Exctracting element at index 3\n",
    "s1[3]"
   ]
  },
  {
   "cell_type": "code",
   "execution_count": 16,
   "id": "0adf337b",
   "metadata": {},
   "outputs": [
    {
     "data": {
      "text/plain": [
       "0    1\n",
       "1    2\n",
       "2    3\n",
       "3    4\n",
       "dtype: int64"
      ]
     },
     "execution_count": 16,
     "metadata": {},
     "output_type": "execute_result"
    }
   ],
   "source": [
    "# Extracting elemenst till index 4\n",
    "s1[:4]"
   ]
  },
  {
   "cell_type": "code",
   "execution_count": 17,
   "id": "4e72d6c8",
   "metadata": {},
   "outputs": [
    {
     "data": {
      "text/plain": [
       "3    4\n",
       "4    5\n",
       "5    6\n",
       "6    7\n",
       "dtype: int64"
      ]
     },
     "execution_count": 17,
     "metadata": {},
     "output_type": "execute_result"
    }
   ],
   "source": [
    "# Extracting elemenst from index 4 till last\n",
    "s1[3:]"
   ]
  },
  {
   "cell_type": "code",
   "execution_count": 18,
   "id": "c0e2dd92",
   "metadata": {},
   "outputs": [
    {
     "data": {
      "text/plain": [
       "4    5\n",
       "5    6\n",
       "6    7\n",
       "dtype: int64"
      ]
     },
     "execution_count": 18,
     "metadata": {},
     "output_type": "execute_result"
    }
   ],
   "source": [
    "# Extracting last 3elemenst\n",
    "s1[-3:]"
   ]
  },
  {
   "cell_type": "code",
   "execution_count": 19,
   "id": "61c94ab0",
   "metadata": {},
   "outputs": [
    {
     "data": {
      "text/plain": [
       "0     6\n",
       "1     7\n",
       "2     8\n",
       "3     9\n",
       "4    10\n",
       "5    11\n",
       "6    12\n",
       "dtype: int64"
      ]
     },
     "execution_count": 19,
     "metadata": {},
     "output_type": "execute_result"
    }
   ],
   "source": [
    "# Basic math operation on Series\n",
    "s1 = pd.Series([1, 2, 3, 4, 5, 6, 7])\n",
    "s1 + 5"
   ]
  },
  {
   "cell_type": "code",
   "execution_count": 21,
   "id": "452a05b8",
   "metadata": {},
   "outputs": [
    {
     "data": {
      "text/plain": [
       "0     1\n",
       "1     3\n",
       "2     5\n",
       "3     7\n",
       "4     9\n",
       "5    11\n",
       "6    13\n",
       "dtype: int64"
      ]
     },
     "execution_count": 21,
     "metadata": {},
     "output_type": "execute_result"
    }
   ],
   "source": [
    "s1 = pd.Series([1, 2, 3, 4, 5, 6, 7])\n",
    "s2 = pd.Series([0, 1, 2, 3, 4, 5, 6])\n",
    "s1 + s2"
   ]
  },
  {
   "cell_type": "markdown",
   "id": "579a3764",
   "metadata": {},
   "source": [
    "## Pandas Dataframe\n",
    "- Dataframe is a 2-dimentional labelled data-structure\n",
    "- A dataframe is a collection of series (A data-frame comprises of rows and columns)"
   ]
  },
  {
   "cell_type": "code",
   "execution_count": 22,
   "id": "6fa36761",
   "metadata": {},
   "outputs": [
    {
     "data": {
      "text/html": [
       "<div>\n",
       "<style scoped>\n",
       "    .dataframe tbody tr th:only-of-type {\n",
       "        vertical-align: middle;\n",
       "    }\n",
       "\n",
       "    .dataframe tbody tr th {\n",
       "        vertical-align: top;\n",
       "    }\n",
       "\n",
       "    .dataframe thead th {\n",
       "        text-align: right;\n",
       "    }\n",
       "</style>\n",
       "<table border=\"1\" class=\"dataframe\">\n",
       "  <thead>\n",
       "    <tr style=\"text-align: right;\">\n",
       "      <th></th>\n",
       "      <th>Name</th>\n",
       "      <th>Marks</th>\n",
       "      <th>Age</th>\n",
       "    </tr>\n",
       "  </thead>\n",
       "  <tbody>\n",
       "    <tr>\n",
       "      <th>0</th>\n",
       "      <td>Meera</td>\n",
       "      <td>7</td>\n",
       "      <td>7</td>\n",
       "    </tr>\n",
       "    <tr>\n",
       "      <th>1</th>\n",
       "      <td>Mirukali</td>\n",
       "      <td>5</td>\n",
       "      <td>8</td>\n",
       "    </tr>\n",
       "    <tr>\n",
       "      <th>2</th>\n",
       "      <td>Ganu</td>\n",
       "      <td>6</td>\n",
       "      <td>7</td>\n",
       "    </tr>\n",
       "  </tbody>\n",
       "</table>\n",
       "</div>"
      ],
      "text/plain": [
       "       Name  Marks  Age\n",
       "0     Meera      7    7\n",
       "1  Mirukali      5    8\n",
       "2      Ganu      6    7"
      ]
     },
     "execution_count": 22,
     "metadata": {},
     "output_type": "execute_result"
    }
   ],
   "source": [
    "df = pd.DataFrame({\"Name\": [\"Meera\", \"Mirukali\", \"Ganu\"], \"Marks\": [7, 5, 6], \"Age\": [7, 8, 7]})\n",
    "df"
   ]
  },
  {
   "cell_type": "code",
   "execution_count": 23,
   "id": "b8920b77",
   "metadata": {},
   "outputs": [
    {
     "data": {
      "text/plain": [
       "pandas.core.frame.DataFrame"
      ]
     },
     "execution_count": 23,
     "metadata": {},
     "output_type": "execute_result"
    }
   ],
   "source": [
    "type(df)"
   ]
  },
  {
   "cell_type": "code",
   "execution_count": 5,
   "id": "1095d261",
   "metadata": {},
   "outputs": [
    {
     "data": {
      "text/html": [
       "<div>\n",
       "<style scoped>\n",
       "    .dataframe tbody tr th:only-of-type {\n",
       "        vertical-align: middle;\n",
       "    }\n",
       "\n",
       "    .dataframe tbody tr th {\n",
       "        vertical-align: top;\n",
       "    }\n",
       "\n",
       "    .dataframe thead th {\n",
       "        text-align: right;\n",
       "    }\n",
       "</style>\n",
       "<table border=\"1\" class=\"dataframe\">\n",
       "  <thead>\n",
       "    <tr style=\"text-align: right;\">\n",
       "      <th></th>\n",
       "      <th>sepal_length</th>\n",
       "      <th>sepal_width</th>\n",
       "      <th>petal_length</th>\n",
       "      <th>petal_width</th>\n",
       "      <th>species</th>\n",
       "    </tr>\n",
       "  </thead>\n",
       "  <tbody>\n",
       "    <tr>\n",
       "      <th>0</th>\n",
       "      <td>5.1</td>\n",
       "      <td>3.5</td>\n",
       "      <td>1.4</td>\n",
       "      <td>0.2</td>\n",
       "      <td>setosa</td>\n",
       "    </tr>\n",
       "    <tr>\n",
       "      <th>1</th>\n",
       "      <td>4.9</td>\n",
       "      <td>3.0</td>\n",
       "      <td>1.4</td>\n",
       "      <td>0.2</td>\n",
       "      <td>setosa</td>\n",
       "    </tr>\n",
       "    <tr>\n",
       "      <th>2</th>\n",
       "      <td>4.7</td>\n",
       "      <td>3.2</td>\n",
       "      <td>1.3</td>\n",
       "      <td>0.2</td>\n",
       "      <td>setosa</td>\n",
       "    </tr>\n",
       "    <tr>\n",
       "      <th>3</th>\n",
       "      <td>4.6</td>\n",
       "      <td>3.1</td>\n",
       "      <td>1.5</td>\n",
       "      <td>0.2</td>\n",
       "      <td>setosa</td>\n",
       "    </tr>\n",
       "    <tr>\n",
       "      <th>4</th>\n",
       "      <td>5.0</td>\n",
       "      <td>3.6</td>\n",
       "      <td>1.4</td>\n",
       "      <td>0.2</td>\n",
       "      <td>setosa</td>\n",
       "    </tr>\n",
       "  </tbody>\n",
       "</table>\n",
       "</div>"
      ],
      "text/plain": [
       "   sepal_length  sepal_width  petal_length  petal_width species\n",
       "0           5.1          3.5           1.4          0.2  setosa\n",
       "1           4.9          3.0           1.4          0.2  setosa\n",
       "2           4.7          3.2           1.3          0.2  setosa\n",
       "3           4.6          3.1           1.5          0.2  setosa\n",
       "4           5.0          3.6           1.4          0.2  setosa"
      ]
     },
     "execution_count": 5,
     "metadata": {},
     "output_type": "execute_result"
    }
   ],
   "source": [
    "iris = pd.read_csv('iris.csv')\n",
    "iris.head()"
   ]
  },
  {
   "cell_type": "code",
   "execution_count": 10,
   "id": "c2693eb0",
   "metadata": {},
   "outputs": [
    {
     "data": {
      "text/html": [
       "<div>\n",
       "<style scoped>\n",
       "    .dataframe tbody tr th:only-of-type {\n",
       "        vertical-align: middle;\n",
       "    }\n",
       "\n",
       "    .dataframe tbody tr th {\n",
       "        vertical-align: top;\n",
       "    }\n",
       "\n",
       "    .dataframe thead th {\n",
       "        text-align: right;\n",
       "    }\n",
       "</style>\n",
       "<table border=\"1\" class=\"dataframe\">\n",
       "  <thead>\n",
       "    <tr style=\"text-align: right;\">\n",
       "      <th></th>\n",
       "      <th>sepal_length</th>\n",
       "      <th>sepal_width</th>\n",
       "      <th>petal_length</th>\n",
       "      <th>petal_width</th>\n",
       "      <th>species</th>\n",
       "    </tr>\n",
       "  </thead>\n",
       "  <tbody>\n",
       "    <tr>\n",
       "      <th>145</th>\n",
       "      <td>6.7</td>\n",
       "      <td>3.0</td>\n",
       "      <td>5.2</td>\n",
       "      <td>2.3</td>\n",
       "      <td>virginica</td>\n",
       "    </tr>\n",
       "    <tr>\n",
       "      <th>146</th>\n",
       "      <td>6.3</td>\n",
       "      <td>2.5</td>\n",
       "      <td>5.0</td>\n",
       "      <td>1.9</td>\n",
       "      <td>virginica</td>\n",
       "    </tr>\n",
       "    <tr>\n",
       "      <th>147</th>\n",
       "      <td>6.5</td>\n",
       "      <td>3.0</td>\n",
       "      <td>5.2</td>\n",
       "      <td>2.0</td>\n",
       "      <td>virginica</td>\n",
       "    </tr>\n",
       "    <tr>\n",
       "      <th>148</th>\n",
       "      <td>6.2</td>\n",
       "      <td>3.4</td>\n",
       "      <td>5.4</td>\n",
       "      <td>2.3</td>\n",
       "      <td>virginica</td>\n",
       "    </tr>\n",
       "    <tr>\n",
       "      <th>149</th>\n",
       "      <td>5.9</td>\n",
       "      <td>3.0</td>\n",
       "      <td>5.1</td>\n",
       "      <td>1.8</td>\n",
       "      <td>virginica</td>\n",
       "    </tr>\n",
       "  </tbody>\n",
       "</table>\n",
       "</div>"
      ],
      "text/plain": [
       "     sepal_length  sepal_width  petal_length  petal_width    species\n",
       "145           6.7          3.0           5.2          2.3  virginica\n",
       "146           6.3          2.5           5.0          1.9  virginica\n",
       "147           6.5          3.0           5.2          2.0  virginica\n",
       "148           6.2          3.4           5.4          2.3  virginica\n",
       "149           5.9          3.0           5.1          1.8  virginica"
      ]
     },
     "execution_count": 10,
     "metadata": {},
     "output_type": "execute_result"
    }
   ],
   "source": [
    "iris.tail()"
   ]
  },
  {
   "cell_type": "code",
   "execution_count": 6,
   "id": "c358e649",
   "metadata": {},
   "outputs": [
    {
     "data": {
      "text/plain": [
       "sepal_length    150\n",
       "sepal_width     150\n",
       "petal_length    150\n",
       "petal_width     150\n",
       "species         150\n",
       "dtype: int64"
      ]
     },
     "execution_count": 6,
     "metadata": {},
     "output_type": "execute_result"
    }
   ],
   "source": [
    "iris.count()"
   ]
  },
  {
   "cell_type": "code",
   "execution_count": 9,
   "id": "23228033",
   "metadata": {},
   "outputs": [
    {
     "data": {
      "text/plain": [
       "(150, 5)"
      ]
     },
     "execution_count": 9,
     "metadata": {},
     "output_type": "execute_result"
    }
   ],
   "source": [
    "iris.shape"
   ]
  },
  {
   "cell_type": "code",
   "execution_count": 11,
   "id": "330f7959",
   "metadata": {},
   "outputs": [
    {
     "data": {
      "text/html": [
       "<div>\n",
       "<style scoped>\n",
       "    .dataframe tbody tr th:only-of-type {\n",
       "        vertical-align: middle;\n",
       "    }\n",
       "\n",
       "    .dataframe tbody tr th {\n",
       "        vertical-align: top;\n",
       "    }\n",
       "\n",
       "    .dataframe thead th {\n",
       "        text-align: right;\n",
       "    }\n",
       "</style>\n",
       "<table border=\"1\" class=\"dataframe\">\n",
       "  <thead>\n",
       "    <tr style=\"text-align: right;\">\n",
       "      <th></th>\n",
       "      <th>sepal_length</th>\n",
       "      <th>sepal_width</th>\n",
       "      <th>petal_length</th>\n",
       "      <th>petal_width</th>\n",
       "    </tr>\n",
       "  </thead>\n",
       "  <tbody>\n",
       "    <tr>\n",
       "      <th>count</th>\n",
       "      <td>150.000000</td>\n",
       "      <td>150.000000</td>\n",
       "      <td>150.000000</td>\n",
       "      <td>150.000000</td>\n",
       "    </tr>\n",
       "    <tr>\n",
       "      <th>mean</th>\n",
       "      <td>5.843333</td>\n",
       "      <td>3.054000</td>\n",
       "      <td>3.758667</td>\n",
       "      <td>1.198667</td>\n",
       "    </tr>\n",
       "    <tr>\n",
       "      <th>std</th>\n",
       "      <td>0.828066</td>\n",
       "      <td>0.433594</td>\n",
       "      <td>1.764420</td>\n",
       "      <td>0.763161</td>\n",
       "    </tr>\n",
       "    <tr>\n",
       "      <th>min</th>\n",
       "      <td>4.300000</td>\n",
       "      <td>2.000000</td>\n",
       "      <td>1.000000</td>\n",
       "      <td>0.100000</td>\n",
       "    </tr>\n",
       "    <tr>\n",
       "      <th>25%</th>\n",
       "      <td>5.100000</td>\n",
       "      <td>2.800000</td>\n",
       "      <td>1.600000</td>\n",
       "      <td>0.300000</td>\n",
       "    </tr>\n",
       "    <tr>\n",
       "      <th>50%</th>\n",
       "      <td>5.800000</td>\n",
       "      <td>3.000000</td>\n",
       "      <td>4.350000</td>\n",
       "      <td>1.300000</td>\n",
       "    </tr>\n",
       "    <tr>\n",
       "      <th>75%</th>\n",
       "      <td>6.400000</td>\n",
       "      <td>3.300000</td>\n",
       "      <td>5.100000</td>\n",
       "      <td>1.800000</td>\n",
       "    </tr>\n",
       "    <tr>\n",
       "      <th>max</th>\n",
       "      <td>7.900000</td>\n",
       "      <td>4.400000</td>\n",
       "      <td>6.900000</td>\n",
       "      <td>2.500000</td>\n",
       "    </tr>\n",
       "  </tbody>\n",
       "</table>\n",
       "</div>"
      ],
      "text/plain": [
       "       sepal_length  sepal_width  petal_length  petal_width\n",
       "count    150.000000   150.000000    150.000000   150.000000\n",
       "mean       5.843333     3.054000      3.758667     1.198667\n",
       "std        0.828066     0.433594      1.764420     0.763161\n",
       "min        4.300000     2.000000      1.000000     0.100000\n",
       "25%        5.100000     2.800000      1.600000     0.300000\n",
       "50%        5.800000     3.000000      4.350000     1.300000\n",
       "75%        6.400000     3.300000      5.100000     1.800000\n",
       "max        7.900000     4.400000      6.900000     2.500000"
      ]
     },
     "execution_count": 11,
     "metadata": {},
     "output_type": "execute_result"
    }
   ],
   "source": [
    "iris.describe()"
   ]
  },
  {
   "cell_type": "code",
   "execution_count": 12,
   "id": "a7eb6172",
   "metadata": {},
   "outputs": [
    {
     "data": {
      "text/plain": [
       "sepal_length       5.1\n",
       "sepal_width        3.5\n",
       "petal_length       1.4\n",
       "petal_width        0.2\n",
       "species         setosa\n",
       "Name: 0, dtype: object"
      ]
     },
     "execution_count": 12,
     "metadata": {},
     "output_type": "execute_result"
    }
   ],
   "source": [
    "# get individual data from dataframe using .iloc[]\n",
    "iris.iloc[0]"
   ]
  },
  {
   "cell_type": "code",
   "execution_count": 14,
   "id": "ce1744fa",
   "metadata": {},
   "outputs": [
    {
     "data": {
      "text/html": [
       "<div>\n",
       "<style scoped>\n",
       "    .dataframe tbody tr th:only-of-type {\n",
       "        vertical-align: middle;\n",
       "    }\n",
       "\n",
       "    .dataframe tbody tr th {\n",
       "        vertical-align: top;\n",
       "    }\n",
       "\n",
       "    .dataframe thead th {\n",
       "        text-align: right;\n",
       "    }\n",
       "</style>\n",
       "<table border=\"1\" class=\"dataframe\">\n",
       "  <thead>\n",
       "    <tr style=\"text-align: right;\">\n",
       "      <th></th>\n",
       "      <th>sepal_length</th>\n",
       "      <th>sepal_width</th>\n",
       "      <th>petal_length</th>\n",
       "    </tr>\n",
       "  </thead>\n",
       "  <tbody>\n",
       "    <tr>\n",
       "      <th>0</th>\n",
       "      <td>5.1</td>\n",
       "      <td>3.5</td>\n",
       "      <td>1.4</td>\n",
       "    </tr>\n",
       "    <tr>\n",
       "      <th>1</th>\n",
       "      <td>4.9</td>\n",
       "      <td>3.0</td>\n",
       "      <td>1.4</td>\n",
       "    </tr>\n",
       "    <tr>\n",
       "      <th>2</th>\n",
       "      <td>4.7</td>\n",
       "      <td>3.2</td>\n",
       "      <td>1.3</td>\n",
       "    </tr>\n",
       "  </tbody>\n",
       "</table>\n",
       "</div>"
      ],
      "text/plain": [
       "   sepal_length  sepal_width  petal_length\n",
       "0           5.1          3.5           1.4\n",
       "1           4.9          3.0           1.4\n",
       "2           4.7          3.2           1.3"
      ]
     },
     "execution_count": 14,
     "metadata": {},
     "output_type": "execute_result"
    }
   ],
   "source": [
    "# Get first three rows and three column\n",
    "iris.iloc[:3, :3]"
   ]
  },
  {
   "cell_type": "code",
   "execution_count": 15,
   "id": "ec78f337",
   "metadata": {},
   "outputs": [
    {
     "data": {
      "text/html": [
       "<div>\n",
       "<style scoped>\n",
       "    .dataframe tbody tr th:only-of-type {\n",
       "        vertical-align: middle;\n",
       "    }\n",
       "\n",
       "    .dataframe tbody tr th {\n",
       "        vertical-align: top;\n",
       "    }\n",
       "\n",
       "    .dataframe thead th {\n",
       "        text-align: right;\n",
       "    }\n",
       "</style>\n",
       "<table border=\"1\" class=\"dataframe\">\n",
       "  <thead>\n",
       "    <tr style=\"text-align: right;\">\n",
       "      <th></th>\n",
       "      <th>petal_width</th>\n",
       "      <th>species</th>\n",
       "    </tr>\n",
       "  </thead>\n",
       "  <tbody>\n",
       "    <tr>\n",
       "      <th>30</th>\n",
       "      <td>0.2</td>\n",
       "      <td>setosa</td>\n",
       "    </tr>\n",
       "    <tr>\n",
       "      <th>31</th>\n",
       "      <td>0.4</td>\n",
       "      <td>setosa</td>\n",
       "    </tr>\n",
       "    <tr>\n",
       "      <th>32</th>\n",
       "      <td>0.1</td>\n",
       "      <td>setosa</td>\n",
       "    </tr>\n",
       "    <tr>\n",
       "      <th>33</th>\n",
       "      <td>0.2</td>\n",
       "      <td>setosa</td>\n",
       "    </tr>\n",
       "    <tr>\n",
       "      <th>34</th>\n",
       "      <td>0.1</td>\n",
       "      <td>setosa</td>\n",
       "    </tr>\n",
       "    <tr>\n",
       "      <th>35</th>\n",
       "      <td>0.2</td>\n",
       "      <td>setosa</td>\n",
       "    </tr>\n",
       "    <tr>\n",
       "      <th>36</th>\n",
       "      <td>0.2</td>\n",
       "      <td>setosa</td>\n",
       "    </tr>\n",
       "    <tr>\n",
       "      <th>37</th>\n",
       "      <td>0.1</td>\n",
       "      <td>setosa</td>\n",
       "    </tr>\n",
       "    <tr>\n",
       "      <th>38</th>\n",
       "      <td>0.2</td>\n",
       "      <td>setosa</td>\n",
       "    </tr>\n",
       "    <tr>\n",
       "      <th>39</th>\n",
       "      <td>0.2</td>\n",
       "      <td>setosa</td>\n",
       "    </tr>\n",
       "  </tbody>\n",
       "</table>\n",
       "</div>"
      ],
      "text/plain": [
       "    petal_width species\n",
       "30          0.2  setosa\n",
       "31          0.4  setosa\n",
       "32          0.1  setosa\n",
       "33          0.2  setosa\n",
       "34          0.1  setosa\n",
       "35          0.2  setosa\n",
       "36          0.2  setosa\n",
       "37          0.1  setosa\n",
       "38          0.2  setosa\n",
       "39          0.2  setosa"
      ]
     },
     "execution_count": 15,
     "metadata": {},
     "output_type": "execute_result"
    }
   ],
   "source": [
    "iris.iloc[30:40, 3:]"
   ]
  },
  {
   "cell_type": "code",
   "execution_count": 19,
   "id": "1894825f",
   "metadata": {},
   "outputs": [
    {
     "data": {
      "text/html": [
       "<div>\n",
       "<style scoped>\n",
       "    .dataframe tbody tr th:only-of-type {\n",
       "        vertical-align: middle;\n",
       "    }\n",
       "\n",
       "    .dataframe tbody tr th {\n",
       "        vertical-align: top;\n",
       "    }\n",
       "\n",
       "    .dataframe thead th {\n",
       "        text-align: right;\n",
       "    }\n",
       "</style>\n",
       "<table border=\"1\" class=\"dataframe\">\n",
       "  <thead>\n",
       "    <tr style=\"text-align: right;\">\n",
       "      <th></th>\n",
       "      <th>sepal_length</th>\n",
       "      <th>petal_length</th>\n",
       "    </tr>\n",
       "  </thead>\n",
       "  <tbody>\n",
       "    <tr>\n",
       "      <th>30</th>\n",
       "      <td>4.8</td>\n",
       "      <td>1.6</td>\n",
       "    </tr>\n",
       "    <tr>\n",
       "      <th>31</th>\n",
       "      <td>5.4</td>\n",
       "      <td>1.5</td>\n",
       "    </tr>\n",
       "    <tr>\n",
       "      <th>32</th>\n",
       "      <td>5.2</td>\n",
       "      <td>1.5</td>\n",
       "    </tr>\n",
       "    <tr>\n",
       "      <th>33</th>\n",
       "      <td>5.5</td>\n",
       "      <td>1.4</td>\n",
       "    </tr>\n",
       "    <tr>\n",
       "      <th>34</th>\n",
       "      <td>4.9</td>\n",
       "      <td>1.5</td>\n",
       "    </tr>\n",
       "    <tr>\n",
       "      <th>35</th>\n",
       "      <td>5.0</td>\n",
       "      <td>1.2</td>\n",
       "    </tr>\n",
       "    <tr>\n",
       "      <th>36</th>\n",
       "      <td>5.5</td>\n",
       "      <td>1.3</td>\n",
       "    </tr>\n",
       "    <tr>\n",
       "      <th>37</th>\n",
       "      <td>4.9</td>\n",
       "      <td>1.5</td>\n",
       "    </tr>\n",
       "    <tr>\n",
       "      <th>38</th>\n",
       "      <td>4.4</td>\n",
       "      <td>1.3</td>\n",
       "    </tr>\n",
       "    <tr>\n",
       "      <th>39</th>\n",
       "      <td>5.1</td>\n",
       "      <td>1.5</td>\n",
       "    </tr>\n",
       "    <tr>\n",
       "      <th>40</th>\n",
       "      <td>5.0</td>\n",
       "      <td>1.3</td>\n",
       "    </tr>\n",
       "  </tbody>\n",
       "</table>\n",
       "</div>"
      ],
      "text/plain": [
       "    sepal_length  petal_length\n",
       "30           4.8           1.6\n",
       "31           5.4           1.5\n",
       "32           5.2           1.5\n",
       "33           5.5           1.4\n",
       "34           4.9           1.5\n",
       "35           5.0           1.2\n",
       "36           5.5           1.3\n",
       "37           4.9           1.5\n",
       "38           4.4           1.3\n",
       "39           5.1           1.5\n",
       "40           5.0           1.3"
      ]
     },
     "execution_count": 19,
     "metadata": {},
     "output_type": "execute_result"
    }
   ],
   "source": [
    "iris.loc[30:40, (\"sepal_length\", \"petal_length\")]"
   ]
  },
  {
   "cell_type": "code",
   "execution_count": 20,
   "id": "a96079ab",
   "metadata": {},
   "outputs": [
    {
     "data": {
      "text/html": [
       "<div>\n",
       "<style scoped>\n",
       "    .dataframe tbody tr th:only-of-type {\n",
       "        vertical-align: middle;\n",
       "    }\n",
       "\n",
       "    .dataframe tbody tr th {\n",
       "        vertical-align: top;\n",
       "    }\n",
       "\n",
       "    .dataframe thead th {\n",
       "        text-align: right;\n",
       "    }\n",
       "</style>\n",
       "<table border=\"1\" class=\"dataframe\">\n",
       "  <thead>\n",
       "    <tr style=\"text-align: right;\">\n",
       "      <th></th>\n",
       "      <th>sepal_length</th>\n",
       "      <th>sepal_width</th>\n",
       "      <th>petal_length</th>\n",
       "      <th>petal_width</th>\n",
       "      <th>species</th>\n",
       "    </tr>\n",
       "  </thead>\n",
       "  <tbody>\n",
       "    <tr>\n",
       "      <th>0</th>\n",
       "      <td>5.1</td>\n",
       "      <td>3.5</td>\n",
       "      <td>1.4</td>\n",
       "      <td>0.2</td>\n",
       "      <td>setosa</td>\n",
       "    </tr>\n",
       "    <tr>\n",
       "      <th>1</th>\n",
       "      <td>4.9</td>\n",
       "      <td>3.0</td>\n",
       "      <td>1.4</td>\n",
       "      <td>0.2</td>\n",
       "      <td>setosa</td>\n",
       "    </tr>\n",
       "    <tr>\n",
       "      <th>2</th>\n",
       "      <td>4.7</td>\n",
       "      <td>3.2</td>\n",
       "      <td>1.3</td>\n",
       "      <td>0.2</td>\n",
       "      <td>setosa</td>\n",
       "    </tr>\n",
       "    <tr>\n",
       "      <th>3</th>\n",
       "      <td>4.6</td>\n",
       "      <td>3.1</td>\n",
       "      <td>1.5</td>\n",
       "      <td>0.2</td>\n",
       "      <td>setosa</td>\n",
       "    </tr>\n",
       "    <tr>\n",
       "      <th>4</th>\n",
       "      <td>5.0</td>\n",
       "      <td>3.6</td>\n",
       "      <td>1.4</td>\n",
       "      <td>0.2</td>\n",
       "      <td>setosa</td>\n",
       "    </tr>\n",
       "  </tbody>\n",
       "</table>\n",
       "</div>"
      ],
      "text/plain": [
       "   sepal_length  sepal_width  petal_length  petal_width species\n",
       "0           5.1          3.5           1.4          0.2  setosa\n",
       "1           4.9          3.0           1.4          0.2  setosa\n",
       "2           4.7          3.2           1.3          0.2  setosa\n",
       "3           4.6          3.1           1.5          0.2  setosa\n",
       "4           5.0          3.6           1.4          0.2  setosa"
      ]
     },
     "execution_count": 20,
     "metadata": {},
     "output_type": "execute_result"
    }
   ],
   "source": [
    "iris.head()"
   ]
  },
  {
   "cell_type": "code",
   "execution_count": 23,
   "id": "c9071fb5",
   "metadata": {},
   "outputs": [
    {
     "data": {
      "text/html": [
       "<div>\n",
       "<style scoped>\n",
       "    .dataframe tbody tr th:only-of-type {\n",
       "        vertical-align: middle;\n",
       "    }\n",
       "\n",
       "    .dataframe tbody tr th {\n",
       "        vertical-align: top;\n",
       "    }\n",
       "\n",
       "    .dataframe thead th {\n",
       "        text-align: right;\n",
       "    }\n",
       "</style>\n",
       "<table border=\"1\" class=\"dataframe\">\n",
       "  <thead>\n",
       "    <tr style=\"text-align: right;\">\n",
       "      <th></th>\n",
       "      <th>sepal_width</th>\n",
       "      <th>petal_length</th>\n",
       "      <th>petal_width</th>\n",
       "      <th>species</th>\n",
       "    </tr>\n",
       "  </thead>\n",
       "  <tbody>\n",
       "    <tr>\n",
       "      <th>0</th>\n",
       "      <td>3.5</td>\n",
       "      <td>1.4</td>\n",
       "      <td>0.2</td>\n",
       "      <td>setosa</td>\n",
       "    </tr>\n",
       "    <tr>\n",
       "      <th>1</th>\n",
       "      <td>3.0</td>\n",
       "      <td>1.4</td>\n",
       "      <td>0.2</td>\n",
       "      <td>setosa</td>\n",
       "    </tr>\n",
       "    <tr>\n",
       "      <th>2</th>\n",
       "      <td>3.2</td>\n",
       "      <td>1.3</td>\n",
       "      <td>0.2</td>\n",
       "      <td>setosa</td>\n",
       "    </tr>\n",
       "    <tr>\n",
       "      <th>3</th>\n",
       "      <td>3.1</td>\n",
       "      <td>1.5</td>\n",
       "      <td>0.2</td>\n",
       "      <td>setosa</td>\n",
       "    </tr>\n",
       "    <tr>\n",
       "      <th>4</th>\n",
       "      <td>3.6</td>\n",
       "      <td>1.4</td>\n",
       "      <td>0.2</td>\n",
       "      <td>setosa</td>\n",
       "    </tr>\n",
       "    <tr>\n",
       "      <th>...</th>\n",
       "      <td>...</td>\n",
       "      <td>...</td>\n",
       "      <td>...</td>\n",
       "      <td>...</td>\n",
       "    </tr>\n",
       "    <tr>\n",
       "      <th>145</th>\n",
       "      <td>3.0</td>\n",
       "      <td>5.2</td>\n",
       "      <td>2.3</td>\n",
       "      <td>virginica</td>\n",
       "    </tr>\n",
       "    <tr>\n",
       "      <th>146</th>\n",
       "      <td>2.5</td>\n",
       "      <td>5.0</td>\n",
       "      <td>1.9</td>\n",
       "      <td>virginica</td>\n",
       "    </tr>\n",
       "    <tr>\n",
       "      <th>147</th>\n",
       "      <td>3.0</td>\n",
       "      <td>5.2</td>\n",
       "      <td>2.0</td>\n",
       "      <td>virginica</td>\n",
       "    </tr>\n",
       "    <tr>\n",
       "      <th>148</th>\n",
       "      <td>3.4</td>\n",
       "      <td>5.4</td>\n",
       "      <td>2.3</td>\n",
       "      <td>virginica</td>\n",
       "    </tr>\n",
       "    <tr>\n",
       "      <th>149</th>\n",
       "      <td>3.0</td>\n",
       "      <td>5.1</td>\n",
       "      <td>1.8</td>\n",
       "      <td>virginica</td>\n",
       "    </tr>\n",
       "  </tbody>\n",
       "</table>\n",
       "<p>150 rows × 4 columns</p>\n",
       "</div>"
      ],
      "text/plain": [
       "     sepal_width  petal_length  petal_width    species\n",
       "0            3.5           1.4          0.2     setosa\n",
       "1            3.0           1.4          0.2     setosa\n",
       "2            3.2           1.3          0.2     setosa\n",
       "3            3.1           1.5          0.2     setosa\n",
       "4            3.6           1.4          0.2     setosa\n",
       "..           ...           ...          ...        ...\n",
       "145          3.0           5.2          2.3  virginica\n",
       "146          2.5           5.0          1.9  virginica\n",
       "147          3.0           5.2          2.0  virginica\n",
       "148          3.4           5.4          2.3  virginica\n",
       "149          3.0           5.1          1.8  virginica\n",
       "\n",
       "[150 rows x 4 columns]"
      ]
     },
     "execution_count": 23,
     "metadata": {},
     "output_type": "execute_result"
    }
   ],
   "source": [
    "# Dropping columns\n",
    "iris.drop('sepal_length', axis=1)"
   ]
  },
  {
   "cell_type": "code",
   "execution_count": 24,
   "id": "2ac50a65",
   "metadata": {},
   "outputs": [
    {
     "data": {
      "text/html": [
       "<div>\n",
       "<style scoped>\n",
       "    .dataframe tbody tr th:only-of-type {\n",
       "        vertical-align: middle;\n",
       "    }\n",
       "\n",
       "    .dataframe tbody tr th {\n",
       "        vertical-align: top;\n",
       "    }\n",
       "\n",
       "    .dataframe thead th {\n",
       "        text-align: right;\n",
       "    }\n",
       "</style>\n",
       "<table border=\"1\" class=\"dataframe\">\n",
       "  <thead>\n",
       "    <tr style=\"text-align: right;\">\n",
       "      <th></th>\n",
       "      <th>sepal_length</th>\n",
       "      <th>sepal_width</th>\n",
       "      <th>petal_length</th>\n",
       "      <th>petal_width</th>\n",
       "      <th>species</th>\n",
       "    </tr>\n",
       "  </thead>\n",
       "  <tbody>\n",
       "    <tr>\n",
       "      <th>0</th>\n",
       "      <td>5.1</td>\n",
       "      <td>3.5</td>\n",
       "      <td>1.4</td>\n",
       "      <td>0.2</td>\n",
       "      <td>setosa</td>\n",
       "    </tr>\n",
       "    <tr>\n",
       "      <th>1</th>\n",
       "      <td>4.9</td>\n",
       "      <td>3.0</td>\n",
       "      <td>1.4</td>\n",
       "      <td>0.2</td>\n",
       "      <td>setosa</td>\n",
       "    </tr>\n",
       "    <tr>\n",
       "      <th>2</th>\n",
       "      <td>4.7</td>\n",
       "      <td>3.2</td>\n",
       "      <td>1.3</td>\n",
       "      <td>0.2</td>\n",
       "      <td>setosa</td>\n",
       "    </tr>\n",
       "    <tr>\n",
       "      <th>3</th>\n",
       "      <td>4.6</td>\n",
       "      <td>3.1</td>\n",
       "      <td>1.5</td>\n",
       "      <td>0.2</td>\n",
       "      <td>setosa</td>\n",
       "    </tr>\n",
       "    <tr>\n",
       "      <th>4</th>\n",
       "      <td>5.0</td>\n",
       "      <td>3.6</td>\n",
       "      <td>1.4</td>\n",
       "      <td>0.2</td>\n",
       "      <td>setosa</td>\n",
       "    </tr>\n",
       "  </tbody>\n",
       "</table>\n",
       "</div>"
      ],
      "text/plain": [
       "   sepal_length  sepal_width  petal_length  petal_width species\n",
       "0           5.1          3.5           1.4          0.2  setosa\n",
       "1           4.9          3.0           1.4          0.2  setosa\n",
       "2           4.7          3.2           1.3          0.2  setosa\n",
       "3           4.6          3.1           1.5          0.2  setosa\n",
       "4           5.0          3.6           1.4          0.2  setosa"
      ]
     },
     "execution_count": 24,
     "metadata": {},
     "output_type": "execute_result"
    }
   ],
   "source": [
    "iris.head()"
   ]
  },
  {
   "cell_type": "code",
   "execution_count": 25,
   "id": "0bb28973",
   "metadata": {},
   "outputs": [
    {
     "data": {
      "text/html": [
       "<div>\n",
       "<style scoped>\n",
       "    .dataframe tbody tr th:only-of-type {\n",
       "        vertical-align: middle;\n",
       "    }\n",
       "\n",
       "    .dataframe tbody tr th {\n",
       "        vertical-align: top;\n",
       "    }\n",
       "\n",
       "    .dataframe thead th {\n",
       "        text-align: right;\n",
       "    }\n",
       "</style>\n",
       "<table border=\"1\" class=\"dataframe\">\n",
       "  <thead>\n",
       "    <tr style=\"text-align: right;\">\n",
       "      <th></th>\n",
       "      <th>sepal_length</th>\n",
       "      <th>sepal_width</th>\n",
       "      <th>petal_length</th>\n",
       "      <th>petal_width</th>\n",
       "      <th>species</th>\n",
       "    </tr>\n",
       "  </thead>\n",
       "  <tbody>\n",
       "    <tr>\n",
       "      <th>0</th>\n",
       "      <td>5.1</td>\n",
       "      <td>3.5</td>\n",
       "      <td>1.4</td>\n",
       "      <td>0.2</td>\n",
       "      <td>setosa</td>\n",
       "    </tr>\n",
       "    <tr>\n",
       "      <th>4</th>\n",
       "      <td>5.0</td>\n",
       "      <td>3.6</td>\n",
       "      <td>1.4</td>\n",
       "      <td>0.2</td>\n",
       "      <td>setosa</td>\n",
       "    </tr>\n",
       "    <tr>\n",
       "      <th>5</th>\n",
       "      <td>5.4</td>\n",
       "      <td>3.9</td>\n",
       "      <td>1.7</td>\n",
       "      <td>0.4</td>\n",
       "      <td>setosa</td>\n",
       "    </tr>\n",
       "    <tr>\n",
       "      <th>6</th>\n",
       "      <td>4.6</td>\n",
       "      <td>3.4</td>\n",
       "      <td>1.4</td>\n",
       "      <td>0.3</td>\n",
       "      <td>setosa</td>\n",
       "    </tr>\n",
       "    <tr>\n",
       "      <th>7</th>\n",
       "      <td>5.0</td>\n",
       "      <td>3.4</td>\n",
       "      <td>1.5</td>\n",
       "      <td>0.2</td>\n",
       "      <td>setosa</td>\n",
       "    </tr>\n",
       "    <tr>\n",
       "      <th>...</th>\n",
       "      <td>...</td>\n",
       "      <td>...</td>\n",
       "      <td>...</td>\n",
       "      <td>...</td>\n",
       "      <td>...</td>\n",
       "    </tr>\n",
       "    <tr>\n",
       "      <th>145</th>\n",
       "      <td>6.7</td>\n",
       "      <td>3.0</td>\n",
       "      <td>5.2</td>\n",
       "      <td>2.3</td>\n",
       "      <td>virginica</td>\n",
       "    </tr>\n",
       "    <tr>\n",
       "      <th>146</th>\n",
       "      <td>6.3</td>\n",
       "      <td>2.5</td>\n",
       "      <td>5.0</td>\n",
       "      <td>1.9</td>\n",
       "      <td>virginica</td>\n",
       "    </tr>\n",
       "    <tr>\n",
       "      <th>147</th>\n",
       "      <td>6.5</td>\n",
       "      <td>3.0</td>\n",
       "      <td>5.2</td>\n",
       "      <td>2.0</td>\n",
       "      <td>virginica</td>\n",
       "    </tr>\n",
       "    <tr>\n",
       "      <th>148</th>\n",
       "      <td>6.2</td>\n",
       "      <td>3.4</td>\n",
       "      <td>5.4</td>\n",
       "      <td>2.3</td>\n",
       "      <td>virginica</td>\n",
       "    </tr>\n",
       "    <tr>\n",
       "      <th>149</th>\n",
       "      <td>5.9</td>\n",
       "      <td>3.0</td>\n",
       "      <td>5.1</td>\n",
       "      <td>1.8</td>\n",
       "      <td>virginica</td>\n",
       "    </tr>\n",
       "  </tbody>\n",
       "</table>\n",
       "<p>147 rows × 5 columns</p>\n",
       "</div>"
      ],
      "text/plain": [
       "     sepal_length  sepal_width  petal_length  petal_width    species\n",
       "0             5.1          3.5           1.4          0.2     setosa\n",
       "4             5.0          3.6           1.4          0.2     setosa\n",
       "5             5.4          3.9           1.7          0.4     setosa\n",
       "6             4.6          3.4           1.4          0.3     setosa\n",
       "7             5.0          3.4           1.5          0.2     setosa\n",
       "..            ...          ...           ...          ...        ...\n",
       "145           6.7          3.0           5.2          2.3  virginica\n",
       "146           6.3          2.5           5.0          1.9  virginica\n",
       "147           6.5          3.0           5.2          2.0  virginica\n",
       "148           6.2          3.4           5.4          2.3  virginica\n",
       "149           5.9          3.0           5.1          1.8  virginica\n",
       "\n",
       "[147 rows x 5 columns]"
      ]
     },
     "execution_count": 25,
     "metadata": {},
     "output_type": "execute_result"
    }
   ],
   "source": [
    "iris.drop([1,2,3], axis=0)"
   ]
  },
  {
   "cell_type": "code",
   "execution_count": null,
   "id": "8e5bba1c",
   "metadata": {},
   "outputs": [],
   "source": [
    "# print(f\"Mean of Iris data is : {iris.mean()}\")\n",
    "iris.mean()"
   ]
  },
  {
   "cell_type": "code",
   "execution_count": null,
   "id": "85d1efd0",
   "metadata": {},
   "outputs": [],
   "source": [
    "iris.median()"
   ]
  },
  {
   "cell_type": "code",
   "execution_count": 29,
   "id": "a1cd9df4",
   "metadata": {},
   "outputs": [
    {
     "data": {
      "text/plain": [
       "sepal_length       4.3\n",
       "sepal_width        2.0\n",
       "petal_length       1.0\n",
       "petal_width        0.1\n",
       "species         setosa\n",
       "dtype: object"
      ]
     },
     "execution_count": 29,
     "metadata": {},
     "output_type": "execute_result"
    }
   ],
   "source": [
    "iris.min()"
   ]
  },
  {
   "cell_type": "code",
   "execution_count": 30,
   "id": "b071970c",
   "metadata": {},
   "outputs": [
    {
     "data": {
      "text/plain": [
       "sepal_length          7.9\n",
       "sepal_width           4.4\n",
       "petal_length          6.9\n",
       "petal_width           2.5\n",
       "species         virginica\n",
       "dtype: object"
      ]
     },
     "execution_count": 30,
     "metadata": {},
     "output_type": "execute_result"
    }
   ],
   "source": [
    "iris.max()"
   ]
  },
  {
   "cell_type": "markdown",
   "id": "3fc3393f",
   "metadata": {},
   "source": [
    "## Matplotlib\n",
    "- Matplotlib is a python library used for data visualisation"
   ]
  },
  {
   "cell_type": "code",
   "execution_count": 31,
   "id": "f064c496",
   "metadata": {},
   "outputs": [],
   "source": [
    "import numpy as np\n",
    "from matplotlib import pyplot as plt"
   ]
  },
  {
   "cell_type": "code",
   "execution_count": 32,
   "id": "3110e6db",
   "metadata": {},
   "outputs": [
    {
     "data": {
      "text/plain": [
       "array([ 1,  2,  3,  4,  5,  6,  7,  8,  9, 10])"
      ]
     },
     "execution_count": 32,
     "metadata": {},
     "output_type": "execute_result"
    }
   ],
   "source": [
    "x = np.arange(1,11)\n",
    "x"
   ]
  },
  {
   "cell_type": "code",
   "execution_count": 34,
   "id": "972373d1",
   "metadata": {},
   "outputs": [
    {
     "data": {
      "text/plain": [
       "array([ 2,  4,  6,  8, 10, 12, 14, 16, 18, 20])"
      ]
     },
     "execution_count": 34,
     "metadata": {},
     "output_type": "execute_result"
    }
   ],
   "source": [
    "y= 2 * x\n",
    "y"
   ]
  },
  {
   "cell_type": "code",
   "execution_count": 37,
   "id": "d32c69fe",
   "metadata": {},
   "outputs": [
    {
     "data": {
      "image/png": "[encoded data removed]",
      "text/plain": [
       "<Figure size 640x480 with 1 Axes>"
      ]
     },
     "metadata": {},
     "output_type": "display_data"
    }
   ],
   "source": [
    "plt.plot(x,y)\n",
    "plt.title(\"Line Graph\")\n",
    "plt.xlabel(\"x-label\")\n",
    "plt.ylabel(\"y-label\")\n",
    "plt.show()"
   ]
  },
  {
   "cell_type": "code",
   "execution_count": 46,
   "id": "c9553efc",
   "metadata": {},
   "outputs": [
    {
     "data": {
      "image/png": "[encoded data removed]",
      "text/plain": [
       "<Figure size 640x480 with 1 Axes>"
      ]
     },
     "metadata": {},
     "output_type": "display_data"
    }
   ],
   "source": [
    "\n",
    "x = np.arange(1,11)\n",
    "y= 2* x\n",
    "y2= 3*x\n",
    "plt.plot(x,y, color='r', linestyle=':', linewidth=3)\n",
    "plt.plot(x,y2, color='b', linestyle=':', linewidth=3)\n",
    "plt.title(\"Line Graph\")\n",
    "plt.xlabel(\"x-label\")\n",
    "plt.ylabel(\"y-label\")\n",
    "plt.grid(True)\n",
    "plt.show()"
   ]
  },
  {
   "cell_type": "code",
   "execution_count": 49,
   "id": "352e62e8",
   "metadata": {},
   "outputs": [
    {
     "data": {
      "image/png": "[encoded data removed]",
      "text/plain": [
       "<Figure size 640x480 with 2 Axes>"
      ]
     },
     "metadata": {},
     "output_type": "display_data"
    }
   ],
   "source": [
    "x = np.arange(1,11)\n",
    "y= 2* x\n",
    "y2= 3*x\n",
    "\n",
    "# plt.title(\"Line Graph\")\n",
    "# plt.xlabel(\"x-label\")\n",
    "# plt.ylabel(\"y-label\")\n",
    "# plt.grid(True)\n",
    "\n",
    "plt.subplot(1,2,1)\n",
    "plt.plot(x,y, color='r', linestyle=':', linewidth=3)\n",
    "plt.subplot(1,2,2)\n",
    "plt.plot(x,y2, color='b', linestyle=':', linewidth=3)\n",
    "\n",
    "plt.show()"
   ]
  },
  {
   "cell_type": "markdown",
   "id": "a17fed9a",
   "metadata": {},
   "source": [
    "## Bar Plot"
   ]
  },
  {
   "cell_type": "code",
   "execution_count": 52,
   "id": "e1374b8b",
   "metadata": {},
   "outputs": [
    {
     "data": {
      "image/png": "[encoded data removed]",
      "text/plain": [
       "<Figure size 640x480 with 1 Axes>"
      ]
     },
     "metadata": {},
     "output_type": "display_data"
    }
   ],
   "source": [
    "x = np.arange(1,11)\n",
    "y= 2* x\n",
    "plt.bar(x,y)\n",
    "plt.title(\"Bar Plot\")\n",
    "plt.xlabel(\"x-label\")\n",
    "plt.ylabel(\"y-label\")\n",
    "plt.show()"
   ]
  },
  {
   "cell_type": "code",
   "execution_count": 56,
   "id": "58c6fbc8",
   "metadata": {},
   "outputs": [
    {
     "data": {
      "image/png": "[encoded data removed]",
      "text/plain": [
       "<Figure size 640x480 with 1 Axes>"
      ]
     },
     "metadata": {},
     "output_type": "display_data"
    }
   ],
   "source": [
    "studets= {\"VaibhaV\": 90, \"Sheetal\": 90, \"Meera\": 95}\n",
    "names = list(studets.keys())\n",
    "marks = list(studets.values())\n",
    "plt.bar(names,marks)\n",
    "plt.title(\"Marks of student\")\n",
    "plt.xlabel(\"Names\")\n",
    "plt.ylabel(\"Marks\")\n",
    "plt.grid(True)\n",
    "plt.show()"
   ]
  },
  {
   "cell_type": "code",
   "execution_count": 59,
   "id": "090a8530",
   "metadata": {},
   "outputs": [
    {
     "data": {
      "image/png": "[encoded data removed]",
      "text/plain": [
       "<Figure size 640x480 with 1 Axes>"
      ]
     },
     "metadata": {},
     "output_type": "display_data"
    }
   ],
   "source": [
    "# Horizontal Bar Plot\n",
    "plt.barh(names,marks, color='g')\n",
    "plt.title(\"Marks of student\")\n",
    "plt.xlabel(\"Marks\")\n",
    "plt.ylabel(\"Names\")\n",
    "plt.grid(True)\n",
    "plt.show()"
   ]
  },
  {
   "cell_type": "code",
   "execution_count": 62,
   "id": "e889e300",
   "metadata": {},
   "outputs": [
    {
     "name": "stdout",
     "output_type": "stream",
     "text": [
      "x: [12  3  3 12  7  7  2 16  8  3]\n",
      "y: [12 13  5 17  3 14  1 13  9 11]\n"
     ]
    },
    {
     "data": {
      "image/png": "[encoded data removed]",
      "text/plain": [
       "<Figure size 640x480 with 1 Axes>"
      ]
     },
     "metadata": {},
     "output_type": "display_data"
    }
   ],
   "source": [
    "# Scatter plot\n",
    "x = np.random.randint(1,20,10)\n",
    "print(f\"x: {x}\")\n",
    "y = np.random.randint(1,20,10)\n",
    "print(f\"y: {y}\")\n",
    "plt.scatter(x,y)\n",
    "plt.show()"
   ]
  },
  {
   "cell_type": "code",
   "execution_count": 66,
   "id": "99cedcb2",
   "metadata": {},
   "outputs": [
    {
     "name": "stdout",
     "output_type": "stream",
     "text": [
      "x: [ 5  2  4 14  9 16 10 18 15  7]\n",
      "y: [ 5 11 12 19  6  3 17 13  5 18]\n"
     ]
    },
    {
     "data": {
      "image/png": "[encoded data removed]",
      "text/plain": [
       "<Figure size 640x480 with 1 Axes>"
      ]
     },
     "metadata": {},
     "output_type": "display_data"
    }
   ],
   "source": [
    "x = np.random.randint(1,20,10)\n",
    "print(f\"x: {x}\")\n",
    "y = np.random.randint(1,20,10)\n",
    "print(f\"y: {y}\")\n",
    "plt.scatter(x,y, color='r', marker='*', s=100)\n",
    "plt.show()"
   ]
  },
  {
   "cell_type": "code",
   "execution_count": 69,
   "id": "f205fd4c",
   "metadata": {},
   "outputs": [
    {
     "name": "stdout",
     "output_type": "stream",
     "text": [
      "x: [10  6 17 12 11 10 10 13 12  2]\n",
      "y: [ 7  9 15 15 11 12 11 14  2 13]\n",
      "y2: [ 2 11  2 10 14 14 12  5  9  5]\n"
     ]
    },
    {
     "data": {
      "image/png": "[encoded data removed]",
      "text/plain": [
       "<Figure size 640x480 with 1 Axes>"
      ]
     },
     "metadata": {},
     "output_type": "display_data"
    }
   ],
   "source": [
    "x = np.random.randint(1,20,10)\n",
    "print(f\"x: {x}\")\n",
    "y = np.random.randint(1,20,10)\n",
    "print(f\"y: {y}\")\n",
    "y2 = np.random.randint(1,20,10)\n",
    "print(f\"y2: {y2}\")\n",
    "plt.scatter(x,y, color='r', marker='*', s=100)\n",
    "plt.scatter(x,y2, color='g', marker='.', s=100)\n",
    "plt.show()"
   ]
  },
  {
   "cell_type": "code",
   "execution_count": 71,
   "id": "1c264ea3",
   "metadata": {},
   "outputs": [
    {
     "data": {
      "image/png": "[encoded data removed]",
      "text/plain": [
       "<Figure size 640x480 with 2 Axes>"
      ]
     },
     "metadata": {},
     "output_type": "display_data"
    }
   ],
   "source": [
    "plt.subplot(1,2,1)\n",
    "plt.scatter(x,y, color='r', marker='*', s=100)\n",
    "plt.subplot(1,2,2)\n",
    "plt.scatter(x,y2, color='g', marker='.', s=100)\n",
    "plt.show()"
   ]
  },
  {
   "cell_type": "code",
   "execution_count": 72,
   "id": "55ab6013",
   "metadata": {},
   "outputs": [
    {
     "data": {
      "image/png": "[encoded data removed]",
      "text/plain": [
       "<Figure size 640x480 with 2 Axes>"
      ]
     },
     "metadata": {},
     "output_type": "display_data"
    }
   ],
   "source": [
    "plt.subplot(2,1,1)\n",
    "plt.scatter(x,y, color='r', marker='*', s=100)\n",
    "plt.subplot(2,1,2)\n",
    "plt.scatter(x,y2, color='g', marker='.', s=100)\n",
    "plt.show()"
   ]
  },
  {
   "cell_type": "code",
   "execution_count": 76,
   "id": "bae1fe98",
   "metadata": {},
   "outputs": [
    {
     "name": "stdout",
     "output_type": "stream",
     "text": [
      "x: [10  3  3  7  2  2  9  4  8  2  3  3  3  8  3  9  2  3 10  3]\n"
     ]
    },
    {
     "data": {
      "image/png": "[encoded data removed]",
      "text/plain": [
       "<Figure size 640x480 with 1 Axes>"
      ]
     },
     "metadata": {},
     "output_type": "display_data"
    }
   ],
   "source": [
    "# Histogram\n",
    "\n",
    "x = np.random.randint(1,11,20)\n",
    "print(f\"x: {x}\")\n",
    "plt.hist(x)\n",
    "plt.show()"
   ]
  },
  {
   "cell_type": "code",
   "execution_count": 79,
   "id": "d29af285",
   "metadata": {},
   "outputs": [
    {
     "name": "stdout",
     "output_type": "stream",
     "text": [
      "x: [86  3  6 51 85 30 46 56 41 15 17 33 52 37  3 78  1 27 95 36]\n"
     ]
    },
    {
     "data": {
      "image/png": "[encoded data removed]",
      "text/plain": [
       "<Figure size 640x480 with 1 Axes>"
      ]
     },
     "metadata": {},
     "output_type": "display_data"
    }
   ],
   "source": [
    "x = np.random.randint(1,100,20)\n",
    "print(f\"x: {x}\")\n",
    "plt.hist(x, color='r', bins=10)\n",
    "plt.show()"
   ]
  },
  {
   "cell_type": "code",
   "execution_count": 89,
   "id": "e9c4ed7e",
   "metadata": {},
   "outputs": [
    {
     "name": "stdout",
     "output_type": "stream",
     "text": [
      "   sepal_length  sepal_width  petal_length  petal_width species\n",
      "0           5.1          3.5           1.4          0.2  setosa\n",
      "1           4.9          3.0           1.4          0.2  setosa\n",
      "2           4.7          3.2           1.3          0.2  setosa\n",
      "3           4.6          3.1           1.5          0.2  setosa\n",
      "4           5.0          3.6           1.4          0.2  setosa\n"
     ]
    },
    {
     "data": {
      "image/png": "[encoded data removed]",
      "text/plain": [
       "<Figure size 640x480 with 1 Axes>"
      ]
     },
     "metadata": {},
     "output_type": "display_data"
    }
   ],
   "source": [
    "iris= pd.read_csv('iris.csv')\n",
    "print(iris.head())\n",
    "x= iris['petal_length']\n",
    "plt.hist(x, color='g', bins=50)\n",
    "plt.show()"
   ]
  },
  {
   "cell_type": "code",
   "execution_count": 100,
   "id": "61ce03d3",
   "metadata": {},
   "outputs": [
    {
     "name": "stdout",
     "output_type": "stream",
     "text": [
      "x: [20 36 23 33 20 35 38 47 47 25 46 42 46 49 31 21 48 39 31 41]\n",
      "y: [22 46 49 37 20 47 45 27 28 39 35 48 25 41 27 36 21 39 44 28]\n",
      "z: [40 30 34 38 62 22 10 20 48 33 67 65 26 43 42 36 33 25 63 69 28 31 36 43\n",
      " 13 57 38 27 68 52]\n"
     ]
    },
    {
     "data": {
      "image/png": "[encoded data removed]",
      "text/plain": [
       "<Figure size 640x480 with 1 Axes>"
      ]
     },
     "metadata": {},
     "output_type": "display_data"
    }
   ],
   "source": [
    "# Box Plot\n",
    "\n",
    "x= np.random.randint(20,50,20)\n",
    "y= np.random.randint(20,50,20)\n",
    "z= np.random.randint(10,70,30)\n",
    "print(f\"x: {x}\")\n",
    "print(f\"y: {y}\")\n",
    "print(f\"z: {z}\")\n",
    "data= list([x,y,z])\n",
    "plt.boxplot(data)\n",
    "plt.show()\n",
    "\n"
   ]
  },
  {
   "cell_type": "code",
   "execution_count": 101,
   "id": "84c0b6ad",
   "metadata": {},
   "outputs": [
    {
     "data": {
      "image/png": "[encoded data removed]",
      "text/plain": [
       "<Figure size 640x480 with 1 Axes>"
      ]
     },
     "metadata": {},
     "output_type": "display_data"
    }
   ],
   "source": [
    "plt.violinplot(data, showmedians=True)\n",
    "plt.show()"
   ]
  },
  {
   "cell_type": "code",
   "execution_count": 105,
   "metadata": {},
   "outputs": [
    {
     "data": {
      "image/png": "[encoded data removed]",
      "text/plain": [
       "<Figure size 640x480 with 1 Axes>"
      ]
     },
     "metadata": {},
     "output_type": "display_data"
    }
   ],
   "source": [
    "# Pie-Chart\n",
    "#Dictionary of fruits and their quantity\n",
    "fruits = {'apple': 10, 'banana': 15, 'orange': 20, 'grape': 25, 'pineapple': 30, 'mango': 35}\n",
    "\n",
    "# Create a pie chart\n",
    "plt.pie(fruits.values(), labels=fruits.keys(), autopct='%1.1f%%')\n",
    "plt.show()"
   ]
  },
  {
   "cell_type": "code",
   "execution_count": 106,
   "id": "94ac4212",
   "metadata": {},
   "outputs": [
    {
     "data": {
      "image/png": "[encoded data removed]",
      "text/plain": [
       "<Figure size 640x480 with 1 Axes>"
      ]
     },
     "metadata": {},
     "output_type": "display_data"
    }
   ],
   "source": [
    "# Pie-Chart\n",
    "#Dictionary of fruits and their quantity\n",
    "fruits = {'apple': 10, 'banana': 15, 'orange': 20, 'grape': 25, 'pineapple': 30, 'mango': 35}\n",
    "# Dictinary of colors for above furits\n",
    "colors = {'apple': 'red', 'banana': 'yellow', 'orange': 'orange', 'grape': 'green', 'pineapple': 'pink', 'mango': 'brown'}\n",
    "\n",
    "# Create a pie chart\n",
    "plt.pie(fruits.values(), labels=fruits.keys(), autopct='%1.1f%%', colors=colors.values())\n",
    "plt.show()"
   ]
  },
  {
   "cell_type": "code",
   "execution_count": 110,
   "id": "aaee0f47",
   "metadata": {},
   "outputs": [
    {
     "data": {
      "image/png": "[encoded data removed]",
      "text/plain": [
       "<Figure size 640x480 with 1 Axes>"
      ]
     },
     "metadata": {},
     "output_type": "display_data"
    }
   ],
   "source": [
    "# Donughnut-Chart\n",
    "#Dictionary of fruits and their quantity\n",
    "fruits = {'apple': 10, 'banana': 15, 'orange': 20, 'grape': 25, 'pineapple': 30, 'mango': 35}\n",
    "# Dictinary of colors for above furits\n",
    "colors = {'apple': 'red', 'banana': 'yellow', 'orange': 'orange', 'grape': 'green', 'pineapple': 'pink', 'mango': 'brown'} \n",
    "\n",
    "# Create a donughnut chart\n",
    "plt.pie(fruits.values(), labels=fruits.keys(), autopct='%1.1f%%', colors=colors.values(), wedgeprops={'width': 0.55})\n",
    "plt.show()  "
   ]
  },
  {
   "cell_type": "markdown",
   "id": "0d17fb91",
   "metadata": {},
   "source": [
    "# Seaborn\n",
    "Seaborn is built on top of matplotlib hence , we need to import both seaborn and matplotlib to use seaborn"
   ]
  },
  {
   "cell_type": "code",
   "execution_count": 1,
   "id": "f4da046b",
   "metadata": {},
   "outputs": [],
   "source": [
    "import numpy as np\n",
    "import seaborn as sns\n",
    "from matplotlib import pyplot as plt"
   ]
  },
  {
   "cell_type": "code",
   "execution_count": 3,
   "id": "04c82f4f",
   "metadata": {},
   "outputs": [
    {
     "name": "stdout",
     "output_type": "stream",
     "text": [
      "  subject  timepoint event    region    signal\n",
      "0     s13         18  stim  parietal -0.017552\n",
      "1      s5         14  stim  parietal -0.080883\n",
      "2     s12         18  stim  parietal -0.081033\n",
      "3     s11         18  stim  parietal -0.046134\n",
      "4     s10         18  stim  parietal -0.037970\n"
     ]
    },
    {
     "data": {
      "image/png": "[encoded data removed]",
      "text/plain": [
       "<Figure size 640x480 with 1 Axes>"
      ]
     },
     "metadata": {},
     "output_type": "display_data"
    }
   ],
   "source": [
    "# Line Plot\n",
    "fmri = sns.load_dataset(\"fmri\")\n",
    "print(fmri.head())\n",
    "sns.lineplot(x=\"timepoint\", y=\"signal\", data=fmri )\n",
    "plt.show()"
   ]
  },
  {
   "cell_type": "code",
   "execution_count": null,
   "id": "8c23acae",
   "metadata": {},
   "outputs": [],
   "source": []
  }
 ],
 "metadata": {
  "kernelspec": {
   "display_name": "Python 3 (ipykernel)",
   "language": "python",
   "name": "python3"
  },
  "language_info": {
   "codemirror_mode": {
    "name": "ipython",
    "version": 3
   },
   "file_extension": ".py",
   "mimetype": "text/x-python",
   "name": "python",
   "nbconvert_exporter": "python",
   "pygments_lexer": "ipython3",
   "version": "3.11.9"
  }
 },
 "nbformat": 4,
 "nbformat_minor": 5
}
